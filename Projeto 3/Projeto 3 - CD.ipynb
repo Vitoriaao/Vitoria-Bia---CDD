{
 "cells": [
  {
   "cell_type": "markdown",
   "metadata": {},
   "source": [
    "### Pergunta:"
   ]
  },
  {
   "cell_type": "markdown",
   "metadata": {},
   "source": [
    "## Criando o dataset de teste"
   ]
  },
  {
   "cell_type": "markdown",
   "metadata": {},
   "source": [
    "1) Importando as bibliotecas:"
   ]
  },
  {
   "cell_type": "code",
   "execution_count": 1,
   "metadata": {},
   "outputs": [],
   "source": [
    "import pandas as pd\n",
    "import numpy as np\n",
    "import spotipy\n",
    "import matplotlib.pyplot as plt\n",
    "import spotipy.util as util\n",
    "from spotipy.oauth2 import SpotifyClientCredentials"
   ]
  },
  {
   "cell_type": "markdown",
   "metadata": {},
   "source": [
    "2) Autenticando o dataset e pegando a playlist do spotify:"
   ]
  },
  {
   "cell_type": "code",
   "execution_count": 2,
   "metadata": {},
   "outputs": [],
   "source": [
    "def show_tracks(tracks):\n",
    "    for i, item in enumerate(tracks['items']):\n",
    "        track = item['track']\n",
    "        print(\"   %d %32.32s %s\" % (i, track['artists'][0]['name'],\n",
    "            track['name']))"
   ]
  },
  {
   "cell_type": "code",
   "execution_count": 3,
   "metadata": {},
   "outputs": [
    {
     "name": "stdout",
     "output_type": "stream",
     "text": [
      "Today's Top Hits\n",
      "   0                    Ariana Grande thank u, next\n",
      "   1                           Halsey Without Me\n",
      "   2                      Post Malone Sunflower - Spider-Man: Into the Spider-Verse\n",
      "   3                     Zara Larsson Ruin My Life\n",
      "   4                     XXXTENTACION Arms Around You (feat. Maluma & Swae Lee)\n",
      "   5                       Little Mix Woman Like Me (feat. Nicki Minaj)\n",
      "   6                  Imagine Dragons Bad Liar\n",
      "   7                             Kygo Happy Now (feat. Sandro Cavazza)\n",
      "   8                   Ellie Goulding Close To Me (with Diplo) (feat. Swae Lee)\n",
      "   9                    Billie Eilish when the party's over\n",
      "   10                          Ava Max Sweet but Psycho\n",
      "   11                     benny blanco I Found You (with Calvin Harris)\n",
      "   12                           Khalid Better\n",
      "   13                         Dua Lipa Kiss and Make Up\n",
      "   14                         DJ Snake Taki Taki (with Selena Gomez, Ozuna & Cardi B)\n",
      "   15                     James Arthur Empty Space\n",
      "   16                        Bad Bunny MIA (feat. Drake)\n",
      "   17                         Rita Ora Let You Love Me\n",
      "   18                        Lady Gaga Shallow - Radio Edit\n",
      "   19                       Steve Aoki Waste It On Me (feat. BTS)\n",
      "   20                     Travis Scott SICKO MODE\n",
      "   21                             Lauv There's No Way (feat. Julia Michaels)\n",
      "   22                      Major Lazer Blow That Smoke (feat.Tove Lo)\n",
      "   23                          Cardi B Money\n",
      "   24                           Khalid Suncity (feat. Empress Of)\n",
      "   25                       Marshmello Happier\n",
      "   26                    Maggie Rogers Light On\n",
      "   27                 The Chainsmokers This Feeling (feat. Kelsea Ballerini)\n",
      "   28                       Charli XCX 1999\n",
      "   29                         Lil Peep Falling Down - Bonus Track\n",
      "   30                      Alan Walker Diamond Heart\n",
      "   31                      Kodak Black ZEZE (feat. Travis Scott & Offset)\n",
      "   32                             ZAYN Fingers\n",
      "   33                     David Guetta Say My Name\n",
      "   34                   Camila Cabello Consequences - orchestra\n",
      "   35                          Normani Checklist (with Calvin Harris) (feat. WizKid)\n",
      "   36                      Jess Glynne Thursday\n",
      "   37                      Jack & Jack No One Compares To You\n",
      "   38                       Gucci Mane Wake Up in the Sky\n",
      "   39                        Lady Gaga Always Remember Us This Way\n",
      "   40                            Aminé REEL IT IN\n",
      "   41                     Lukas Graham Love Someone\n",
      "   42                       Jonas Blue Polaroid\n",
      "   43                        Sheck Wes Mo Bamba\n",
      "   44                       Dean Lewis Be Alright\n",
      "   45                     Alessia Cara Trust My Lonely\n",
      "   46                   French Montana No Stylist\n",
      "   47                    Lauren Daigle You Say\n",
      "   48                        Lele Pons Celoso\n",
      "   49                    Avril Lavigne Head Above Water\n"
     ]
    }
   ],
   "source": [
    "client_id = '06af41ff24c04e7fa9c215fb40fb7c3a'\n",
    "client_secret = 'd73b01728a3c452dbfceac8e75f74f87'\n",
    "\n",
    "client_credentials_manager = SpotifyClientCredentials(client_id=client_id, client_secret=client_secret)\n",
    "sp = spotipy.Spotify(client_credentials_manager=client_credentials_manager)\n",
    "\n",
    "\n",
    "lista = []\n",
    "playlists = sp.user_playlists('spotify')\n",
    "for playlist in playlists['items']:\n",
    "    if playlist['name'] == \"Today's Top Hits\":\n",
    "        print(playlist['name'])\n",
    "        results = sp.user_playlist('spotify', playlist['id'], fields='tracks')\n",
    "        tracks = results['tracks']\n",
    "        show_tracks(tracks)\n",
    "        lista.append(tracks)"
   ]
  },
  {
   "cell_type": "markdown",
   "metadata": {},
   "source": [
    "3) Criando uma lista com os ids das músicas a serem analisadas:"
   ]
  },
  {
   "cell_type": "code",
   "execution_count": 4,
   "metadata": {
    "scrolled": true
   },
   "outputs": [
    {
     "data": {
      "text/plain": [
       "['2rPE9A1vEgShuZxxzR2tZH',\n",
       " '5p7ujcrUXASCNwRaWNHR1C',\n",
       " '1A6OTy97kk0mMdm78rHsm8',\n",
       " '5tAa8Uaqr4VvA3693mbIhU',\n",
       " '2LskIZrCeLxRvCiGP8gxlh',\n",
       " '6rrTr2HEAzlpC4KWZxF3S1',\n",
       " '2RSHsoi04658QL5xgQVov3',\n",
       " '14sOS5L36385FJ3OL8hew4',\n",
       " '5JEx7HbmvHQQswJCsoo9rA',\n",
       " '14JzyD6FlBD5z0wV5P07YI',\n",
       " '25sgk305KZfyuqVBQIahim',\n",
       " '5sdb5pMhcK44SSLsj1moUh',\n",
       " '4T3fNx3CgwDRRYgmFCbD4J',\n",
       " '7jr3iPu4O4bTCVwLMbdU2i',\n",
       " '4w8niZpiMy6qz1mntFA5uM',\n",
       " '1uru26I2JKd2mQZt0MDCUe',\n",
       " '116H0KvKr2Zl4RPuVBruDO',\n",
       " '6xtcFXSo8H9BZN637BMVKS',\n",
       " '6QfS2wq5sSC1xAJCQsTSlj',\n",
       " '2r1T6xGTVaNAqBoPH4lZEE',\n",
       " '2xLMifQCjDGFmkHkpNLD9h',\n",
       " '2hnxrRNzF74mdDzpQZQukQ',\n",
       " '58zQ7Xs38d8nDIv49iiEkX',\n",
       " '2GGMabyHXnJmjY6CXhhB2e',\n",
       " '6SkHm6poyKfzV6kc9any8k',\n",
       " '2dpaYNEQHiRxtZbfNsse99',\n",
       " '5AdnkoZJuRJCYqYBIzSqFb',\n",
       " '15kQGEy89K8deJcZVFEn0N',\n",
       " '05mAIVLkIWc2d1UBYZBCp8',\n",
       " '0Dn40gxVCMo5TkgS8Ik18Q',\n",
       " '4J4zx8xGJpuGndrVc06KaT',\n",
       " '7l3E7lcozEodtVsSTCkcaA',\n",
       " '5rBZF2fl4Avi4K0tvrQ0YF',\n",
       " '0YammaEkYSeo9vQYZ1OwS6',\n",
       " '1ArLnG0bHaHPXqf08sEKM0',\n",
       " '6r05pfZigq7Arg25pi2vRm',\n",
       " '3ji4bcQugJj5B6NRGYDNwP',\n",
       " '2jZIfoe48eUeOEnP9Ho4h2',\n",
       " '0QIjsbm2fh1cJ45XO9eGqq',\n",
       " '2rbDhOo9Fh61Bbu23T2qCk',\n",
       " '5qHirGR7M9tdm6C17DlzSY',\n",
       " '2JqnpexlO9dmvjUMCaLCLJ',\n",
       " '1wsLHgXJ4SKIfd5ePSX1hD',\n",
       " '3QybPutx0Tjk472bBKjNWn',\n",
       " '3EPXxR3ImUwfayaurPi3cm',\n",
       " '0qbfdprRS71e9up5pOmbQo',\n",
       " '04MLEeAMuV9IlHEsD8vF6A',\n",
       " '3ngc7rGlfeFaskU90EWl4R',\n",
       " '33zcmmElV1YbRZe57biUjg',\n",
       " '1N7YeVU0ZwAFbOhwM61ef6']"
      ]
     },
     "execution_count": 4,
     "metadata": {},
     "output_type": "execute_result"
    }
   ],
   "source": [
    "lista_id = []\n",
    "for e in range(len(lista[0]['items'])):\n",
    "    lista_id.append(lista[0]['items'][e]['track']['id'])\n",
    "lista_id"
   ]
  },
  {
   "cell_type": "markdown",
   "metadata": {},
   "source": [
    "4) Pegando os dados das músicas:"
   ]
  },
  {
   "cell_type": "code",
   "execution_count": 5,
   "metadata": {},
   "outputs": [
    {
     "name": "stdout",
     "output_type": "stream",
     "text": [
      "[{'danceability': 0.724, 'energy': 0.647, 'key': 1, 'loudness': -5.642, 'mode': 1, 'speechiness': 0.0658, 'acousticness': 0.28, 'instrumentalness': 0, 'liveness': 0.102, 'valence': 0.435, 'tempo': 106.96, 'type': 'audio_features', 'id': '2rPE9A1vEgShuZxxzR2tZH', 'uri': 'spotify:track:2rPE9A1vEgShuZxxzR2tZH', 'track_href': 'https://api.spotify.com/v1/tracks/2rPE9A1vEgShuZxxzR2tZH', 'analysis_url': 'https://api.spotify.com/v1/audio-analysis/2rPE9A1vEgShuZxxzR2tZH', 'duration_ms': 207333, 'time_signature': 4}, {'danceability': 0.752, 'energy': 0.488, 'key': 6, 'loudness': -7.05, 'mode': 1, 'speechiness': 0.0705, 'acousticness': 0.297, 'instrumentalness': 9.11e-06, 'liveness': 0.0936, 'valence': 0.533, 'tempo': 136.041, 'type': 'audio_features', 'id': '5p7ujcrUXASCNwRaWNHR1C', 'uri': 'spotify:track:5p7ujcrUXASCNwRaWNHR1C', 'track_href': 'https://api.spotify.com/v1/tracks/5p7ujcrUXASCNwRaWNHR1C', 'analysis_url': 'https://api.spotify.com/v1/audio-analysis/5p7ujcrUXASCNwRaWNHR1C', 'duration_ms': 201661, 'time_signature': 4}, {'danceability': 0.753, 'energy': 0.498, 'key': 2, 'loudness': -5.61, 'mode': 1, 'speechiness': 0.0504, 'acousticness': 0.551, 'instrumentalness': 0, 'liveness': 0.0706, 'valence': 0.927, 'tempo': 89.95, 'type': 'audio_features', 'id': '1A6OTy97kk0mMdm78rHsm8', 'uri': 'spotify:track:1A6OTy97kk0mMdm78rHsm8', 'track_href': 'https://api.spotify.com/v1/tracks/1A6OTy97kk0mMdm78rHsm8', 'analysis_url': 'https://api.spotify.com/v1/audio-analysis/1A6OTy97kk0mMdm78rHsm8', 'duration_ms': 158053, 'time_signature': 4}, {'danceability': 0.665, 'energy': 0.699, 'key': 11, 'loudness': -5.265, 'mode': 1, 'speechiness': 0.0578, 'acousticness': 0.423, 'instrumentalness': 0, 'liveness': 0.0969, 'valence': 0.585, 'tempo': 124.896, 'type': 'audio_features', 'id': '5tAa8Uaqr4VvA3693mbIhU', 'uri': 'spotify:track:5tAa8Uaqr4VvA3693mbIhU', 'track_href': 'https://api.spotify.com/v1/tracks/5tAa8Uaqr4VvA3693mbIhU', 'analysis_url': 'https://api.spotify.com/v1/audio-analysis/5tAa8Uaqr4VvA3693mbIhU', 'duration_ms': 190932, 'time_signature': 4}, {'danceability': 0.703, 'energy': 0.723, 'key': 9, 'loudness': -5.45, 'mode': 0, 'speechiness': 0.0412, 'acousticness': 0.0302, 'instrumentalness': 2.06e-06, 'liveness': 0.126, 'valence': 0.288, 'tempo': 104.969, 'type': 'audio_features', 'id': '2LskIZrCeLxRvCiGP8gxlh', 'uri': 'spotify:track:2LskIZrCeLxRvCiGP8gxlh', 'track_href': 'https://api.spotify.com/v1/tracks/2LskIZrCeLxRvCiGP8gxlh', 'analysis_url': 'https://api.spotify.com/v1/audio-analysis/2LskIZrCeLxRvCiGP8gxlh', 'duration_ms': 198903, 'time_signature': 4}, {'danceability': 0.757, 'energy': 0.849, 'key': 5, 'loudness': -3.424, 'mode': 0, 'speechiness': 0.0536, 'acousticness': 0.173, 'instrumentalness': 0, 'liveness': 0.0878, 'valence': 0.826, 'tempo': 150.036, 'type': 'audio_features', 'id': '6rrTr2HEAzlpC4KWZxF3S1', 'uri': 'spotify:track:6rrTr2HEAzlpC4KWZxF3S1', 'track_href': 'https://api.spotify.com/v1/tracks/6rrTr2HEAzlpC4KWZxF3S1', 'analysis_url': 'https://api.spotify.com/v1/audio-analysis/6rrTr2HEAzlpC4KWZxF3S1', 'duration_ms': 228207, 'time_signature': 4}, {'danceability': 0.383, 'energy': 0.637, 'key': 3, 'loudness': -6.993, 'mode': 1, 'speechiness': 0.0703, 'acousticness': 0.0722, 'instrumentalness': 0, 'liveness': 0.368, 'valence': 0.0827, 'tempo': 177.913, 'type': 'audio_features', 'id': '2RSHsoi04658QL5xgQVov3', 'uri': 'spotify:track:2RSHsoi04658QL5xgQVov3', 'track_href': 'https://api.spotify.com/v1/tracks/2RSHsoi04658QL5xgQVov3', 'analysis_url': 'https://api.spotify.com/v1/audio-analysis/2RSHsoi04658QL5xgQVov3', 'duration_ms': 260773, 'time_signature': 4}, {'danceability': 0.693, 'energy': 0.575, 'key': 9, 'loudness': -6.998, 'mode': 1, 'speechiness': 0.0801, 'acousticness': 0.374, 'instrumentalness': 0, 'liveness': 0.252, 'valence': 0.492, 'tempo': 117.999, 'type': 'audio_features', 'id': '14sOS5L36385FJ3OL8hew4', 'uri': 'spotify:track:14sOS5L36385FJ3OL8hew4', 'track_href': 'https://api.spotify.com/v1/tracks/14sOS5L36385FJ3OL8hew4', 'analysis_url': 'https://api.spotify.com/v1/audio-analysis/14sOS5L36385FJ3OL8hew4', 'duration_ms': 211362, 'time_signature': 4}, {'danceability': 0.574, 'energy': 0.758, 'key': 1, 'loudness': -5.029, 'mode': 0, 'speechiness': 0.0621, 'acousticness': 0.0969, 'instrumentalness': 0, 'liveness': 0.395, 'valence': 0.492, 'tempo': 144.111, 'type': 'audio_features', 'id': '5JEx7HbmvHQQswJCsoo9rA', 'uri': 'spotify:track:5JEx7HbmvHQQswJCsoo9rA', 'track_href': 'https://api.spotify.com/v1/tracks/5JEx7HbmvHQQswJCsoo9rA', 'analysis_url': 'https://api.spotify.com/v1/audio-analysis/5JEx7HbmvHQQswJCsoo9rA', 'duration_ms': 182623, 'time_signature': 4}, {'danceability': 0.498, 'energy': 0.104, 'key': 1, 'loudness': -14.08, 'mode': 0, 'speechiness': 0.0621, 'acousticness': 0.979, 'instrumentalness': 7.86e-05, 'liveness': 0.0895, 'valence': 0.205, 'tempo': 124.001, 'type': 'audio_features', 'id': '14JzyD6FlBD5z0wV5P07YI', 'uri': 'spotify:track:14JzyD6FlBD5z0wV5P07YI', 'track_href': 'https://api.spotify.com/v1/tracks/14JzyD6FlBD5z0wV5P07YI', 'analysis_url': 'https://api.spotify.com/v1/audio-analysis/14JzyD6FlBD5z0wV5P07YI', 'duration_ms': 199931, 'time_signature': 3}, {'danceability': 0.719, 'energy': 0.704, 'key': 1, 'loudness': -4.724, 'mode': 1, 'speechiness': 0.0476, 'acousticness': 0.0691, 'instrumentalness': 0, 'liveness': 0.166, 'valence': 0.628, 'tempo': 133.002, 'type': 'audio_features', 'id': '25sgk305KZfyuqVBQIahim', 'uri': 'spotify:track:25sgk305KZfyuqVBQIahim', 'track_href': 'https://api.spotify.com/v1/tracks/25sgk305KZfyuqVBQIahim', 'analysis_url': 'https://api.spotify.com/v1/audio-analysis/25sgk305KZfyuqVBQIahim', 'duration_ms': 187436, 'time_signature': 4}, {'danceability': 0.805, 'energy': 0.87, 'key': 6, 'loudness': -4.181, 'mode': 1, 'speechiness': 0.0439, 'acousticness': 0.035, 'instrumentalness': 0.0882, 'liveness': 0.294, 'valence': 0.386, 'tempo': 122.996, 'type': 'audio_features', 'id': '5sdb5pMhcK44SSLsj1moUh', 'uri': 'spotify:track:5sdb5pMhcK44SSLsj1moUh', 'track_href': 'https://api.spotify.com/v1/tracks/5sdb5pMhcK44SSLsj1moUh', 'analysis_url': 'https://api.spotify.com/v1/audio-analysis/5sdb5pMhcK44SSLsj1moUh', 'duration_ms': 191496, 'time_signature': 4}, {'danceability': 0.442, 'energy': 0.585, 'key': 0, 'loudness': -10.332, 'mode': 0, 'speechiness': 0.0964, 'acousticness': 0.0984, 'instrumentalness': 0.391, 'liveness': 0.14, 'valence': 0.116, 'tempo': 97.565, 'type': 'audio_features', 'id': '4T3fNx3CgwDRRYgmFCbD4J', 'uri': 'spotify:track:4T3fNx3CgwDRRYgmFCbD4J', 'track_href': 'https://api.spotify.com/v1/tracks/4T3fNx3CgwDRRYgmFCbD4J', 'analysis_url': 'https://api.spotify.com/v1/audio-analysis/4T3fNx3CgwDRRYgmFCbD4J', 'duration_ms': 229413, 'time_signature': 4}, {'danceability': 0.678, 'energy': 0.729, 'key': 8, 'loudness': -4.188, 'mode': 1, 'speechiness': 0.137, 'acousticness': 0.0658, 'instrumentalness': 0, 'liveness': 0.303, 'valence': 0.643, 'tempo': 99.895, 'type': 'audio_features', 'id': '7jr3iPu4O4bTCVwLMbdU2i', 'uri': 'spotify:track:7jr3iPu4O4bTCVwLMbdU2i', 'track_href': 'https://api.spotify.com/v1/tracks/7jr3iPu4O4bTCVwLMbdU2i', 'analysis_url': 'https://api.spotify.com/v1/audio-analysis/7jr3iPu4O4bTCVwLMbdU2i', 'duration_ms': 189173, 'time_signature': 4}, {'danceability': 0.841, 'energy': 0.798, 'key': 1, 'loudness': -4.206, 'mode': 0, 'speechiness': 0.229, 'acousticness': 0.153, 'instrumentalness': 3.33e-06, 'liveness': 0.0618, 'valence': 0.591, 'tempo': 95.948, 'type': 'audio_features', 'id': '4w8niZpiMy6qz1mntFA5uM', 'uri': 'spotify:track:4w8niZpiMy6qz1mntFA5uM', 'track_href': 'https://api.spotify.com/v1/tracks/4w8niZpiMy6qz1mntFA5uM', 'analysis_url': 'https://api.spotify.com/v1/audio-analysis/4w8niZpiMy6qz1mntFA5uM', 'duration_ms': 212500, 'time_signature': 4}, {'danceability': 0.404, 'energy': 0.531, 'key': 1, 'loudness': -4.328, 'mode': 1, 'speechiness': 0.103, 'acousticness': 0.215, 'instrumentalness': 0, 'liveness': 0.0521, 'valence': 0.321, 'tempo': 164.848, 'type': 'audio_features', 'id': '1uru26I2JKd2mQZt0MDCUe', 'uri': 'spotify:track:1uru26I2JKd2mQZt0MDCUe', 'track_href': 'https://api.spotify.com/v1/tracks/1uru26I2JKd2mQZt0MDCUe', 'analysis_url': 'https://api.spotify.com/v1/audio-analysis/1uru26I2JKd2mQZt0MDCUe', 'duration_ms': 214227, 'time_signature': 4}, {'danceability': 0.817, 'energy': 0.539, 'key': 6, 'loudness': -6.349, 'mode': 0, 'speechiness': 0.0621, 'acousticness': 0.0141, 'instrumentalness': 0.000496, 'liveness': 0.099, 'valence': 0.158, 'tempo': 97.062, 'type': 'audio_features', 'id': '116H0KvKr2Zl4RPuVBruDO', 'uri': 'spotify:track:116H0KvKr2Zl4RPuVBruDO', 'track_href': 'https://api.spotify.com/v1/tracks/116H0KvKr2Zl4RPuVBruDO', 'analysis_url': 'https://api.spotify.com/v1/audio-analysis/116H0KvKr2Zl4RPuVBruDO', 'duration_ms': 210368, 'time_signature': 4}, {'danceability': 0.531, 'energy': 0.854, 'key': 10, 'loudness': -3.149, 'mode': 1, 'speechiness': 0.198, 'acousticness': 0.288, 'instrumentalness': 0, 'liveness': 0.0773, 'valence': 0.456, 'tempo': 94.419, 'type': 'audio_features', 'id': '6xtcFXSo8H9BZN637BMVKS', 'uri': 'spotify:track:6xtcFXSo8H9BZN637BMVKS', 'track_href': 'https://api.spotify.com/v1/tracks/6xtcFXSo8H9BZN637BMVKS', 'analysis_url': 'https://api.spotify.com/v1/audio-analysis/6xtcFXSo8H9BZN637BMVKS', 'duration_ms': 190000, 'time_signature': 4}, {'danceability': 0.575, 'energy': 0.33, 'key': 7, 'loudness': -6.557, 'mode': 1, 'speechiness': 0.031, 'acousticness': 0.416, 'instrumentalness': 0, 'liveness': 0.0872, 'valence': 0.277, 'tempo': 95.801, 'type': 'audio_features', 'id': '6QfS2wq5sSC1xAJCQsTSlj', 'uri': 'spotify:track:6QfS2wq5sSC1xAJCQsTSlj', 'track_href': 'https://api.spotify.com/v1/tracks/6QfS2wq5sSC1xAJCQsTSlj', 'analysis_url': 'https://api.spotify.com/v1/audio-analysis/6QfS2wq5sSC1xAJCQsTSlj', 'duration_ms': 217213, 'time_signature': 4}, {'danceability': 0.669, 'energy': 0.684, 'key': 7, 'loudness': -4.595, 'mode': 1, 'speechiness': 0.0585, 'acousticness': 0.252, 'instrumentalness': 0, 'liveness': 0.72, 'valence': 0.466, 'tempo': 96.097, 'type': 'audio_features', 'id': '2r1T6xGTVaNAqBoPH4lZEE', 'uri': 'spotify:track:2r1T6xGTVaNAqBoPH4lZEE', 'track_href': 'https://api.spotify.com/v1/tracks/2r1T6xGTVaNAqBoPH4lZEE', 'analysis_url': 'https://api.spotify.com/v1/audio-analysis/2r1T6xGTVaNAqBoPH4lZEE', 'duration_ms': 192537, 'time_signature': 4}, {'danceability': 0.834, 'energy': 0.73, 'key': 8, 'loudness': -3.714, 'mode': 1, 'speechiness': 0.222, 'acousticness': 0.00513, 'instrumentalness': 0, 'liveness': 0.124, 'valence': 0.446, 'tempo': 155.008, 'type': 'audio_features', 'id': '2xLMifQCjDGFmkHkpNLD9h', 'uri': 'spotify:track:2xLMifQCjDGFmkHkpNLD9h', 'track_href': 'https://api.spotify.com/v1/tracks/2xLMifQCjDGFmkHkpNLD9h', 'analysis_url': 'https://api.spotify.com/v1/audio-analysis/2xLMifQCjDGFmkHkpNLD9h', 'duration_ms': 312820, 'time_signature': 4}, {'danceability': 0.755, 'energy': 0.625, 'key': 2, 'loudness': -7.114, 'mode': 1, 'speechiness': 0.0896, 'acousticness': 0.49, 'instrumentalness': 0, 'liveness': 0.157, 'valence': 0.374, 'tempo': 147.02, 'type': 'audio_features', 'id': '2hnxrRNzF74mdDzpQZQukQ', 'uri': 'spotify:track:2hnxrRNzF74mdDzpQZQukQ', 'track_href': 'https://api.spotify.com/v1/tracks/2hnxrRNzF74mdDzpQZQukQ', 'analysis_url': 'https://api.spotify.com/v1/audio-analysis/2hnxrRNzF74mdDzpQZQukQ', 'duration_ms': 174861, 'time_signature': 4}, {'danceability': 0.719, 'energy': 0.703, 'key': 5, 'loudness': -4.93, 'mode': 0, 'speechiness': 0.0392, 'acousticness': 0.032, 'instrumentalness': 1.14e-05, 'liveness': 0.0656, 'valence': 0.72, 'tempo': 101.984, 'type': 'audio_features', 'id': '58zQ7Xs38d8nDIv49iiEkX', 'uri': 'spotify:track:58zQ7Xs38d8nDIv49iiEkX', 'track_href': 'https://api.spotify.com/v1/tracks/58zQ7Xs38d8nDIv49iiEkX', 'analysis_url': 'https://api.spotify.com/v1/audio-analysis/58zQ7Xs38d8nDIv49iiEkX', 'duration_ms': 223000, 'time_signature': 4}, {'danceability': 0.95, 'energy': 0.59, 'key': 8, 'loudness': -6.508, 'mode': 0, 'speechiness': 0.29, 'acousticness': 0.00534, 'instrumentalness': 0, 'liveness': 0.11, 'valence': 0.219, 'tempo': 130.003, 'type': 'audio_features', 'id': '2GGMabyHXnJmjY6CXhhB2e', 'uri': 'spotify:track:2GGMabyHXnJmjY6CXhhB2e', 'track_href': 'https://api.spotify.com/v1/tracks/2GGMabyHXnJmjY6CXhhB2e', 'analysis_url': 'https://api.spotify.com/v1/audio-analysis/2GGMabyHXnJmjY6CXhhB2e', 'duration_ms': 183527, 'time_signature': 4}, {'danceability': 0.694, 'energy': 0.63, 'key': 7, 'loudness': -6.84, 'mode': 0, 'speechiness': 0.162, 'acousticness': 0.0998, 'instrumentalness': 0.000635, 'liveness': 0.12, 'valence': 0.341, 'tempo': 90.045, 'type': 'audio_features', 'id': '6SkHm6poyKfzV6kc9any8k', 'uri': 'spotify:track:6SkHm6poyKfzV6kc9any8k', 'track_href': 'https://api.spotify.com/v1/tracks/6SkHm6poyKfzV6kc9any8k', 'analysis_url': 'https://api.spotify.com/v1/audio-analysis/6SkHm6poyKfzV6kc9any8k', 'duration_ms': 189493, 'time_signature': 4}, {'danceability': 0.687, 'energy': 0.792, 'key': 5, 'loudness': -2.749, 'mode': 1, 'speechiness': 0.0452, 'acousticness': 0.191, 'instrumentalness': 0, 'liveness': 0.167, 'valence': 0.671, 'tempo': 100.015, 'type': 'audio_features', 'id': '2dpaYNEQHiRxtZbfNsse99', 'uri': 'spotify:track:2dpaYNEQHiRxtZbfNsse99', 'track_href': 'https://api.spotify.com/v1/tracks/2dpaYNEQHiRxtZbfNsse99', 'analysis_url': 'https://api.spotify.com/v1/audio-analysis/2dpaYNEQHiRxtZbfNsse99', 'duration_ms': 214290, 'time_signature': 4}, {'danceability': 0.657, 'energy': 0.569, 'key': 2, 'loudness': -6.287, 'mode': 1, 'speechiness': 0.0542, 'acousticness': 0.201, 'instrumentalness': 1.38e-05, 'liveness': 0.126, 'valence': 0.399, 'tempo': 102.054, 'type': 'audio_features', 'id': '5AdnkoZJuRJCYqYBIzSqFb', 'uri': 'spotify:track:5AdnkoZJuRJCYqYBIzSqFb', 'track_href': 'https://api.spotify.com/v1/tracks/5AdnkoZJuRJCYqYBIzSqFb', 'analysis_url': 'https://api.spotify.com/v1/audio-analysis/5AdnkoZJuRJCYqYBIzSqFb', 'duration_ms': 233880, 'time_signature': 4}, {'danceability': 0.575, 'energy': 0.571, 'key': 1, 'loudness': -7.906, 'mode': 1, 'speechiness': 0.0439, 'acousticness': 0.0558, 'instrumentalness': 0, 'liveness': 0.0912, 'valence': 0.449, 'tempo': 105.049, 'type': 'audio_features', 'id': '15kQGEy89K8deJcZVFEn0N', 'uri': 'spotify:track:15kQGEy89K8deJcZVFEn0N', 'track_href': 'https://api.spotify.com/v1/tracks/15kQGEy89K8deJcZVFEn0N', 'analysis_url': 'https://api.spotify.com/v1/audio-analysis/15kQGEy89K8deJcZVFEn0N', 'duration_ms': 197947, 'time_signature': 4}, {'danceability': 0.739, 'energy': 0.742, 'key': 7, 'loudness': -4.586, 'mode': 1, 'speechiness': 0.0329, 'acousticness': 0.0227, 'instrumentalness': 1.39e-06, 'liveness': 0.229, 'valence': 0.659, 'tempo': 124.016, 'type': 'audio_features', 'id': '05mAIVLkIWc2d1UBYZBCp8', 'uri': 'spotify:track:05mAIVLkIWc2d1UBYZBCp8', 'track_href': 'https://api.spotify.com/v1/tracks/05mAIVLkIWc2d1UBYZBCp8', 'analysis_url': 'https://api.spotify.com/v1/audio-analysis/05mAIVLkIWc2d1UBYZBCp8', 'duration_ms': 189000, 'time_signature': 4}, {'danceability': 0.669, 'energy': 0.574, 'key': 4, 'loudness': -6.442, 'mode': 0, 'speechiness': 0.0286, 'acousticness': 0.0175, 'instrumentalness': 0.00294, 'liveness': 0.146, 'valence': 0.273, 'tempo': 120.013, 'type': 'audio_features', 'id': '0Dn40gxVCMo5TkgS8Ik18Q', 'uri': 'spotify:track:0Dn40gxVCMo5TkgS8Ik18Q', 'track_href': 'https://api.spotify.com/v1/tracks/0Dn40gxVCMo5TkgS8Ik18Q', 'analysis_url': 'https://api.spotify.com/v1/audio-analysis/0Dn40gxVCMo5TkgS8Ik18Q', 'duration_ms': 196400, 'time_signature': 4}, {'danceability': 0.499, 'energy': 0.638, 'key': 0, 'loudness': -6.145, 'mode': 1, 'speechiness': 0.0438, 'acousticness': 0.129, 'instrumentalness': 0, 'liveness': 0.631, 'valence': 0.253, 'tempo': 89.98, 'type': 'audio_features', 'id': '4J4zx8xGJpuGndrVc06KaT', 'uri': 'spotify:track:4J4zx8xGJpuGndrVc06KaT', 'track_href': 'https://api.spotify.com/v1/tracks/4J4zx8xGJpuGndrVc06KaT', 'analysis_url': 'https://api.spotify.com/v1/audio-analysis/4J4zx8xGJpuGndrVc06KaT', 'duration_ms': 239835, 'time_signature': 4}, {'danceability': 0.826, 'energy': 0.615, 'key': 8, 'loudness': -7.979, 'mode': 0, 'speechiness': 0.219, 'acousticness': 0.071, 'instrumentalness': 0, 'liveness': 0.0965, 'valence': 0.543, 'tempo': 98.056, 'type': 'audio_features', 'id': '7l3E7lcozEodtVsSTCkcaA', 'uri': 'spotify:track:7l3E7lcozEodtVsSTCkcaA', 'track_href': 'https://api.spotify.com/v1/tracks/7l3E7lcozEodtVsSTCkcaA', 'analysis_url': 'https://api.spotify.com/v1/audio-analysis/7l3E7lcozEodtVsSTCkcaA', 'duration_ms': 225199, 'time_signature': 4}, {'danceability': 0.666, 'energy': 0.426, 'key': 7, 'loudness': -9.228, 'mode': 0, 'speechiness': 0.147, 'acousticness': 0.383, 'instrumentalness': 1.56e-05, 'liveness': 0.109, 'valence': 0.587, 'tempo': 159.963, 'type': 'audio_features', 'id': '5rBZF2fl4Avi4K0tvrQ0YF', 'uri': 'spotify:track:5rBZF2fl4Avi4K0tvrQ0YF', 'track_href': 'https://api.spotify.com/v1/tracks/5rBZF2fl4Avi4K0tvrQ0YF', 'analysis_url': 'https://api.spotify.com/v1/audio-analysis/5rBZF2fl4Avi4K0tvrQ0YF', 'duration_ms': 173868, 'time_signature': 4}, {'danceability': 0.703, 'energy': 0.66, 'key': 10, 'loudness': -5.119, 'mode': 0, 'speechiness': 0.123, 'acousticness': 0.137, 'instrumentalness': 0, 'liveness': 0.192, 'valence': 0.79, 'tempo': 95.031, 'type': 'audio_features', 'id': '0YammaEkYSeo9vQYZ1OwS6', 'uri': 'spotify:track:0YammaEkYSeo9vQYZ1OwS6', 'track_href': 'https://api.spotify.com/v1/tracks/0YammaEkYSeo9vQYZ1OwS6', 'analysis_url': 'https://api.spotify.com/v1/audio-analysis/0YammaEkYSeo9vQYZ1OwS6', 'duration_ms': 198947, 'time_signature': 4}, {'danceability': 0.547, 'energy': 0.289, 'key': 0, 'loudness': -8.131, 'mode': 1, 'speechiness': 0.0348, 'acousticness': 0.645, 'instrumentalness': 0, 'liveness': 0.148, 'valence': 0.213, 'tempo': 104.851, 'type': 'audio_features', 'id': '1ArLnG0bHaHPXqf08sEKM0', 'uri': 'spotify:track:1ArLnG0bHaHPXqf08sEKM0', 'track_href': 'https://api.spotify.com/v1/tracks/1ArLnG0bHaHPXqf08sEKM0', 'analysis_url': 'https://api.spotify.com/v1/audio-analysis/1ArLnG0bHaHPXqf08sEKM0', 'duration_ms': 181913, 'time_signature': 3}, {'danceability': 0.89, 'energy': 0.624, 'key': 1, 'loudness': -3.966, 'mode': 1, 'speechiness': 0.103, 'acousticness': 0.0944, 'instrumentalness': 5.16e-06, 'liveness': 0.0903, 'valence': 0.762, 'tempo': 116.046, 'type': 'audio_features', 'id': '6r05pfZigq7Arg25pi2vRm', 'uri': 'spotify:track:6r05pfZigq7Arg25pi2vRm', 'track_href': 'https://api.spotify.com/v1/tracks/6r05pfZigq7Arg25pi2vRm', 'analysis_url': 'https://api.spotify.com/v1/audio-analysis/6r05pfZigq7Arg25pi2vRm', 'duration_ms': 169814, 'time_signature': 4}, {'danceability': 0.82, 'energy': 0.582, 'key': 2, 'loudness': -4.441, 'mode': 1, 'speechiness': 0.0454, 'acousticness': 0.428, 'instrumentalness': 0, 'liveness': 0.0419, 'valence': 0.309, 'tempo': 112.064, 'type': 'audio_features', 'id': '3ji4bcQugJj5B6NRGYDNwP', 'uri': 'spotify:track:3ji4bcQugJj5B6NRGYDNwP', 'track_href': 'https://api.spotify.com/v1/tracks/3ji4bcQugJj5B6NRGYDNwP', 'analysis_url': 'https://api.spotify.com/v1/audio-analysis/3ji4bcQugJj5B6NRGYDNwP', 'duration_ms': 214027, 'time_signature': 4}, {'danceability': 0.703, 'energy': 0.748, 'key': 1, 'loudness': -6.047, 'mode': 1, 'speechiness': 0.0435, 'acousticness': 0.123, 'instrumentalness': 0, 'liveness': 0.0642, 'valence': 0.625, 'tempo': 111.943, 'type': 'audio_features', 'id': '2jZIfoe48eUeOEnP9Ho4h2', 'uri': 'spotify:track:2jZIfoe48eUeOEnP9Ho4h2', 'track_href': 'https://api.spotify.com/v1/tracks/2jZIfoe48eUeOEnP9Ho4h2', 'analysis_url': 'https://api.spotify.com/v1/audio-analysis/2jZIfoe48eUeOEnP9Ho4h2', 'duration_ms': 184080, 'time_signature': 4}, {'danceability': 0.8, 'energy': 0.578, 'key': 4, 'loudness': -5.144, 'mode': 0, 'speechiness': 0.0485, 'acousticness': 0.00381, 'instrumentalness': 0, 'liveness': 0.359, 'valence': 0.367, 'tempo': 143.01, 'type': 'audio_features', 'id': '0QIjsbm2fh1cJ45XO9eGqq', 'uri': 'spotify:track:0QIjsbm2fh1cJ45XO9eGqq', 'track_href': 'https://api.spotify.com/v1/tracks/0QIjsbm2fh1cJ45XO9eGqq', 'analysis_url': 'https://api.spotify.com/v1/audio-analysis/0QIjsbm2fh1cJ45XO9eGqq', 'duration_ms': 204665, 'time_signature': 4}, {'danceability': 0.553, 'energy': 0.502, 'key': 0, 'loudness': -5.972, 'mode': 1, 'speechiness': 0.0409, 'acousticness': 0.299, 'instrumentalness': 0, 'liveness': 0.764, 'valence': 0.296, 'tempo': 129.976, 'type': 'audio_features', 'id': '2rbDhOo9Fh61Bbu23T2qCk', 'uri': 'spotify:track:2rbDhOo9Fh61Bbu23T2qCk', 'track_href': 'https://api.spotify.com/v1/tracks/2rbDhOo9Fh61Bbu23T2qCk', 'analysis_url': 'https://api.spotify.com/v1/audio-analysis/2rbDhOo9Fh61Bbu23T2qCk', 'duration_ms': 210200, 'time_signature': 4}, {'danceability': 0.754, 'energy': 0.342, 'key': 10, 'loudness': -8.677, 'mode': 0, 'speechiness': 0.0991, 'acousticness': 0.073, 'instrumentalness': 0, 'liveness': 0.193, 'valence': 0.423, 'tempo': 128.981, 'type': 'audio_features', 'id': '5qHirGR7M9tdm6C17DlzSY', 'uri': 'spotify:track:5qHirGR7M9tdm6C17DlzSY', 'track_href': 'https://api.spotify.com/v1/tracks/5qHirGR7M9tdm6C17DlzSY', 'analysis_url': 'https://api.spotify.com/v1/audio-analysis/5qHirGR7M9tdm6C17DlzSY', 'duration_ms': 121347, 'time_signature': 4}, {'danceability': 0.55, 'energy': 0.415, 'key': 9, 'loudness': -6.557, 'mode': 0, 'speechiness': 0.052, 'acousticness': 0.161, 'instrumentalness': 0, 'liveness': 0.108, 'valence': 0.274, 'tempo': 172.065, 'type': 'audio_features', 'id': '2JqnpexlO9dmvjUMCaLCLJ', 'uri': 'spotify:track:2JqnpexlO9dmvjUMCaLCLJ', 'track_href': 'https://api.spotify.com/v1/tracks/2JqnpexlO9dmvjUMCaLCLJ', 'analysis_url': 'https://api.spotify.com/v1/audio-analysis/2JqnpexlO9dmvjUMCaLCLJ', 'duration_ms': 205463, 'time_signature': 4}, {'danceability': 0.652, 'energy': 0.897, 'key': 7, 'loudness': -4.481, 'mode': 0, 'speechiness': 0.036, 'acousticness': 0.293, 'instrumentalness': 0, 'liveness': 0.0722, 'valence': 0.475, 'tempo': 114.033, 'type': 'audio_features', 'id': '1wsLHgXJ4SKIfd5ePSX1hD', 'uri': 'spotify:track:1wsLHgXJ4SKIfd5ePSX1hD', 'track_href': 'https://api.spotify.com/v1/tracks/1wsLHgXJ4SKIfd5ePSX1hD', 'analysis_url': 'https://api.spotify.com/v1/audio-analysis/1wsLHgXJ4SKIfd5ePSX1hD', 'duration_ms': 193377, 'time_signature': 4}, {'danceability': 0.738, 'energy': 0.629, 'key': 6, 'loudness': -4.882, 'mode': 0, 'speechiness': 0.0495, 'acousticness': 0.268, 'instrumentalness': 0.00114, 'liveness': 0.163, 'valence': 0.319, 'tempo': 146.067, 'type': 'audio_features', 'id': '3QybPutx0Tjk472bBKjNWn', 'uri': 'spotify:track:3QybPutx0Tjk472bBKjNWn', 'track_href': 'https://api.spotify.com/v1/tracks/3QybPutx0Tjk472bBKjNWn', 'analysis_url': 'https://api.spotify.com/v1/audio-analysis/3QybPutx0Tjk472bBKjNWn', 'duration_ms': 180898, 'time_signature': 4}, {'danceability': 0.553, 'energy': 0.586, 'key': 11, 'loudness': -6.319, 'mode': 1, 'speechiness': 0.0362, 'acousticness': 0.697, 'instrumentalness': 0, 'liveness': 0.0813, 'valence': 0.443, 'tempo': 126.684, 'type': 'audio_features', 'id': '3EPXxR3ImUwfayaurPi3cm', 'uri': 'spotify:track:3EPXxR3ImUwfayaurPi3cm', 'track_href': 'https://api.spotify.com/v1/tracks/3EPXxR3ImUwfayaurPi3cm', 'analysis_url': 'https://api.spotify.com/v1/audio-analysis/3EPXxR3ImUwfayaurPi3cm', 'duration_ms': 196373, 'time_signature': 4}, {'danceability': 0.583, 'energy': 0.662, 'key': 0, 'loudness': -6.025, 'mode': 1, 'speechiness': 0.156, 'acousticness': 0.00541, 'instrumentalness': 1.96e-06, 'liveness': 0.284, 'valence': 0.636, 'tempo': 150.305, 'type': 'audio_features', 'id': '0qbfdprRS71e9up5pOmbQo', 'uri': 'spotify:track:0qbfdprRS71e9up5pOmbQo', 'track_href': 'https://api.spotify.com/v1/tracks/0qbfdprRS71e9up5pOmbQo', 'analysis_url': 'https://api.spotify.com/v1/audio-analysis/0qbfdprRS71e9up5pOmbQo', 'duration_ms': 199707, 'time_signature': 4}, {'danceability': 0.765, 'energy': 0.704, 'key': 5, 'loudness': -4.589, 'mode': 0, 'speechiness': 0.127, 'acousticness': 0.0215, 'instrumentalness': 0, 'liveness': 0.227, 'valence': 0.498, 'tempo': 147.055, 'type': 'audio_features', 'id': '04MLEeAMuV9IlHEsD8vF6A', 'uri': 'spotify:track:04MLEeAMuV9IlHEsD8vF6A', 'track_href': 'https://api.spotify.com/v1/tracks/04MLEeAMuV9IlHEsD8vF6A', 'analysis_url': 'https://api.spotify.com/v1/audio-analysis/04MLEeAMuV9IlHEsD8vF6A', 'duration_ms': 192172, 'time_signature': 4}, {'danceability': 0.494, 'energy': 0.637, 'key': 5, 'loudness': -6.381, 'mode': 1, 'speechiness': 0.0333, 'acousticness': 0.669, 'instrumentalness': 0, 'liveness': 0.0882, 'valence': 0.1, 'tempo': 147.924, 'type': 'audio_features', 'id': '3ngc7rGlfeFaskU90EWl4R', 'uri': 'spotify:track:3ngc7rGlfeFaskU90EWl4R', 'track_href': 'https://api.spotify.com/v1/tracks/3ngc7rGlfeFaskU90EWl4R', 'analysis_url': 'https://api.spotify.com/v1/audio-analysis/3ngc7rGlfeFaskU90EWl4R', 'duration_ms': 274693, 'time_signature': 4}, {'danceability': 0.746, 'energy': 0.703, 'key': 4, 'loudness': -4.179, 'mode': 0, 'speechiness': 0.107, 'acousticness': 0.352, 'instrumentalness': 0, 'liveness': 0.331, 'valence': 0.667, 'tempo': 166.043, 'type': 'audio_features', 'id': '33zcmmElV1YbRZe57biUjg', 'uri': 'spotify:track:33zcmmElV1YbRZe57biUjg', 'track_href': 'https://api.spotify.com/v1/tracks/33zcmmElV1YbRZe57biUjg', 'analysis_url': 'https://api.spotify.com/v1/audio-analysis/33zcmmElV1YbRZe57biUjg', 'duration_ms': 179693, 'time_signature': 4}, {'danceability': 0.578, 'energy': 0.694, 'key': 5, 'loudness': -5.351, 'mode': 1, 'speechiness': 0.0706, 'acousticness': 0.0112, 'instrumentalness': 0, 'liveness': 0.102, 'valence': 0.268, 'tempo': 129.921, 'type': 'audio_features', 'id': '1N7YeVU0ZwAFbOhwM61ef6', 'uri': 'spotify:track:1N7YeVU0ZwAFbOhwM61ef6', 'track_href': 'https://api.spotify.com/v1/tracks/1N7YeVU0ZwAFbOhwM61ef6', 'analysis_url': 'https://api.spotify.com/v1/audio-analysis/1N7YeVU0ZwAFbOhwM61ef6', 'duration_ms': 220850, 'time_signature': 4}]\n"
     ]
    }
   ],
   "source": [
    "results = sp.audio_features(tracks=lista_id)\n",
    "print(results)"
   ]
  },
  {
   "cell_type": "markdown",
   "metadata": {},
   "source": [
    "5) Salvando o dataframe com os dados obtidos das músicas:"
   ]
  },
  {
   "cell_type": "code",
   "execution_count": 6,
   "metadata": {},
   "outputs": [
    {
     "data": {
      "text/html": [
       "<div>\n",
       "<style scoped>\n",
       "    .dataframe tbody tr th:only-of-type {\n",
       "        vertical-align: middle;\n",
       "    }\n",
       "\n",
       "    .dataframe tbody tr th {\n",
       "        vertical-align: top;\n",
       "    }\n",
       "\n",
       "    .dataframe thead th {\n",
       "        text-align: right;\n",
       "    }\n",
       "</style>\n",
       "<table border=\"1\" class=\"dataframe\">\n",
       "  <thead>\n",
       "    <tr style=\"text-align: right;\">\n",
       "      <th></th>\n",
       "      <th>acousticness</th>\n",
       "      <th>analysis_url</th>\n",
       "      <th>danceability</th>\n",
       "      <th>duration_ms</th>\n",
       "      <th>energy</th>\n",
       "      <th>id</th>\n",
       "      <th>instrumentalness</th>\n",
       "      <th>key</th>\n",
       "      <th>liveness</th>\n",
       "      <th>loudness</th>\n",
       "      <th>mode</th>\n",
       "      <th>speechiness</th>\n",
       "      <th>tempo</th>\n",
       "      <th>time_signature</th>\n",
       "      <th>track_href</th>\n",
       "      <th>type</th>\n",
       "      <th>uri</th>\n",
       "      <th>valence</th>\n",
       "    </tr>\n",
       "  </thead>\n",
       "  <tbody>\n",
       "    <tr>\n",
       "      <th>0</th>\n",
       "      <td>0.2800</td>\n",
       "      <td>https://api.spotify.com/v1/audio-analysis/2rPE...</td>\n",
       "      <td>0.724</td>\n",
       "      <td>207333</td>\n",
       "      <td>0.647</td>\n",
       "      <td>2rPE9A1vEgShuZxxzR2tZH</td>\n",
       "      <td>0.000000</td>\n",
       "      <td>1</td>\n",
       "      <td>0.1020</td>\n",
       "      <td>-5.642</td>\n",
       "      <td>1</td>\n",
       "      <td>0.0658</td>\n",
       "      <td>106.960</td>\n",
       "      <td>4</td>\n",
       "      <td>https://api.spotify.com/v1/tracks/2rPE9A1vEgSh...</td>\n",
       "      <td>audio_features</td>\n",
       "      <td>spotify:track:2rPE9A1vEgShuZxxzR2tZH</td>\n",
       "      <td>0.435</td>\n",
       "    </tr>\n",
       "    <tr>\n",
       "      <th>1</th>\n",
       "      <td>0.2970</td>\n",
       "      <td>https://api.spotify.com/v1/audio-analysis/5p7u...</td>\n",
       "      <td>0.752</td>\n",
       "      <td>201661</td>\n",
       "      <td>0.488</td>\n",
       "      <td>5p7ujcrUXASCNwRaWNHR1C</td>\n",
       "      <td>0.000009</td>\n",
       "      <td>6</td>\n",
       "      <td>0.0936</td>\n",
       "      <td>-7.050</td>\n",
       "      <td>1</td>\n",
       "      <td>0.0705</td>\n",
       "      <td>136.041</td>\n",
       "      <td>4</td>\n",
       "      <td>https://api.spotify.com/v1/tracks/5p7ujcrUXASC...</td>\n",
       "      <td>audio_features</td>\n",
       "      <td>spotify:track:5p7ujcrUXASCNwRaWNHR1C</td>\n",
       "      <td>0.533</td>\n",
       "    </tr>\n",
       "    <tr>\n",
       "      <th>2</th>\n",
       "      <td>0.5510</td>\n",
       "      <td>https://api.spotify.com/v1/audio-analysis/1A6O...</td>\n",
       "      <td>0.753</td>\n",
       "      <td>158053</td>\n",
       "      <td>0.498</td>\n",
       "      <td>1A6OTy97kk0mMdm78rHsm8</td>\n",
       "      <td>0.000000</td>\n",
       "      <td>2</td>\n",
       "      <td>0.0706</td>\n",
       "      <td>-5.610</td>\n",
       "      <td>1</td>\n",
       "      <td>0.0504</td>\n",
       "      <td>89.950</td>\n",
       "      <td>4</td>\n",
       "      <td>https://api.spotify.com/v1/tracks/1A6OTy97kk0m...</td>\n",
       "      <td>audio_features</td>\n",
       "      <td>spotify:track:1A6OTy97kk0mMdm78rHsm8</td>\n",
       "      <td>0.927</td>\n",
       "    </tr>\n",
       "    <tr>\n",
       "      <th>3</th>\n",
       "      <td>0.4230</td>\n",
       "      <td>https://api.spotify.com/v1/audio-analysis/5tAa...</td>\n",
       "      <td>0.665</td>\n",
       "      <td>190932</td>\n",
       "      <td>0.699</td>\n",
       "      <td>5tAa8Uaqr4VvA3693mbIhU</td>\n",
       "      <td>0.000000</td>\n",
       "      <td>11</td>\n",
       "      <td>0.0969</td>\n",
       "      <td>-5.265</td>\n",
       "      <td>1</td>\n",
       "      <td>0.0578</td>\n",
       "      <td>124.896</td>\n",
       "      <td>4</td>\n",
       "      <td>https://api.spotify.com/v1/tracks/5tAa8Uaqr4Vv...</td>\n",
       "      <td>audio_features</td>\n",
       "      <td>spotify:track:5tAa8Uaqr4VvA3693mbIhU</td>\n",
       "      <td>0.585</td>\n",
       "    </tr>\n",
       "    <tr>\n",
       "      <th>4</th>\n",
       "      <td>0.0302</td>\n",
       "      <td>https://api.spotify.com/v1/audio-analysis/2Lsk...</td>\n",
       "      <td>0.703</td>\n",
       "      <td>198903</td>\n",
       "      <td>0.723</td>\n",
       "      <td>2LskIZrCeLxRvCiGP8gxlh</td>\n",
       "      <td>0.000002</td>\n",
       "      <td>9</td>\n",
       "      <td>0.1260</td>\n",
       "      <td>-5.450</td>\n",
       "      <td>0</td>\n",
       "      <td>0.0412</td>\n",
       "      <td>104.969</td>\n",
       "      <td>4</td>\n",
       "      <td>https://api.spotify.com/v1/tracks/2LskIZrCeLxR...</td>\n",
       "      <td>audio_features</td>\n",
       "      <td>spotify:track:2LskIZrCeLxRvCiGP8gxlh</td>\n",
       "      <td>0.288</td>\n",
       "    </tr>\n",
       "  </tbody>\n",
       "</table>\n",
       "</div>"
      ],
      "text/plain": [
       "   acousticness                                       analysis_url  \\\n",
       "0        0.2800  https://api.spotify.com/v1/audio-analysis/2rPE...   \n",
       "1        0.2970  https://api.spotify.com/v1/audio-analysis/5p7u...   \n",
       "2        0.5510  https://api.spotify.com/v1/audio-analysis/1A6O...   \n",
       "3        0.4230  https://api.spotify.com/v1/audio-analysis/5tAa...   \n",
       "4        0.0302  https://api.spotify.com/v1/audio-analysis/2Lsk...   \n",
       "\n",
       "   danceability  duration_ms  energy                      id  \\\n",
       "0         0.724       207333   0.647  2rPE9A1vEgShuZxxzR2tZH   \n",
       "1         0.752       201661   0.488  5p7ujcrUXASCNwRaWNHR1C   \n",
       "2         0.753       158053   0.498  1A6OTy97kk0mMdm78rHsm8   \n",
       "3         0.665       190932   0.699  5tAa8Uaqr4VvA3693mbIhU   \n",
       "4         0.703       198903   0.723  2LskIZrCeLxRvCiGP8gxlh   \n",
       "\n",
       "   instrumentalness  key  liveness  loudness  mode  speechiness    tempo  \\\n",
       "0          0.000000    1    0.1020    -5.642     1       0.0658  106.960   \n",
       "1          0.000009    6    0.0936    -7.050     1       0.0705  136.041   \n",
       "2          0.000000    2    0.0706    -5.610     1       0.0504   89.950   \n",
       "3          0.000000   11    0.0969    -5.265     1       0.0578  124.896   \n",
       "4          0.000002    9    0.1260    -5.450     0       0.0412  104.969   \n",
       "\n",
       "   time_signature                                         track_href  \\\n",
       "0               4  https://api.spotify.com/v1/tracks/2rPE9A1vEgSh...   \n",
       "1               4  https://api.spotify.com/v1/tracks/5p7ujcrUXASC...   \n",
       "2               4  https://api.spotify.com/v1/tracks/1A6OTy97kk0m...   \n",
       "3               4  https://api.spotify.com/v1/tracks/5tAa8Uaqr4Vv...   \n",
       "4               4  https://api.spotify.com/v1/tracks/2LskIZrCeLxR...   \n",
       "\n",
       "             type                                   uri  valence  \n",
       "0  audio_features  spotify:track:2rPE9A1vEgShuZxxzR2tZH    0.435  \n",
       "1  audio_features  spotify:track:5p7ujcrUXASCNwRaWNHR1C    0.533  \n",
       "2  audio_features  spotify:track:1A6OTy97kk0mMdm78rHsm8    0.927  \n",
       "3  audio_features  spotify:track:5tAa8Uaqr4VvA3693mbIhU    0.585  \n",
       "4  audio_features  spotify:track:2LskIZrCeLxRvCiGP8gxlh    0.288  "
      ]
     },
     "execution_count": 6,
     "metadata": {},
     "output_type": "execute_result"
    }
   ],
   "source": [
    "df = pd.DataFrame(results)\n",
    "df.head()"
   ]
  },
  {
   "cell_type": "markdown",
   "metadata": {},
   "source": [
    "6) Adicionando o nome das músicas e o artista no dataset:"
   ]
  },
  {
   "cell_type": "code",
   "execution_count": 7,
   "metadata": {},
   "outputs": [],
   "source": [
    "nome = []\n",
    "artista = []\n",
    "\n",
    "for e in range(len(lista[0]['items'])):\n",
    "    nome.append(lista[0]['items'][e]['track']['name'])\n",
    "    artista.append(lista[0]['items'][e]['track']['artists'][0]['name'])\n",
    "    \n",
    "df['nome'] = nome\n",
    "df['artista'] = artista"
   ]
  },
  {
   "cell_type": "code",
   "execution_count": 8,
   "metadata": {
    "scrolled": true
   },
   "outputs": [
    {
     "data": {
      "text/html": [
       "<div>\n",
       "<style scoped>\n",
       "    .dataframe tbody tr th:only-of-type {\n",
       "        vertical-align: middle;\n",
       "    }\n",
       "\n",
       "    .dataframe tbody tr th {\n",
       "        vertical-align: top;\n",
       "    }\n",
       "\n",
       "    .dataframe thead th {\n",
       "        text-align: right;\n",
       "    }\n",
       "</style>\n",
       "<table border=\"1\" class=\"dataframe\">\n",
       "  <thead>\n",
       "    <tr style=\"text-align: right;\">\n",
       "      <th></th>\n",
       "      <th>acousticness</th>\n",
       "      <th>analysis_url</th>\n",
       "      <th>danceability</th>\n",
       "      <th>duration_ms</th>\n",
       "      <th>energy</th>\n",
       "      <th>id</th>\n",
       "      <th>instrumentalness</th>\n",
       "      <th>key</th>\n",
       "      <th>liveness</th>\n",
       "      <th>loudness</th>\n",
       "      <th>mode</th>\n",
       "      <th>speechiness</th>\n",
       "      <th>tempo</th>\n",
       "      <th>time_signature</th>\n",
       "      <th>track_href</th>\n",
       "      <th>type</th>\n",
       "      <th>uri</th>\n",
       "      <th>valence</th>\n",
       "      <th>nome</th>\n",
       "      <th>artista</th>\n",
       "    </tr>\n",
       "  </thead>\n",
       "  <tbody>\n",
       "    <tr>\n",
       "      <th>0</th>\n",
       "      <td>0.2800</td>\n",
       "      <td>https://api.spotify.com/v1/audio-analysis/2rPE...</td>\n",
       "      <td>0.724</td>\n",
       "      <td>207333</td>\n",
       "      <td>0.647</td>\n",
       "      <td>2rPE9A1vEgShuZxxzR2tZH</td>\n",
       "      <td>0.000000</td>\n",
       "      <td>1</td>\n",
       "      <td>0.1020</td>\n",
       "      <td>-5.642</td>\n",
       "      <td>1</td>\n",
       "      <td>0.0658</td>\n",
       "      <td>106.960</td>\n",
       "      <td>4</td>\n",
       "      <td>https://api.spotify.com/v1/tracks/2rPE9A1vEgSh...</td>\n",
       "      <td>audio_features</td>\n",
       "      <td>spotify:track:2rPE9A1vEgShuZxxzR2tZH</td>\n",
       "      <td>0.435</td>\n",
       "      <td>thank u, next</td>\n",
       "      <td>Ariana Grande</td>\n",
       "    </tr>\n",
       "    <tr>\n",
       "      <th>1</th>\n",
       "      <td>0.2970</td>\n",
       "      <td>https://api.spotify.com/v1/audio-analysis/5p7u...</td>\n",
       "      <td>0.752</td>\n",
       "      <td>201661</td>\n",
       "      <td>0.488</td>\n",
       "      <td>5p7ujcrUXASCNwRaWNHR1C</td>\n",
       "      <td>0.000009</td>\n",
       "      <td>6</td>\n",
       "      <td>0.0936</td>\n",
       "      <td>-7.050</td>\n",
       "      <td>1</td>\n",
       "      <td>0.0705</td>\n",
       "      <td>136.041</td>\n",
       "      <td>4</td>\n",
       "      <td>https://api.spotify.com/v1/tracks/5p7ujcrUXASC...</td>\n",
       "      <td>audio_features</td>\n",
       "      <td>spotify:track:5p7ujcrUXASCNwRaWNHR1C</td>\n",
       "      <td>0.533</td>\n",
       "      <td>Without Me</td>\n",
       "      <td>Halsey</td>\n",
       "    </tr>\n",
       "    <tr>\n",
       "      <th>2</th>\n",
       "      <td>0.5510</td>\n",
       "      <td>https://api.spotify.com/v1/audio-analysis/1A6O...</td>\n",
       "      <td>0.753</td>\n",
       "      <td>158053</td>\n",
       "      <td>0.498</td>\n",
       "      <td>1A6OTy97kk0mMdm78rHsm8</td>\n",
       "      <td>0.000000</td>\n",
       "      <td>2</td>\n",
       "      <td>0.0706</td>\n",
       "      <td>-5.610</td>\n",
       "      <td>1</td>\n",
       "      <td>0.0504</td>\n",
       "      <td>89.950</td>\n",
       "      <td>4</td>\n",
       "      <td>https://api.spotify.com/v1/tracks/1A6OTy97kk0m...</td>\n",
       "      <td>audio_features</td>\n",
       "      <td>spotify:track:1A6OTy97kk0mMdm78rHsm8</td>\n",
       "      <td>0.927</td>\n",
       "      <td>Sunflower - Spider-Man: Into the Spider-Verse</td>\n",
       "      <td>Post Malone</td>\n",
       "    </tr>\n",
       "    <tr>\n",
       "      <th>3</th>\n",
       "      <td>0.4230</td>\n",
       "      <td>https://api.spotify.com/v1/audio-analysis/5tAa...</td>\n",
       "      <td>0.665</td>\n",
       "      <td>190932</td>\n",
       "      <td>0.699</td>\n",
       "      <td>5tAa8Uaqr4VvA3693mbIhU</td>\n",
       "      <td>0.000000</td>\n",
       "      <td>11</td>\n",
       "      <td>0.0969</td>\n",
       "      <td>-5.265</td>\n",
       "      <td>1</td>\n",
       "      <td>0.0578</td>\n",
       "      <td>124.896</td>\n",
       "      <td>4</td>\n",
       "      <td>https://api.spotify.com/v1/tracks/5tAa8Uaqr4Vv...</td>\n",
       "      <td>audio_features</td>\n",
       "      <td>spotify:track:5tAa8Uaqr4VvA3693mbIhU</td>\n",
       "      <td>0.585</td>\n",
       "      <td>Ruin My Life</td>\n",
       "      <td>Zara Larsson</td>\n",
       "    </tr>\n",
       "    <tr>\n",
       "      <th>4</th>\n",
       "      <td>0.0302</td>\n",
       "      <td>https://api.spotify.com/v1/audio-analysis/2Lsk...</td>\n",
       "      <td>0.703</td>\n",
       "      <td>198903</td>\n",
       "      <td>0.723</td>\n",
       "      <td>2LskIZrCeLxRvCiGP8gxlh</td>\n",
       "      <td>0.000002</td>\n",
       "      <td>9</td>\n",
       "      <td>0.1260</td>\n",
       "      <td>-5.450</td>\n",
       "      <td>0</td>\n",
       "      <td>0.0412</td>\n",
       "      <td>104.969</td>\n",
       "      <td>4</td>\n",
       "      <td>https://api.spotify.com/v1/tracks/2LskIZrCeLxR...</td>\n",
       "      <td>audio_features</td>\n",
       "      <td>spotify:track:2LskIZrCeLxRvCiGP8gxlh</td>\n",
       "      <td>0.288</td>\n",
       "      <td>Arms Around You (feat. Maluma &amp; Swae Lee)</td>\n",
       "      <td>XXXTENTACION</td>\n",
       "    </tr>\n",
       "  </tbody>\n",
       "</table>\n",
       "</div>"
      ],
      "text/plain": [
       "   acousticness                                       analysis_url  \\\n",
       "0        0.2800  https://api.spotify.com/v1/audio-analysis/2rPE...   \n",
       "1        0.2970  https://api.spotify.com/v1/audio-analysis/5p7u...   \n",
       "2        0.5510  https://api.spotify.com/v1/audio-analysis/1A6O...   \n",
       "3        0.4230  https://api.spotify.com/v1/audio-analysis/5tAa...   \n",
       "4        0.0302  https://api.spotify.com/v1/audio-analysis/2Lsk...   \n",
       "\n",
       "   danceability  duration_ms  energy                      id  \\\n",
       "0         0.724       207333   0.647  2rPE9A1vEgShuZxxzR2tZH   \n",
       "1         0.752       201661   0.488  5p7ujcrUXASCNwRaWNHR1C   \n",
       "2         0.753       158053   0.498  1A6OTy97kk0mMdm78rHsm8   \n",
       "3         0.665       190932   0.699  5tAa8Uaqr4VvA3693mbIhU   \n",
       "4         0.703       198903   0.723  2LskIZrCeLxRvCiGP8gxlh   \n",
       "\n",
       "   instrumentalness  key  liveness  loudness  mode  speechiness    tempo  \\\n",
       "0          0.000000    1    0.1020    -5.642     1       0.0658  106.960   \n",
       "1          0.000009    6    0.0936    -7.050     1       0.0705  136.041   \n",
       "2          0.000000    2    0.0706    -5.610     1       0.0504   89.950   \n",
       "3          0.000000   11    0.0969    -5.265     1       0.0578  124.896   \n",
       "4          0.000002    9    0.1260    -5.450     0       0.0412  104.969   \n",
       "\n",
       "   time_signature                                         track_href  \\\n",
       "0               4  https://api.spotify.com/v1/tracks/2rPE9A1vEgSh...   \n",
       "1               4  https://api.spotify.com/v1/tracks/5p7ujcrUXASC...   \n",
       "2               4  https://api.spotify.com/v1/tracks/1A6OTy97kk0m...   \n",
       "3               4  https://api.spotify.com/v1/tracks/5tAa8Uaqr4Vv...   \n",
       "4               4  https://api.spotify.com/v1/tracks/2LskIZrCeLxR...   \n",
       "\n",
       "             type                                   uri  valence  \\\n",
       "0  audio_features  spotify:track:2rPE9A1vEgShuZxxzR2tZH    0.435   \n",
       "1  audio_features  spotify:track:5p7ujcrUXASCNwRaWNHR1C    0.533   \n",
       "2  audio_features  spotify:track:1A6OTy97kk0mMdm78rHsm8    0.927   \n",
       "3  audio_features  spotify:track:5tAa8Uaqr4VvA3693mbIhU    0.585   \n",
       "4  audio_features  spotify:track:2LskIZrCeLxRvCiGP8gxlh    0.288   \n",
       "\n",
       "                                            nome        artista  \n",
       "0                                  thank u, next  Ariana Grande  \n",
       "1                                     Without Me         Halsey  \n",
       "2  Sunflower - Spider-Man: Into the Spider-Verse    Post Malone  \n",
       "3                                   Ruin My Life   Zara Larsson  \n",
       "4      Arms Around You (feat. Maluma & Swae Lee)   XXXTENTACION  "
      ]
     },
     "execution_count": 8,
     "metadata": {},
     "output_type": "execute_result"
    }
   ],
   "source": [
    "df.head()"
   ]
  },
  {
   "cell_type": "markdown",
   "metadata": {},
   "source": [
    "7) Tiramos algumas colunas do dataset de acordo com a análise exploratória feita previamente:"
   ]
  },
  {
   "cell_type": "code",
   "execution_count": 9,
   "metadata": {},
   "outputs": [],
   "source": [
    "df = df.drop(df.columns[[1,3,10,13,14,15,16]], axis=1)"
   ]
  },
  {
   "cell_type": "markdown",
   "metadata": {},
   "source": [
    "8) Salvamos o dataset:"
   ]
  },
  {
   "cell_type": "code",
   "execution_count": 10,
   "metadata": {},
   "outputs": [],
   "source": [
    "df.to_csv('dataset.csv')"
   ]
  },
  {
   "cell_type": "code",
   "execution_count": null,
   "metadata": {},
   "outputs": [],
   "source": []
  },
  {
   "cell_type": "code",
   "execution_count": null,
   "metadata": {},
   "outputs": [],
   "source": []
  },
  {
   "cell_type": "markdown",
   "metadata": {},
   "source": [
    "Análise das variaveis, são 10 variaveis, neste jupyter vamos fazer a regressão de todas as variaveis, comparando uma com as outras, para saber a importancia, o lance de rejeitar a hipotese nula, o r quadrado o onibus..."
   ]
  },
  {
   "cell_type": "markdown",
   "metadata": {},
   "source": [
    "## Regressão Linear"
   ]
  },
  {
   "cell_type": "markdown",
   "metadata": {},
   "source": [
    "Importando as bilbiotecas:"
   ]
  },
  {
   "cell_type": "code",
   "execution_count": 1,
   "metadata": {},
   "outputs": [
    {
     "name": "stderr",
     "output_type": "stream",
     "text": [
      "C:\\Users\\vitor\\Anaconda3\\lib\\site-packages\\statsmodels\\compat\\pandas.py:56: FutureWarning: The pandas.core.datetools module is deprecated and will be removed in a future version. Please use the pandas.tseries module instead.\n",
      "  from pandas.core import datetools\n"
     ]
    }
   ],
   "source": [
    "import pandas as pd\n",
    "import statsmodels.api as sm\n",
    "from scipy.stats import probplot, norm\n",
    "import matplotlib.pyplot as plt"
   ]
  },
  {
   "cell_type": "markdown",
   "metadata": {},
   "source": [
    "Abrindo o dataset."
   ]
  },
  {
   "cell_type": "code",
   "execution_count": 2,
   "metadata": {},
   "outputs": [
    {
     "data": {
      "text/html": [
       "<div>\n",
       "<style scoped>\n",
       "    .dataframe tbody tr th:only-of-type {\n",
       "        vertical-align: middle;\n",
       "    }\n",
       "\n",
       "    .dataframe tbody tr th {\n",
       "        vertical-align: top;\n",
       "    }\n",
       "\n",
       "    .dataframe thead th {\n",
       "        text-align: right;\n",
       "    }\n",
       "</style>\n",
       "<table border=\"1\" class=\"dataframe\">\n",
       "  <thead>\n",
       "    <tr style=\"text-align: right;\">\n",
       "      <th></th>\n",
       "      <th>Unnamed: 0</th>\n",
       "      <th>id</th>\n",
       "      <th>name</th>\n",
       "      <th>artists</th>\n",
       "      <th>danceability</th>\n",
       "      <th>energy</th>\n",
       "      <th>key</th>\n",
       "      <th>loudness</th>\n",
       "      <th>speechiness</th>\n",
       "      <th>acousticness</th>\n",
       "      <th>instrumentalness</th>\n",
       "      <th>liveness</th>\n",
       "      <th>valence</th>\n",
       "      <th>tempo</th>\n",
       "    </tr>\n",
       "  </thead>\n",
       "  <tbody>\n",
       "    <tr>\n",
       "      <th>0</th>\n",
       "      <td>0</td>\n",
       "      <td>7qiZfU4dY1lWllzX7mPBI</td>\n",
       "      <td>Shape of You</td>\n",
       "      <td>Ed Sheeran</td>\n",
       "      <td>0.825</td>\n",
       "      <td>0.652</td>\n",
       "      <td>1.0</td>\n",
       "      <td>-3.183</td>\n",
       "      <td>0.0802</td>\n",
       "      <td>0.5810</td>\n",
       "      <td>0.000000</td>\n",
       "      <td>0.0931</td>\n",
       "      <td>0.931</td>\n",
       "      <td>95.977</td>\n",
       "    </tr>\n",
       "    <tr>\n",
       "      <th>1</th>\n",
       "      <td>1</td>\n",
       "      <td>5CtI0qwDJkDQGwXD1H1cL</td>\n",
       "      <td>Despacito - Remix</td>\n",
       "      <td>Luis Fonsi</td>\n",
       "      <td>0.694</td>\n",
       "      <td>0.815</td>\n",
       "      <td>2.0</td>\n",
       "      <td>-4.328</td>\n",
       "      <td>0.1200</td>\n",
       "      <td>0.2290</td>\n",
       "      <td>0.000000</td>\n",
       "      <td>0.0924</td>\n",
       "      <td>0.813</td>\n",
       "      <td>88.931</td>\n",
       "    </tr>\n",
       "    <tr>\n",
       "      <th>2</th>\n",
       "      <td>2</td>\n",
       "      <td>4aWmUDTfIPGksMNLV2rQP</td>\n",
       "      <td>Despacito (Featuring Daddy Yankee)</td>\n",
       "      <td>Luis Fonsi</td>\n",
       "      <td>0.660</td>\n",
       "      <td>0.786</td>\n",
       "      <td>2.0</td>\n",
       "      <td>-4.757</td>\n",
       "      <td>0.1700</td>\n",
       "      <td>0.2090</td>\n",
       "      <td>0.000000</td>\n",
       "      <td>0.1120</td>\n",
       "      <td>0.846</td>\n",
       "      <td>177.833</td>\n",
       "    </tr>\n",
       "    <tr>\n",
       "      <th>3</th>\n",
       "      <td>3</td>\n",
       "      <td>6RUKPb4LETWmmr3iAEQkt</td>\n",
       "      <td>Something Just Like This</td>\n",
       "      <td>The Chainsmokers</td>\n",
       "      <td>0.617</td>\n",
       "      <td>0.635</td>\n",
       "      <td>11.0</td>\n",
       "      <td>-6.769</td>\n",
       "      <td>0.0317</td>\n",
       "      <td>0.0498</td>\n",
       "      <td>0.000014</td>\n",
       "      <td>0.1640</td>\n",
       "      <td>0.446</td>\n",
       "      <td>103.019</td>\n",
       "    </tr>\n",
       "    <tr>\n",
       "      <th>4</th>\n",
       "      <td>4</td>\n",
       "      <td>3DXncPQOG4VBw3QHh3S81</td>\n",
       "      <td>I'm the One</td>\n",
       "      <td>DJ Khaled</td>\n",
       "      <td>0.609</td>\n",
       "      <td>0.668</td>\n",
       "      <td>7.0</td>\n",
       "      <td>-4.284</td>\n",
       "      <td>0.0367</td>\n",
       "      <td>0.0552</td>\n",
       "      <td>0.000000</td>\n",
       "      <td>0.1670</td>\n",
       "      <td>0.811</td>\n",
       "      <td>80.924</td>\n",
       "    </tr>\n",
       "  </tbody>\n",
       "</table>\n",
       "</div>"
      ],
      "text/plain": [
       "   Unnamed: 0                     id                                name  \\\n",
       "0           0  7qiZfU4dY1lWllzX7mPBI                        Shape of You   \n",
       "1           1  5CtI0qwDJkDQGwXD1H1cL                   Despacito - Remix   \n",
       "2           2  4aWmUDTfIPGksMNLV2rQP  Despacito (Featuring Daddy Yankee)   \n",
       "3           3  6RUKPb4LETWmmr3iAEQkt            Something Just Like This   \n",
       "4           4  3DXncPQOG4VBw3QHh3S81                         I'm the One   \n",
       "\n",
       "            artists  danceability  energy   key  loudness  speechiness  \\\n",
       "0        Ed Sheeran         0.825   0.652   1.0    -3.183       0.0802   \n",
       "1        Luis Fonsi         0.694   0.815   2.0    -4.328       0.1200   \n",
       "2        Luis Fonsi         0.660   0.786   2.0    -4.757       0.1700   \n",
       "3  The Chainsmokers         0.617   0.635  11.0    -6.769       0.0317   \n",
       "4         DJ Khaled         0.609   0.668   7.0    -4.284       0.0367   \n",
       "\n",
       "   acousticness  instrumentalness  liveness  valence    tempo  \n",
       "0        0.5810          0.000000    0.0931    0.931   95.977  \n",
       "1        0.2290          0.000000    0.0924    0.813   88.931  \n",
       "2        0.2090          0.000000    0.1120    0.846  177.833  \n",
       "3        0.0498          0.000014    0.1640    0.446  103.019  \n",
       "4        0.0552          0.000000    0.1670    0.811   80.924  "
      ]
     },
     "execution_count": 2,
     "metadata": {},
     "output_type": "execute_result"
    }
   ],
   "source": [
    "dados = pd.read_csv('featuresdf1.csv')\n",
    "dados.head()"
   ]
  },
  {
   "cell_type": "markdown",
   "metadata": {},
   "source": [
    "Definindo a função de regressão."
   ]
  },
  {
   "cell_type": "code",
   "execution_count": 3,
   "metadata": {},
   "outputs": [],
   "source": [
    "def regre(x, y):\n",
    "    X = sm.add_constant(x)\n",
    "    model = sm.OLS(y, x)\n",
    "    result = model.fit()\n",
    "    return result"
   ]
  },
  {
   "cell_type": "markdown",
   "metadata": {},
   "source": [
    "# ANÁLISE DAS VARIÁVEIS"
   ]
  },
  {
   "cell_type": "markdown",
   "metadata": {},
   "source": [
    "Com o dataset definido, e a partir da análise exploratória, verificamos a relação existente entre cada uma das variáveis."
   ]
  },
  {
   "cell_type": "markdown",
   "metadata": {},
   "source": [
    "### Primeira variável a ser analisada: energy"
   ]
  },
  {
   "cell_type": "code",
   "execution_count": 5,
   "metadata": {},
   "outputs": [],
   "source": [
    "quant1 = ['danceability','speechiness', 'instrumentalness', 'liveness', 'valence', 'loudness','key','acousticness']"
   ]
  },
  {
   "cell_type": "code",
   "execution_count": 6,
   "metadata": {},
   "outputs": [],
   "source": [
    "quant1_x = quant1.copy()"
   ]
  },
  {
   "cell_type": "code",
   "execution_count": 7,
   "metadata": {},
   "outputs": [
    {
     "data": {
      "text/html": [
       "<table class=\"simpletable\">\n",
       "<caption>OLS Regression Results</caption>\n",
       "<tr>\n",
       "  <th>Dep. Variable:</th>         <td>energy</td>      <th>  R-squared:         </th> <td>   0.945</td>\n",
       "</tr>\n",
       "<tr>\n",
       "  <th>Model:</th>                   <td>OLS</td>       <th>  Adj. R-squared:    </th> <td>   0.941</td>\n",
       "</tr>\n",
       "<tr>\n",
       "  <th>Method:</th>             <td>Least Squares</td>  <th>  F-statistic:       </th> <td>   199.0</td>\n",
       "</tr>\n",
       "<tr>\n",
       "  <th>Date:</th>             <td>Thu, 22 Nov 2018</td> <th>  Prob (F-statistic):</th> <td>1.31e-54</td>\n",
       "</tr>\n",
       "<tr>\n",
       "  <th>Time:</th>                 <td>19:35:26</td>     <th>  Log-Likelihood:    </th> <td>  42.759</td>\n",
       "</tr>\n",
       "<tr>\n",
       "  <th>No. Observations:</th>      <td>   100</td>      <th>  AIC:               </th> <td>  -69.52</td>\n",
       "</tr>\n",
       "<tr>\n",
       "  <th>Df Residuals:</th>          <td>    92</td>      <th>  BIC:               </th> <td>  -48.68</td>\n",
       "</tr>\n",
       "<tr>\n",
       "  <th>Df Model:</th>              <td>     8</td>      <th>                     </th>     <td> </td>   \n",
       "</tr>\n",
       "<tr>\n",
       "  <th>Covariance Type:</th>      <td>nonrobust</td>    <th>                     </th>     <td> </td>   \n",
       "</tr>\n",
       "</table>\n",
       "<table class=\"simpletable\">\n",
       "<tr>\n",
       "          <td></td>            <th>coef</th>     <th>std err</th>      <th>t</th>      <th>P>|t|</th>  <th>[0.025</th>    <th>0.975]</th>  \n",
       "</tr>\n",
       "<tr>\n",
       "  <th>danceability</th>     <td>    0.5795</td> <td>    0.116</td> <td>    4.998</td> <td> 0.000</td> <td>    0.349</td> <td>    0.810</td>\n",
       "</tr>\n",
       "<tr>\n",
       "  <th>speechiness</th>      <td>   -0.0746</td> <td>    0.198</td> <td>   -0.377</td> <td> 0.707</td> <td>   -0.467</td> <td>    0.318</td>\n",
       "</tr>\n",
       "<tr>\n",
       "  <th>instrumentalness</th> <td>    0.9922</td> <td>    0.646</td> <td>    1.536</td> <td> 0.128</td> <td>   -0.290</td> <td>    2.275</td>\n",
       "</tr>\n",
       "<tr>\n",
       "  <th>liveness</th>         <td>    0.6981</td> <td>    0.201</td> <td>    3.475</td> <td> 0.001</td> <td>    0.299</td> <td>    1.097</td>\n",
       "</tr>\n",
       "<tr>\n",
       "  <th>valence</th>          <td>    0.2525</td> <td>    0.093</td> <td>    2.706</td> <td> 0.008</td> <td>    0.067</td> <td>    0.438</td>\n",
       "</tr>\n",
       "<tr>\n",
       "  <th>loudness</th>         <td>    0.0070</td> <td>    0.010</td> <td>    0.695</td> <td> 0.489</td> <td>   -0.013</td> <td>    0.027</td>\n",
       "</tr>\n",
       "<tr>\n",
       "  <th>key</th>              <td>    0.0115</td> <td>    0.004</td> <td>    2.653</td> <td> 0.009</td> <td>    0.003</td> <td>    0.020</td>\n",
       "</tr>\n",
       "<tr>\n",
       "  <th>acousticness</th>     <td>   -0.1062</td> <td>    0.106</td> <td>   -1.005</td> <td> 0.317</td> <td>   -0.316</td> <td>    0.104</td>\n",
       "</tr>\n",
       "</table>\n",
       "<table class=\"simpletable\">\n",
       "<tr>\n",
       "  <th>Omnibus:</th>       <td> 0.538</td> <th>  Durbin-Watson:     </th> <td>   2.253</td>\n",
       "</tr>\n",
       "<tr>\n",
       "  <th>Prob(Omnibus):</th> <td> 0.764</td> <th>  Jarque-Bera (JB):  </th> <td>   0.664</td>\n",
       "</tr>\n",
       "<tr>\n",
       "  <th>Skew:</th>          <td> 0.044</td> <th>  Prob(JB):          </th> <td>   0.717</td>\n",
       "</tr>\n",
       "<tr>\n",
       "  <th>Kurtosis:</th>      <td> 2.611</td> <th>  Cond. No.          </th> <td>    336.</td>\n",
       "</tr>\n",
       "</table>"
      ],
      "text/plain": [
       "<class 'statsmodels.iolib.summary.Summary'>\n",
       "\"\"\"\n",
       "                            OLS Regression Results                            \n",
       "==============================================================================\n",
       "Dep. Variable:                 energy   R-squared:                       0.945\n",
       "Model:                            OLS   Adj. R-squared:                  0.941\n",
       "Method:                 Least Squares   F-statistic:                     199.0\n",
       "Date:                Thu, 22 Nov 2018   Prob (F-statistic):           1.31e-54\n",
       "Time:                        19:35:26   Log-Likelihood:                 42.759\n",
       "No. Observations:                 100   AIC:                            -69.52\n",
       "Df Residuals:                      92   BIC:                            -48.68\n",
       "Df Model:                           8                                         \n",
       "Covariance Type:            nonrobust                                         \n",
       "====================================================================================\n",
       "                       coef    std err          t      P>|t|      [0.025      0.975]\n",
       "------------------------------------------------------------------------------------\n",
       "danceability         0.5795      0.116      4.998      0.000       0.349       0.810\n",
       "speechiness         -0.0746      0.198     -0.377      0.707      -0.467       0.318\n",
       "instrumentalness     0.9922      0.646      1.536      0.128      -0.290       2.275\n",
       "liveness             0.6981      0.201      3.475      0.001       0.299       1.097\n",
       "valence              0.2525      0.093      2.706      0.008       0.067       0.438\n",
       "loudness             0.0070      0.010      0.695      0.489      -0.013       0.027\n",
       "key                  0.0115      0.004      2.653      0.009       0.003       0.020\n",
       "acousticness        -0.1062      0.106     -1.005      0.317      -0.316       0.104\n",
       "==============================================================================\n",
       "Omnibus:                        0.538   Durbin-Watson:                   2.253\n",
       "Prob(Omnibus):                  0.764   Jarque-Bera (JB):                0.664\n",
       "Skew:                           0.044   Prob(JB):                        0.717\n",
       "Kurtosis:                       2.611   Cond. No.                         336.\n",
       "==============================================================================\n",
       "\n",
       "Warnings:\n",
       "[1] Standard Errors assume that the covariance matrix of the errors is correctly specified.\n",
       "\"\"\""
      ]
     },
     "execution_count": 7,
     "metadata": {},
     "output_type": "execute_result"
    }
   ],
   "source": [
    "re1 = regre(dados.loc[:, quant1], dados.energy)\n",
    "re1.summary()"
   ]
  },
  {
   "cell_type": "code",
   "execution_count": 8,
   "metadata": {},
   "outputs": [
    {
     "data": {
      "image/png": "[encoded data removed]",
      "text/plain": [
       "<matplotlib.figure.Figure at 0x1d4722248d0>"
      ]
     },
     "metadata": {},
     "output_type": "display_data"
    }
   ],
   "source": [
    "probplot(re1.resid, dist='norm', plot=plt);"
   ]
  },
  {
   "cell_type": "markdown",
   "metadata": {},
   "source": [
    "Fazendo uma análise da variável 'energy', podemos observar que as probabilidades de Omnibus e de Jarque-Bera(JB) não são nulas, portanto, podemos confiar nos valores do p value mostrados na tabela. Como o p value da variável 'tempo' é um valor muito alto, chegamos à hipótese de que talvez não tenha tanta relevância se comparado à variável 'energy', e, assim, pode ser descartado. Pelo gráfico, observamos que a distibuição se aproxima de uma normal, e, como obtivemos um bom índice do R-squared (59%), podemos dizer que a variável 'energy' é fortemente relacionada com as demais."
   ]
  },
  {
   "cell_type": "markdown",
   "metadata": {},
   "source": [
    "### Segunda variável a ser analisada: danceability"
   ]
  },
  {
   "cell_type": "code",
   "execution_count": 9,
   "metadata": {},
   "outputs": [],
   "source": [
    "quant2 = ['speechiness', 'instrumentalness', 'liveness', 'valence', 'tempo', 'loudness','key','acousticness', 'energy']"
   ]
  },
  {
   "cell_type": "code",
   "execution_count": 10,
   "metadata": {},
   "outputs": [],
   "source": [
    "quant2_x = quant2.copy()"
   ]
  },
  {
   "cell_type": "code",
   "execution_count": 11,
   "metadata": {},
   "outputs": [
    {
     "data": {
      "text/html": [
       "<table class=\"simpletable\">\n",
       "<caption>OLS Regression Results</caption>\n",
       "<tr>\n",
       "  <th>Dep. Variable:</th>      <td>danceability</td>   <th>  R-squared:         </th> <td>   0.969</td>\n",
       "</tr>\n",
       "<tr>\n",
       "  <th>Model:</th>                   <td>OLS</td>       <th>  Adj. R-squared:    </th> <td>   0.966</td>\n",
       "</tr>\n",
       "<tr>\n",
       "  <th>Method:</th>             <td>Least Squares</td>  <th>  F-statistic:       </th> <td>   312.0</td>\n",
       "</tr>\n",
       "<tr>\n",
       "  <th>Date:</th>             <td>Thu, 22 Nov 2018</td> <th>  Prob (F-statistic):</th> <td>2.32e-64</td>\n",
       "</tr>\n",
       "<tr>\n",
       "  <th>Time:</th>                 <td>19:36:17</td>     <th>  Log-Likelihood:    </th> <td>  65.726</td>\n",
       "</tr>\n",
       "<tr>\n",
       "  <th>No. Observations:</th>      <td>   100</td>      <th>  AIC:               </th> <td>  -113.5</td>\n",
       "</tr>\n",
       "<tr>\n",
       "  <th>Df Residuals:</th>          <td>    91</td>      <th>  BIC:               </th> <td>  -90.00</td>\n",
       "</tr>\n",
       "<tr>\n",
       "  <th>Df Model:</th>              <td>     9</td>      <th>                     </th>     <td> </td>   \n",
       "</tr>\n",
       "<tr>\n",
       "  <th>Covariance Type:</th>      <td>nonrobust</td>    <th>                     </th>     <td> </td>   \n",
       "</tr>\n",
       "</table>\n",
       "<table class=\"simpletable\">\n",
       "<tr>\n",
       "          <td></td>            <th>coef</th>     <th>std err</th>      <th>t</th>      <th>P>|t|</th>  <th>[0.025</th>    <th>0.975]</th>  \n",
       "</tr>\n",
       "<tr>\n",
       "  <th>speechiness</th>      <td>    0.0549</td> <td>    0.158</td> <td>    0.347</td> <td> 0.730</td> <td>   -0.260</td> <td>    0.369</td>\n",
       "</tr>\n",
       "<tr>\n",
       "  <th>instrumentalness</th> <td>   -0.2084</td> <td>    0.523</td> <td>   -0.399</td> <td> 0.691</td> <td>   -1.247</td> <td>    0.830</td>\n",
       "</tr>\n",
       "<tr>\n",
       "  <th>liveness</th>         <td>    0.0385</td> <td>    0.171</td> <td>    0.226</td> <td> 0.822</td> <td>   -0.301</td> <td>    0.378</td>\n",
       "</tr>\n",
       "<tr>\n",
       "  <th>valence</th>          <td>    0.3723</td> <td>    0.067</td> <td>    5.535</td> <td> 0.000</td> <td>    0.239</td> <td>    0.506</td>\n",
       "</tr>\n",
       "<tr>\n",
       "  <th>tempo</th>            <td>   -0.0004</td> <td>    0.000</td> <td>   -0.773</td> <td> 0.441</td> <td>   -0.001</td> <td>    0.001</td>\n",
       "</tr>\n",
       "<tr>\n",
       "  <th>loudness</th>         <td>   -0.0476</td> <td>    0.008</td> <td>   -5.970</td> <td> 0.000</td> <td>   -0.063</td> <td>   -0.032</td>\n",
       "</tr>\n",
       "<tr>\n",
       "  <th>key</th>              <td>   -0.0016</td> <td>    0.004</td> <td>   -0.436</td> <td> 0.664</td> <td>   -0.009</td> <td>    0.006</td>\n",
       "</tr>\n",
       "<tr>\n",
       "  <th>acousticness</th>     <td>   -0.0012</td> <td>    0.086</td> <td>   -0.014</td> <td> 0.989</td> <td>   -0.171</td> <td>    0.169</td>\n",
       "</tr>\n",
       "<tr>\n",
       "  <th>energy</th>           <td>    0.4138</td> <td>    0.094</td> <td>    4.389</td> <td> 0.000</td> <td>    0.227</td> <td>    0.601</td>\n",
       "</tr>\n",
       "</table>\n",
       "<table class=\"simpletable\">\n",
       "<tr>\n",
       "  <th>Omnibus:</th>       <td> 3.996</td> <th>  Durbin-Watson:     </th> <td>   1.733</td>\n",
       "</tr>\n",
       "<tr>\n",
       "  <th>Prob(Omnibus):</th> <td> 0.136</td> <th>  Jarque-Bera (JB):  </th> <td>   4.451</td>\n",
       "</tr>\n",
       "<tr>\n",
       "  <th>Skew:</th>          <td>-0.143</td> <th>  Prob(JB):          </th> <td>   0.108</td>\n",
       "</tr>\n",
       "<tr>\n",
       "  <th>Kurtosis:</th>      <td> 3.993</td> <th>  Cond. No.          </th> <td>4.88e+03</td>\n",
       "</tr>\n",
       "</table>"
      ],
      "text/plain": [
       "<class 'statsmodels.iolib.summary.Summary'>\n",
       "\"\"\"\n",
       "                            OLS Regression Results                            \n",
       "==============================================================================\n",
       "Dep. Variable:           danceability   R-squared:                       0.969\n",
       "Model:                            OLS   Adj. R-squared:                  0.966\n",
       "Method:                 Least Squares   F-statistic:                     312.0\n",
       "Date:                Thu, 22 Nov 2018   Prob (F-statistic):           2.32e-64\n",
       "Time:                        19:36:17   Log-Likelihood:                 65.726\n",
       "No. Observations:                 100   AIC:                            -113.5\n",
       "Df Residuals:                      91   BIC:                            -90.00\n",
       "Df Model:                           9                                         \n",
       "Covariance Type:            nonrobust                                         \n",
       "====================================================================================\n",
       "                       coef    std err          t      P>|t|      [0.025      0.975]\n",
       "------------------------------------------------------------------------------------\n",
       "speechiness          0.0549      0.158      0.347      0.730      -0.260       0.369\n",
       "instrumentalness    -0.2084      0.523     -0.399      0.691      -1.247       0.830\n",
       "liveness             0.0385      0.171      0.226      0.822      -0.301       0.378\n",
       "valence              0.3723      0.067      5.535      0.000       0.239       0.506\n",
       "tempo               -0.0004      0.000     -0.773      0.441      -0.001       0.001\n",
       "loudness            -0.0476      0.008     -5.970      0.000      -0.063      -0.032\n",
       "key                 -0.0016      0.004     -0.436      0.664      -0.009       0.006\n",
       "acousticness        -0.0012      0.086     -0.014      0.989      -0.171       0.169\n",
       "energy               0.4138      0.094      4.389      0.000       0.227       0.601\n",
       "==============================================================================\n",
       "Omnibus:                        3.996   Durbin-Watson:                   1.733\n",
       "Prob(Omnibus):                  0.136   Jarque-Bera (JB):                4.451\n",
       "Skew:                          -0.143   Prob(JB):                        0.108\n",
       "Kurtosis:                       3.993   Cond. No.                     4.88e+03\n",
       "==============================================================================\n",
       "\n",
       "Warnings:\n",
       "[1] Standard Errors assume that the covariance matrix of the errors is correctly specified.\n",
       "[2] The condition number is large, 4.88e+03. This might indicate that there are\n",
       "strong multicollinearity or other numerical problems.\n",
       "\"\"\""
      ]
     },
     "execution_count": 11,
     "metadata": {},
     "output_type": "execute_result"
    }
   ],
   "source": [
    "re2 = regre(dados.loc[:, quant2], dados.danceability)\n",
    "re2.summary()"
   ]
  },
  {
   "cell_type": "code",
   "execution_count": 12,
   "metadata": {},
   "outputs": [
    {
     "data": {
      "text/html": [
       "<table class=\"simpletable\">\n",
       "<caption>OLS Regression Results</caption>\n",
       "<tr>\n",
       "  <th>Dep. Variable:</th>      <td>danceability</td>   <th>  R-squared:         </th> <td>   0.969</td>\n",
       "</tr>\n",
       "<tr>\n",
       "  <th>Model:</th>                   <td>OLS</td>       <th>  Adj. R-squared:    </th> <td>   0.966</td>\n",
       "</tr>\n",
       "<tr>\n",
       "  <th>Method:</th>             <td>Least Squares</td>  <th>  F-statistic:       </th> <td>   312.0</td>\n",
       "</tr>\n",
       "<tr>\n",
       "  <th>Date:</th>             <td>Thu, 22 Nov 2018</td> <th>  Prob (F-statistic):</th> <td>2.32e-64</td>\n",
       "</tr>\n",
       "<tr>\n",
       "  <th>Time:</th>                 <td>19:36:26</td>     <th>  Log-Likelihood:    </th> <td>  65.726</td>\n",
       "</tr>\n",
       "<tr>\n",
       "  <th>No. Observations:</th>      <td>   100</td>      <th>  AIC:               </th> <td>  -113.5</td>\n",
       "</tr>\n",
       "<tr>\n",
       "  <th>Df Residuals:</th>          <td>    91</td>      <th>  BIC:               </th> <td>  -90.00</td>\n",
       "</tr>\n",
       "<tr>\n",
       "  <th>Df Model:</th>              <td>     9</td>      <th>                     </th>     <td> </td>   \n",
       "</tr>\n",
       "<tr>\n",
       "  <th>Covariance Type:</th>      <td>nonrobust</td>    <th>                     </th>     <td> </td>   \n",
       "</tr>\n",
       "</table>\n",
       "<table class=\"simpletable\">\n",
       "<tr>\n",
       "          <td></td>            <th>coef</th>     <th>std err</th>      <th>t</th>      <th>P>|t|</th>  <th>[0.025</th>    <th>0.975]</th>  \n",
       "</tr>\n",
       "<tr>\n",
       "  <th>speechiness</th>      <td>    0.0549</td> <td>    0.158</td> <td>    0.347</td> <td> 0.730</td> <td>   -0.260</td> <td>    0.369</td>\n",
       "</tr>\n",
       "<tr>\n",
       "  <th>instrumentalness</th> <td>   -0.2084</td> <td>    0.523</td> <td>   -0.399</td> <td> 0.691</td> <td>   -1.247</td> <td>    0.830</td>\n",
       "</tr>\n",
       "<tr>\n",
       "  <th>liveness</th>         <td>    0.0385</td> <td>    0.171</td> <td>    0.226</td> <td> 0.822</td> <td>   -0.301</td> <td>    0.378</td>\n",
       "</tr>\n",
       "<tr>\n",
       "  <th>valence</th>          <td>    0.3723</td> <td>    0.067</td> <td>    5.535</td> <td> 0.000</td> <td>    0.239</td> <td>    0.506</td>\n",
       "</tr>\n",
       "<tr>\n",
       "  <th>tempo</th>            <td>   -0.0004</td> <td>    0.000</td> <td>   -0.773</td> <td> 0.441</td> <td>   -0.001</td> <td>    0.001</td>\n",
       "</tr>\n",
       "<tr>\n",
       "  <th>loudness</th>         <td>   -0.0476</td> <td>    0.008</td> <td>   -5.970</td> <td> 0.000</td> <td>   -0.063</td> <td>   -0.032</td>\n",
       "</tr>\n",
       "<tr>\n",
       "  <th>key</th>              <td>   -0.0016</td> <td>    0.004</td> <td>   -0.436</td> <td> 0.664</td> <td>   -0.009</td> <td>    0.006</td>\n",
       "</tr>\n",
       "<tr>\n",
       "  <th>acousticness</th>     <td>   -0.0012</td> <td>    0.086</td> <td>   -0.014</td> <td> 0.989</td> <td>   -0.171</td> <td>    0.169</td>\n",
       "</tr>\n",
       "<tr>\n",
       "  <th>energy</th>           <td>    0.4138</td> <td>    0.094</td> <td>    4.389</td> <td> 0.000</td> <td>    0.227</td> <td>    0.601</td>\n",
       "</tr>\n",
       "</table>\n",
       "<table class=\"simpletable\">\n",
       "<tr>\n",
       "  <th>Omnibus:</th>       <td> 3.996</td> <th>  Durbin-Watson:     </th> <td>   1.733</td>\n",
       "</tr>\n",
       "<tr>\n",
       "  <th>Prob(Omnibus):</th> <td> 0.136</td> <th>  Jarque-Bera (JB):  </th> <td>   4.451</td>\n",
       "</tr>\n",
       "<tr>\n",
       "  <th>Skew:</th>          <td>-0.143</td> <th>  Prob(JB):          </th> <td>   0.108</td>\n",
       "</tr>\n",
       "<tr>\n",
       "  <th>Kurtosis:</th>      <td> 3.993</td> <th>  Cond. No.          </th> <td>4.88e+03</td>\n",
       "</tr>\n",
       "</table>"
      ],
      "text/plain": [
       "<class 'statsmodels.iolib.summary.Summary'>\n",
       "\"\"\"\n",
       "                            OLS Regression Results                            \n",
       "==============================================================================\n",
       "Dep. Variable:           danceability   R-squared:                       0.969\n",
       "Model:                            OLS   Adj. R-squared:                  0.966\n",
       "Method:                 Least Squares   F-statistic:                     312.0\n",
       "Date:                Thu, 22 Nov 2018   Prob (F-statistic):           2.32e-64\n",
       "Time:                        19:36:26   Log-Likelihood:                 65.726\n",
       "No. Observations:                 100   AIC:                            -113.5\n",
       "Df Residuals:                      91   BIC:                            -90.00\n",
       "Df Model:                           9                                         \n",
       "Covariance Type:            nonrobust                                         \n",
       "====================================================================================\n",
       "                       coef    std err          t      P>|t|      [0.025      0.975]\n",
       "------------------------------------------------------------------------------------\n",
       "speechiness          0.0549      0.158      0.347      0.730      -0.260       0.369\n",
       "instrumentalness    -0.2084      0.523     -0.399      0.691      -1.247       0.830\n",
       "liveness             0.0385      0.171      0.226      0.822      -0.301       0.378\n",
       "valence              0.3723      0.067      5.535      0.000       0.239       0.506\n",
       "tempo               -0.0004      0.000     -0.773      0.441      -0.001       0.001\n",
       "loudness            -0.0476      0.008     -5.970      0.000      -0.063      -0.032\n",
       "key                 -0.0016      0.004     -0.436      0.664      -0.009       0.006\n",
       "acousticness        -0.0012      0.086     -0.014      0.989      -0.171       0.169\n",
       "energy               0.4138      0.094      4.389      0.000       0.227       0.601\n",
       "==============================================================================\n",
       "Omnibus:                        3.996   Durbin-Watson:                   1.733\n",
       "Prob(Omnibus):                  0.136   Jarque-Bera (JB):                4.451\n",
       "Skew:                          -0.143   Prob(JB):                        0.108\n",
       "Kurtosis:                       3.993   Cond. No.                     4.88e+03\n",
       "==============================================================================\n",
       "\n",
       "Warnings:\n",
       "[1] Standard Errors assume that the covariance matrix of the errors is correctly specified.\n",
       "[2] The condition number is large, 4.88e+03. This might indicate that there are\n",
       "strong multicollinearity or other numerical problems.\n",
       "\"\"\""
      ]
     },
     "execution_count": 12,
     "metadata": {},
     "output_type": "execute_result"
    }
   ],
   "source": [
    "re2 = regre(dados.loc[:, quant2], dados.danceability)\n",
    "re2.summary()"
   ]
  },
  {
   "cell_type": "code",
   "execution_count": 13,
   "metadata": {},
   "outputs": [
    {
     "data": {
      "image/png": "[encoded data removed]",
      "text/plain": [
       "<matplotlib.figure.Figure at 0x1d472df9908>"
      ]
     },
     "metadata": {},
     "output_type": "display_data"
    }
   ],
   "source": [
    "probplot(re2.resid, dist='norm', plot=plt);"
   ]
  },
  {
   "cell_type": "markdown",
   "metadata": {},
   "source": [
    "Fazendo uma análise da variável 'danceability', podemos observar que as probabilidades de Omnibus e de Jarque-Bera(JB) não são nulas, portanto, podemos confiar nos valores do p value mostrados na tabela. Temos que os valores do p value das variáveis 'acousticnes' e 'liveness' estão altos, o que indica que talvez não tenha uma forte relação com tais variáveis. Pelo gráfico, observamos que a distibuição se aproxima de uma normal, salvo alguns outliers. Além disso, obtivemos um bom índice do R-squared (96%), o que indica que influencia nas variáveis 'valence' e 'energy', porém, não podemos afirmar que a variável 'danceability' é fortemente relacionada com as demais, devido aos altos valores do p value."
   ]
  },
  {
   "cell_type": "markdown",
   "metadata": {},
   "source": [
    "### Terceira variavel a ser analisada: speechiness"
   ]
  },
  {
   "cell_type": "code",
   "execution_count": 14,
   "metadata": {},
   "outputs": [],
   "source": [
    "quant3 = [ 'instrumentalness', 'liveness', 'valence', 'tempo', 'loudness','key','acousticness', 'energy', 'danceability']"
   ]
  },
  {
   "cell_type": "code",
   "execution_count": 15,
   "metadata": {},
   "outputs": [],
   "source": [
    "quant3_x = quant3.copy()"
   ]
  },
  {
   "cell_type": "code",
   "execution_count": 16,
   "metadata": {},
   "outputs": [
    {
     "data": {
      "text/html": [
       "<table class=\"simpletable\">\n",
       "<caption>OLS Regression Results</caption>\n",
       "<tr>\n",
       "  <th>Dep. Variable:</th>       <td>speechiness</td>   <th>  R-squared:         </th> <td>   0.651</td>\n",
       "</tr>\n",
       "<tr>\n",
       "  <th>Model:</th>                   <td>OLS</td>       <th>  Adj. R-squared:    </th> <td>   0.617</td>\n",
       "</tr>\n",
       "<tr>\n",
       "  <th>Method:</th>             <td>Least Squares</td>  <th>  F-statistic:       </th> <td>   18.89</td>\n",
       "</tr>\n",
       "<tr>\n",
       "  <th>Date:</th>             <td>Thu, 22 Nov 2018</td> <th>  Prob (F-statistic):</th> <td>2.25e-17</td>\n",
       "</tr>\n",
       "<tr>\n",
       "  <th>Time:</th>                 <td>19:37:47</td>     <th>  Log-Likelihood:    </th> <td>  106.99</td>\n",
       "</tr>\n",
       "<tr>\n",
       "  <th>No. Observations:</th>      <td>   100</td>      <th>  AIC:               </th> <td>  -196.0</td>\n",
       "</tr>\n",
       "<tr>\n",
       "  <th>Df Residuals:</th>          <td>    91</td>      <th>  BIC:               </th> <td>  -172.5</td>\n",
       "</tr>\n",
       "<tr>\n",
       "  <th>Df Model:</th>              <td>     9</td>      <th>                     </th>     <td> </td>   \n",
       "</tr>\n",
       "<tr>\n",
       "  <th>Covariance Type:</th>      <td>nonrobust</td>    <th>                     </th>     <td> </td>   \n",
       "</tr>\n",
       "</table>\n",
       "<table class=\"simpletable\">\n",
       "<tr>\n",
       "          <td></td>            <th>coef</th>     <th>std err</th>      <th>t</th>      <th>P>|t|</th>  <th>[0.025</th>    <th>0.975]</th>  \n",
       "</tr>\n",
       "<tr>\n",
       "  <th>instrumentalness</th> <td>   -0.4284</td> <td>    0.343</td> <td>   -1.248</td> <td> 0.215</td> <td>   -1.110</td> <td>    0.254</td>\n",
       "</tr>\n",
       "<tr>\n",
       "  <th>liveness</th>         <td>   -0.0615</td> <td>    0.113</td> <td>   -0.545</td> <td> 0.587</td> <td>   -0.286</td> <td>    0.163</td>\n",
       "</tr>\n",
       "<tr>\n",
       "  <th>valence</th>          <td>    0.0137</td> <td>    0.051</td> <td>    0.266</td> <td> 0.791</td> <td>   -0.089</td> <td>    0.116</td>\n",
       "</tr>\n",
       "<tr>\n",
       "  <th>tempo</th>            <td>    0.0001</td> <td>    0.000</td> <td>    0.438</td> <td> 0.663</td> <td>   -0.001</td> <td>    0.001</td>\n",
       "</tr>\n",
       "<tr>\n",
       "  <th>loudness</th>         <td>   -0.0201</td> <td>    0.006</td> <td>   -3.443</td> <td> 0.001</td> <td>   -0.032</td> <td>   -0.009</td>\n",
       "</tr>\n",
       "<tr>\n",
       "  <th>key</th>              <td>    0.0006</td> <td>    0.002</td> <td>    0.254</td> <td> 0.800</td> <td>   -0.004</td> <td>    0.005</td>\n",
       "</tr>\n",
       "<tr>\n",
       "  <th>acousticness</th>     <td>   -0.0935</td> <td>    0.056</td> <td>   -1.675</td> <td> 0.097</td> <td>   -0.204</td> <td>    0.017</td>\n",
       "</tr>\n",
       "<tr>\n",
       "  <th>energy</th>           <td>   -0.0386</td> <td>    0.069</td> <td>   -0.562</td> <td> 0.575</td> <td>   -0.175</td> <td>    0.098</td>\n",
       "</tr>\n",
       "<tr>\n",
       "  <th>danceability</th>     <td>    0.0240</td> <td>    0.069</td> <td>    0.347</td> <td> 0.730</td> <td>   -0.114</td> <td>    0.162</td>\n",
       "</tr>\n",
       "</table>\n",
       "<table class=\"simpletable\">\n",
       "<tr>\n",
       "  <th>Omnibus:</th>       <td>15.105</td> <th>  Durbin-Watson:     </th> <td>   1.909</td>\n",
       "</tr>\n",
       "<tr>\n",
       "  <th>Prob(Omnibus):</th> <td> 0.001</td> <th>  Jarque-Bera (JB):  </th> <td>  16.829</td>\n",
       "</tr>\n",
       "<tr>\n",
       "  <th>Skew:</th>          <td> 0.962</td> <th>  Prob(JB):          </th> <td>0.000222</td>\n",
       "</tr>\n",
       "<tr>\n",
       "  <th>Kurtosis:</th>      <td> 3.581</td> <th>  Cond. No.          </th> <td>4.84e+03</td>\n",
       "</tr>\n",
       "</table>"
      ],
      "text/plain": [
       "<class 'statsmodels.iolib.summary.Summary'>\n",
       "\"\"\"\n",
       "                            OLS Regression Results                            \n",
       "==============================================================================\n",
       "Dep. Variable:            speechiness   R-squared:                       0.651\n",
       "Model:                            OLS   Adj. R-squared:                  0.617\n",
       "Method:                 Least Squares   F-statistic:                     18.89\n",
       "Date:                Thu, 22 Nov 2018   Prob (F-statistic):           2.25e-17\n",
       "Time:                        19:37:47   Log-Likelihood:                 106.99\n",
       "No. Observations:                 100   AIC:                            -196.0\n",
       "Df Residuals:                      91   BIC:                            -172.5\n",
       "Df Model:                           9                                         \n",
       "Covariance Type:            nonrobust                                         \n",
       "====================================================================================\n",
       "                       coef    std err          t      P>|t|      [0.025      0.975]\n",
       "------------------------------------------------------------------------------------\n",
       "instrumentalness    -0.4284      0.343     -1.248      0.215      -1.110       0.254\n",
       "liveness            -0.0615      0.113     -0.545      0.587      -0.286       0.163\n",
       "valence              0.0137      0.051      0.266      0.791      -0.089       0.116\n",
       "tempo                0.0001      0.000      0.438      0.663      -0.001       0.001\n",
       "loudness            -0.0201      0.006     -3.443      0.001      -0.032      -0.009\n",
       "key                  0.0006      0.002      0.254      0.800      -0.004       0.005\n",
       "acousticness        -0.0935      0.056     -1.675      0.097      -0.204       0.017\n",
       "energy              -0.0386      0.069     -0.562      0.575      -0.175       0.098\n",
       "danceability         0.0240      0.069      0.347      0.730      -0.114       0.162\n",
       "==============================================================================\n",
       "Omnibus:                       15.105   Durbin-Watson:                   1.909\n",
       "Prob(Omnibus):                  0.001   Jarque-Bera (JB):               16.829\n",
       "Skew:                           0.962   Prob(JB):                     0.000222\n",
       "Kurtosis:                       3.581   Cond. No.                     4.84e+03\n",
       "==============================================================================\n",
       "\n",
       "Warnings:\n",
       "[1] Standard Errors assume that the covariance matrix of the errors is correctly specified.\n",
       "[2] The condition number is large, 4.84e+03. This might indicate that there are\n",
       "strong multicollinearity or other numerical problems.\n",
       "\"\"\""
      ]
     },
     "execution_count": 16,
     "metadata": {},
     "output_type": "execute_result"
    }
   ],
   "source": [
    "re3 = regre(dados.loc[:, quant3], dados.speechiness)\n",
    "re3.summary()"
   ]
  },
  {
   "cell_type": "code",
   "execution_count": 17,
   "metadata": {},
   "outputs": [
    {
     "data": {
      "image/png": "[encoded data removed]",
      "text/plain": [
       "<matplotlib.figure.Figure at 0x1d472e79c50>"
      ]
     },
     "metadata": {},
     "output_type": "display_data"
    }
   ],
   "source": [
    "probplot(re3.resid, dist='norm', plot=plt);"
   ]
  },
  {
   "cell_type": "markdown",
   "metadata": {},
   "source": [
    "Fazendo uma análise da variável 'speechiness', podemos observar que as probabilidades de Omnibus e de Jarque-Bera(JB) não são nulas, portanto, podemos confiar nos valores do p value mostrados na tabela. Temos que os valores do p value estão um pouo altos, o que indica que talvez não tenha uma forte relação com as outras variáveis. Pelo gráfico, observamos que a distibuição se aproxima de uma normal, salvo alguns outliers. Além disso, obtivemos um bom índice do R-squared (65%), porém, não podemos afirmar que a variável 'speechiness' é fortemente relacionada com as demais."
   ]
  },
  {
   "cell_type": "markdown",
   "metadata": {},
   "source": [
    "### Quarta variavel a ser analisada: instrumentalness"
   ]
  },
  {
   "cell_type": "code",
   "execution_count": 18,
   "metadata": {},
   "outputs": [],
   "source": [
    "quant4 = [ 'liveness', 'valence', 'tempo', 'loudness','key','acousticness', 'energy', 'danceability', 'speechiness']"
   ]
  },
  {
   "cell_type": "code",
   "execution_count": 19,
   "metadata": {},
   "outputs": [],
   "source": [
    "quant4_x = quant4.copy()"
   ]
  },
  {
   "cell_type": "code",
   "execution_count": 20,
   "metadata": {},
   "outputs": [
    {
     "data": {
      "text/html": [
       "<table class=\"simpletable\">\n",
       "<caption>OLS Regression Results</caption>\n",
       "<tr>\n",
       "  <th>Dep. Variable:</th>    <td>instrumentalness</td> <th>  R-squared:         </th> <td>   0.090</td>\n",
       "</tr>\n",
       "<tr>\n",
       "  <th>Model:</th>                   <td>OLS</td>       <th>  Adj. R-squared:    </th> <td>   0.000</td>\n",
       "</tr>\n",
       "<tr>\n",
       "  <th>Method:</th>             <td>Least Squares</td>  <th>  F-statistic:       </th> <td>   1.002</td>\n",
       "</tr>\n",
       "<tr>\n",
       "  <th>Date:</th>             <td>Thu, 22 Nov 2018</td> <th>  Prob (F-statistic):</th>  <td> 0.444</td> \n",
       "</tr>\n",
       "<tr>\n",
       "  <th>Time:</th>                 <td>19:38:40</td>     <th>  Log-Likelihood:    </th> <td>  226.47</td>\n",
       "</tr>\n",
       "<tr>\n",
       "  <th>No. Observations:</th>      <td>   100</td>      <th>  AIC:               </th> <td>  -434.9</td>\n",
       "</tr>\n",
       "<tr>\n",
       "  <th>Df Residuals:</th>          <td>    91</td>      <th>  BIC:               </th> <td>  -411.5</td>\n",
       "</tr>\n",
       "<tr>\n",
       "  <th>Df Model:</th>              <td>     9</td>      <th>                     </th>     <td> </td>   \n",
       "</tr>\n",
       "<tr>\n",
       "  <th>Covariance Type:</th>      <td>nonrobust</td>    <th>                     </th>     <td> </td>   \n",
       "</tr>\n",
       "</table>\n",
       "<table class=\"simpletable\">\n",
       "<tr>\n",
       "        <td></td>          <th>coef</th>     <th>std err</th>      <th>t</th>      <th>P>|t|</th>  <th>[0.025</th>    <th>0.975]</th>  \n",
       "</tr>\n",
       "<tr>\n",
       "  <th>liveness</th>     <td>   -0.0315</td> <td>    0.034</td> <td>   -0.925</td> <td> 0.358</td> <td>   -0.099</td> <td>    0.036</td>\n",
       "</tr>\n",
       "<tr>\n",
       "  <th>valence</th>      <td>   -0.0067</td> <td>    0.016</td> <td>   -0.428</td> <td> 0.670</td> <td>   -0.038</td> <td>    0.024</td>\n",
       "</tr>\n",
       "<tr>\n",
       "  <th>tempo</th>        <td> 3.929e-05</td> <td> 9.88e-05</td> <td>    0.398</td> <td> 0.692</td> <td>   -0.000</td> <td>    0.000</td>\n",
       "</tr>\n",
       "<tr>\n",
       "  <th>loudness</th>     <td>   -0.0019</td> <td>    0.002</td> <td>   -1.027</td> <td> 0.307</td> <td>   -0.006</td> <td>    0.002</td>\n",
       "</tr>\n",
       "<tr>\n",
       "  <th>key</th>          <td>   -0.0006</td> <td>    0.001</td> <td>   -0.875</td> <td> 0.384</td> <td>   -0.002</td> <td>    0.001</td>\n",
       "</tr>\n",
       "<tr>\n",
       "  <th>acousticness</th> <td>   -0.0129</td> <td>    0.017</td> <td>   -0.753</td> <td> 0.453</td> <td>   -0.047</td> <td>    0.021</td>\n",
       "</tr>\n",
       "<tr>\n",
       "  <th>energy</th>       <td>    0.0202</td> <td>    0.021</td> <td>    0.978</td> <td> 0.331</td> <td>   -0.021</td> <td>    0.061</td>\n",
       "</tr>\n",
       "<tr>\n",
       "  <th>danceability</th> <td>   -0.0084</td> <td>    0.021</td> <td>   -0.399</td> <td> 0.691</td> <td>   -0.050</td> <td>    0.033</td>\n",
       "</tr>\n",
       "<tr>\n",
       "  <th>speechiness</th>  <td>   -0.0393</td> <td>    0.031</td> <td>   -1.248</td> <td> 0.215</td> <td>   -0.102</td> <td>    0.023</td>\n",
       "</tr>\n",
       "</table>\n",
       "<table class=\"simpletable\">\n",
       "<tr>\n",
       "  <th>Omnibus:</th>       <td>155.879</td> <th>  Durbin-Watson:     </th> <td>   2.015</td>\n",
       "</tr>\n",
       "<tr>\n",
       "  <th>Prob(Omnibus):</th> <td> 0.000</td>  <th>  Jarque-Bera (JB):  </th> <td>6468.167</td>\n",
       "</tr>\n",
       "<tr>\n",
       "  <th>Skew:</th>          <td> 5.863</td>  <th>  Prob(JB):          </th> <td>    0.00</td>\n",
       "</tr>\n",
       "<tr>\n",
       "  <th>Kurtosis:</th>      <td>40.615</td>  <th>  Cond. No.          </th> <td>1.62e+03</td>\n",
       "</tr>\n",
       "</table>"
      ],
      "text/plain": [
       "<class 'statsmodels.iolib.summary.Summary'>\n",
       "\"\"\"\n",
       "                            OLS Regression Results                            \n",
       "==============================================================================\n",
       "Dep. Variable:       instrumentalness   R-squared:                       0.090\n",
       "Model:                            OLS   Adj. R-squared:                  0.000\n",
       "Method:                 Least Squares   F-statistic:                     1.002\n",
       "Date:                Thu, 22 Nov 2018   Prob (F-statistic):              0.444\n",
       "Time:                        19:38:40   Log-Likelihood:                 226.47\n",
       "No. Observations:                 100   AIC:                            -434.9\n",
       "Df Residuals:                      91   BIC:                            -411.5\n",
       "Df Model:                           9                                         \n",
       "Covariance Type:            nonrobust                                         \n",
       "================================================================================\n",
       "                   coef    std err          t      P>|t|      [0.025      0.975]\n",
       "--------------------------------------------------------------------------------\n",
       "liveness        -0.0315      0.034     -0.925      0.358      -0.099       0.036\n",
       "valence         -0.0067      0.016     -0.428      0.670      -0.038       0.024\n",
       "tempo         3.929e-05   9.88e-05      0.398      0.692      -0.000       0.000\n",
       "loudness        -0.0019      0.002     -1.027      0.307      -0.006       0.002\n",
       "key             -0.0006      0.001     -0.875      0.384      -0.002       0.001\n",
       "acousticness    -0.0129      0.017     -0.753      0.453      -0.047       0.021\n",
       "energy           0.0202      0.021      0.978      0.331      -0.021       0.061\n",
       "danceability    -0.0084      0.021     -0.399      0.691      -0.050       0.033\n",
       "speechiness     -0.0393      0.031     -1.248      0.215      -0.102       0.023\n",
       "==============================================================================\n",
       "Omnibus:                      155.879   Durbin-Watson:                   2.015\n",
       "Prob(Omnibus):                  0.000   Jarque-Bera (JB):             6468.167\n",
       "Skew:                           5.863   Prob(JB):                         0.00\n",
       "Kurtosis:                      40.615   Cond. No.                     1.62e+03\n",
       "==============================================================================\n",
       "\n",
       "Warnings:\n",
       "[1] Standard Errors assume that the covariance matrix of the errors is correctly specified.\n",
       "[2] The condition number is large, 1.62e+03. This might indicate that there are\n",
       "strong multicollinearity or other numerical problems.\n",
       "\"\"\""
      ]
     },
     "execution_count": 20,
     "metadata": {},
     "output_type": "execute_result"
    }
   ],
   "source": [
    "re4 = regre(dados.loc[:, quant4], dados.instrumentalness)\n",
    "re4.summary()"
   ]
  },
  {
   "cell_type": "code",
   "execution_count": 21,
   "metadata": {},
   "outputs": [
    {
     "data": {
      "image/png": "[encoded data removed]",
      "text/plain": [
       "<matplotlib.figure.Figure at 0x1d472e99588>"
      ]
     },
     "metadata": {},
     "output_type": "display_data"
    }
   ],
   "source": [
    "probplot(re4.resid, dist='norm', plot=plt);"
   ]
  },
  {
   "cell_type": "markdown",
   "metadata": {},
   "source": [
    "Fazendo uma análise da variável 'instrumentalness', podemos observar que as probabilidades de Omnibus e de Jarque-Bera(JB) são nulas, portanto, não podemos confiar nos valores do p value mostrados na tabela. Ainda, obtivemos um baixo índice do R-squared (9%), ou seja, não podemos afirmar que a variável 'instrumentalness' é fortemente relacio"
   ]
  },
  {
   "cell_type": "markdown",
   "metadata": {},
   "source": [
    "### Quinta variavel a ser analisada: liveness"
   ]
  },
  {
   "cell_type": "code",
   "execution_count": 22,
   "metadata": {},
   "outputs": [],
   "source": [
    "quant5 = [ 'valence', 'tempo', 'loudness','key','acousticness', 'energy', 'danceability', 'speechiness', 'instrumentalness']"
   ]
  },
  {
   "cell_type": "code",
   "execution_count": 23,
   "metadata": {},
   "outputs": [],
   "source": [
    "quant5_x = quant5.copy()"
   ]
  },
  {
   "cell_type": "code",
   "execution_count": 24,
   "metadata": {
    "scrolled": false
   },
   "outputs": [
    {
     "data": {
      "text/html": [
       "<table class=\"simpletable\">\n",
       "<caption>OLS Regression Results</caption>\n",
       "<tr>\n",
       "  <th>Dep. Variable:</th>        <td>liveness</td>     <th>  R-squared:         </th> <td>   0.795</td>\n",
       "</tr>\n",
       "<tr>\n",
       "  <th>Model:</th>                   <td>OLS</td>       <th>  Adj. R-squared:    </th> <td>   0.775</td>\n",
       "</tr>\n",
       "<tr>\n",
       "  <th>Method:</th>             <td>Least Squares</td>  <th>  F-statistic:       </th> <td>   39.18</td>\n",
       "</tr>\n",
       "<tr>\n",
       "  <th>Date:</th>             <td>Thu, 22 Nov 2018</td> <th>  Prob (F-statistic):</th> <td>1.47e-27</td>\n",
       "</tr>\n",
       "<tr>\n",
       "  <th>Time:</th>                 <td>19:39:44</td>     <th>  Log-Likelihood:    </th> <td>  114.57</td>\n",
       "</tr>\n",
       "<tr>\n",
       "  <th>No. Observations:</th>      <td>   100</td>      <th>  AIC:               </th> <td>  -211.1</td>\n",
       "</tr>\n",
       "<tr>\n",
       "  <th>Df Residuals:</th>          <td>    91</td>      <th>  BIC:               </th> <td>  -187.7</td>\n",
       "</tr>\n",
       "<tr>\n",
       "  <th>Df Model:</th>              <td>     9</td>      <th>                     </th>     <td> </td>   \n",
       "</tr>\n",
       "<tr>\n",
       "  <th>Covariance Type:</th>      <td>nonrobust</td>    <th>                     </th>     <td> </td>   \n",
       "</tr>\n",
       "</table>\n",
       "<table class=\"simpletable\">\n",
       "<tr>\n",
       "          <td></td>            <th>coef</th>     <th>std err</th>      <th>t</th>      <th>P>|t|</th>  <th>[0.025</th>    <th>0.975]</th>  \n",
       "</tr>\n",
       "<tr>\n",
       "  <th>valence</th>          <td>   -0.0021</td> <td>    0.048</td> <td>   -0.043</td> <td> 0.966</td> <td>   -0.097</td> <td>    0.093</td>\n",
       "</tr>\n",
       "<tr>\n",
       "  <th>tempo</th>            <td>    0.0001</td> <td>    0.000</td> <td>    0.345</td> <td> 0.731</td> <td>   -0.000</td> <td>    0.001</td>\n",
       "</tr>\n",
       "<tr>\n",
       "  <th>loudness</th>         <td>   -0.0081</td> <td>    0.006</td> <td>   -1.417</td> <td> 0.160</td> <td>   -0.019</td> <td>    0.003</td>\n",
       "</tr>\n",
       "<tr>\n",
       "  <th>key</th>              <td>   -0.0006</td> <td>    0.002</td> <td>   -0.286</td> <td> 0.775</td> <td>   -0.005</td> <td>    0.004</td>\n",
       "</tr>\n",
       "<tr>\n",
       "  <th>acousticness</th>     <td>   -0.0444</td> <td>    0.052</td> <td>   -0.850</td> <td> 0.398</td> <td>   -0.148</td> <td>    0.059</td>\n",
       "</tr>\n",
       "<tr>\n",
       "  <th>energy</th>           <td>    0.1529</td> <td>    0.062</td> <td>    2.481</td> <td> 0.015</td> <td>    0.030</td> <td>    0.275</td>\n",
       "</tr>\n",
       "<tr>\n",
       "  <th>danceability</th>     <td>    0.0145</td> <td>    0.064</td> <td>    0.226</td> <td> 0.822</td> <td>   -0.113</td> <td>    0.142</td>\n",
       "</tr>\n",
       "<tr>\n",
       "  <th>speechiness</th>      <td>   -0.0529</td> <td>    0.097</td> <td>   -0.545</td> <td> 0.587</td> <td>   -0.246</td> <td>    0.140</td>\n",
       "</tr>\n",
       "<tr>\n",
       "  <th>instrumentalness</th> <td>   -0.2954</td> <td>    0.319</td> <td>   -0.925</td> <td> 0.358</td> <td>   -0.930</td> <td>    0.339</td>\n",
       "</tr>\n",
       "</table>\n",
       "<table class=\"simpletable\">\n",
       "<tr>\n",
       "  <th>Omnibus:</th>       <td>22.901</td> <th>  Durbin-Watson:     </th> <td>   1.857</td>\n",
       "</tr>\n",
       "<tr>\n",
       "  <th>Prob(Omnibus):</th> <td> 0.000</td> <th>  Jarque-Bera (JB):  </th> <td>  29.957</td>\n",
       "</tr>\n",
       "<tr>\n",
       "  <th>Skew:</th>          <td> 1.173</td> <th>  Prob(JB):          </th> <td>3.13e-07</td>\n",
       "</tr>\n",
       "<tr>\n",
       "  <th>Kurtosis:</th>      <td> 4.300</td> <th>  Cond. No.          </th> <td>4.86e+03</td>\n",
       "</tr>\n",
       "</table>"
      ],
      "text/plain": [
       "<class 'statsmodels.iolib.summary.Summary'>\n",
       "\"\"\"\n",
       "                            OLS Regression Results                            \n",
       "==============================================================================\n",
       "Dep. Variable:               liveness   R-squared:                       0.795\n",
       "Model:                            OLS   Adj. R-squared:                  0.775\n",
       "Method:                 Least Squares   F-statistic:                     39.18\n",
       "Date:                Thu, 22 Nov 2018   Prob (F-statistic):           1.47e-27\n",
       "Time:                        19:39:44   Log-Likelihood:                 114.57\n",
       "No. Observations:                 100   AIC:                            -211.1\n",
       "Df Residuals:                      91   BIC:                            -187.7\n",
       "Df Model:                           9                                         \n",
       "Covariance Type:            nonrobust                                         \n",
       "====================================================================================\n",
       "                       coef    std err          t      P>|t|      [0.025      0.975]\n",
       "------------------------------------------------------------------------------------\n",
       "valence             -0.0021      0.048     -0.043      0.966      -0.097       0.093\n",
       "tempo                0.0001      0.000      0.345      0.731      -0.000       0.001\n",
       "loudness            -0.0081      0.006     -1.417      0.160      -0.019       0.003\n",
       "key                 -0.0006      0.002     -0.286      0.775      -0.005       0.004\n",
       "acousticness        -0.0444      0.052     -0.850      0.398      -0.148       0.059\n",
       "energy               0.1529      0.062      2.481      0.015       0.030       0.275\n",
       "danceability         0.0145      0.064      0.226      0.822      -0.113       0.142\n",
       "speechiness         -0.0529      0.097     -0.545      0.587      -0.246       0.140\n",
       "instrumentalness    -0.2954      0.319     -0.925      0.358      -0.930       0.339\n",
       "==============================================================================\n",
       "Omnibus:                       22.901   Durbin-Watson:                   1.857\n",
       "Prob(Omnibus):                  0.000   Jarque-Bera (JB):               29.957\n",
       "Skew:                           1.173   Prob(JB):                     3.13e-07\n",
       "Kurtosis:                       4.300   Cond. No.                     4.86e+03\n",
       "==============================================================================\n",
       "\n",
       "Warnings:\n",
       "[1] Standard Errors assume that the covariance matrix of the errors is correctly specified.\n",
       "[2] The condition number is large, 4.86e+03. This might indicate that there are\n",
       "strong multicollinearity or other numerical problems.\n",
       "\"\"\""
      ]
     },
     "execution_count": 24,
     "metadata": {},
     "output_type": "execute_result"
    }
   ],
   "source": [
    "re5 = regre(dados.loc[:, quant5], dados.liveness)\n",
    "re5.summary()"
   ]
  },
  {
   "cell_type": "markdown",
   "metadata": {},
   "source": [
    "Fazendo uma análise da variável 'liveness', podemos observar que as probabilidades de Omnibus e de Jarque-Bera(JB) são praticamente nulas, portanto, não podemos confiar nos valores do p value mostrados na tabela. Ainda, obtivemos um alto índice do R-squared (79%), porém, não podemos afirmar que a variável 'instrumentalness' é fortemente relacionada com as demais."
   ]
  },
  {
   "cell_type": "markdown",
   "metadata": {},
   "source": [
    "### Sexta variável a ser analisada: valence"
   ]
  },
  {
   "cell_type": "code",
   "execution_count": 25,
   "metadata": {},
   "outputs": [],
   "source": [
    "quant6 = [ 'tempo', 'loudness','acousticness', 'energy', 'danceability', 'speechiness','instrumentalness']"
   ]
  },
  {
   "cell_type": "code",
   "execution_count": 26,
   "metadata": {},
   "outputs": [],
   "source": [
    "quant6_x = quant6.copy()"
   ]
  },
  {
   "cell_type": "code",
   "execution_count": 27,
   "metadata": {},
   "outputs": [
    {
     "data": {
      "text/html": [
       "<table class=\"simpletable\">\n",
       "<caption>OLS Regression Results</caption>\n",
       "<tr>\n",
       "  <th>Dep. Variable:</th>         <td>valence</td>     <th>  R-squared:         </th> <td>   0.909</td>\n",
       "</tr>\n",
       "<tr>\n",
       "  <th>Model:</th>                   <td>OLS</td>       <th>  Adj. R-squared:    </th> <td>   0.902</td>\n",
       "</tr>\n",
       "<tr>\n",
       "  <th>Method:</th>             <td>Least Squares</td>  <th>  F-statistic:       </th> <td>   132.6</td>\n",
       "</tr>\n",
       "<tr>\n",
       "  <th>Date:</th>             <td>Thu, 22 Nov 2018</td> <th>  Prob (F-statistic):</th> <td>1.59e-45</td>\n",
       "</tr>\n",
       "<tr>\n",
       "  <th>Time:</th>                 <td>19:40:27</td>     <th>  Log-Likelihood:    </th> <td>  35.865</td>\n",
       "</tr>\n",
       "<tr>\n",
       "  <th>No. Observations:</th>      <td>   100</td>      <th>  AIC:               </th> <td>  -57.73</td>\n",
       "</tr>\n",
       "<tr>\n",
       "  <th>Df Residuals:</th>          <td>    93</td>      <th>  BIC:               </th> <td>  -39.49</td>\n",
       "</tr>\n",
       "<tr>\n",
       "  <th>Df Model:</th>              <td>     7</td>      <th>                     </th>     <td> </td>   \n",
       "</tr>\n",
       "<tr>\n",
       "  <th>Covariance Type:</th>      <td>nonrobust</td>    <th>                     </th>     <td> </td>   \n",
       "</tr>\n",
       "</table>\n",
       "<table class=\"simpletable\">\n",
       "<tr>\n",
       "          <td></td>            <th>coef</th>     <th>std err</th>      <th>t</th>      <th>P>|t|</th>  <th>[0.025</th>    <th>0.975]</th>  \n",
       "</tr>\n",
       "<tr>\n",
       "  <th>tempo</th>            <td>   -0.0005</td> <td>    0.001</td> <td>   -0.830</td> <td> 0.409</td> <td>   -0.002</td> <td>    0.001</td>\n",
       "</tr>\n",
       "<tr>\n",
       "  <th>loudness</th>         <td>    0.0301</td> <td>    0.012</td> <td>    2.553</td> <td> 0.012</td> <td>    0.007</td> <td>    0.054</td>\n",
       "</tr>\n",
       "<tr>\n",
       "  <th>acousticness</th>     <td>    0.2468</td> <td>    0.111</td> <td>    2.231</td> <td> 0.028</td> <td>    0.027</td> <td>    0.467</td>\n",
       "</tr>\n",
       "<tr>\n",
       "  <th>energy</th>           <td>    0.3560</td> <td>    0.125</td> <td>    2.844</td> <td> 0.005</td> <td>    0.107</td> <td>    0.605</td>\n",
       "</tr>\n",
       "<tr>\n",
       "  <th>danceability</th>     <td>    0.6764</td> <td>    0.121</td> <td>    5.605</td> <td> 0.000</td> <td>    0.437</td> <td>    0.916</td>\n",
       "</tr>\n",
       "<tr>\n",
       "  <th>speechiness</th>      <td>    0.0571</td> <td>    0.211</td> <td>    0.271</td> <td> 0.787</td> <td>   -0.361</td> <td>    0.475</td>\n",
       "</tr>\n",
       "<tr>\n",
       "  <th>instrumentalness</th> <td>   -0.2978</td> <td>    0.691</td> <td>   -0.431</td> <td> 0.667</td> <td>   -1.670</td> <td>    1.074</td>\n",
       "</tr>\n",
       "</table>\n",
       "<table class=\"simpletable\">\n",
       "<tr>\n",
       "  <th>Omnibus:</th>       <td> 0.512</td> <th>  Durbin-Watson:     </th> <td>   1.810</td>\n",
       "</tr>\n",
       "<tr>\n",
       "  <th>Prob(Omnibus):</th> <td> 0.774</td> <th>  Jarque-Bera (JB):  </th> <td>   0.224</td>\n",
       "</tr>\n",
       "<tr>\n",
       "  <th>Skew:</th>          <td> 0.100</td> <th>  Prob(JB):          </th> <td>   0.894</td>\n",
       "</tr>\n",
       "<tr>\n",
       "  <th>Kurtosis:</th>      <td> 3.118</td> <th>  Cond. No.          </th> <td>4.83e+03</td>\n",
       "</tr>\n",
       "</table>"
      ],
      "text/plain": [
       "<class 'statsmodels.iolib.summary.Summary'>\n",
       "\"\"\"\n",
       "                            OLS Regression Results                            \n",
       "==============================================================================\n",
       "Dep. Variable:                valence   R-squared:                       0.909\n",
       "Model:                            OLS   Adj. R-squared:                  0.902\n",
       "Method:                 Least Squares   F-statistic:                     132.6\n",
       "Date:                Thu, 22 Nov 2018   Prob (F-statistic):           1.59e-45\n",
       "Time:                        19:40:27   Log-Likelihood:                 35.865\n",
       "No. Observations:                 100   AIC:                            -57.73\n",
       "Df Residuals:                      93   BIC:                            -39.49\n",
       "Df Model:                           7                                         \n",
       "Covariance Type:            nonrobust                                         \n",
       "====================================================================================\n",
       "                       coef    std err          t      P>|t|      [0.025      0.975]\n",
       "------------------------------------------------------------------------------------\n",
       "tempo               -0.0005      0.001     -0.830      0.409      -0.002       0.001\n",
       "loudness             0.0301      0.012      2.553      0.012       0.007       0.054\n",
       "acousticness         0.2468      0.111      2.231      0.028       0.027       0.467\n",
       "energy               0.3560      0.125      2.844      0.005       0.107       0.605\n",
       "danceability         0.6764      0.121      5.605      0.000       0.437       0.916\n",
       "speechiness          0.0571      0.211      0.271      0.787      -0.361       0.475\n",
       "instrumentalness    -0.2978      0.691     -0.431      0.667      -1.670       1.074\n",
       "==============================================================================\n",
       "Omnibus:                        0.512   Durbin-Watson:                   1.810\n",
       "Prob(Omnibus):                  0.774   Jarque-Bera (JB):                0.224\n",
       "Skew:                           0.100   Prob(JB):                        0.894\n",
       "Kurtosis:                       3.118   Cond. No.                     4.83e+03\n",
       "==============================================================================\n",
       "\n",
       "Warnings:\n",
       "[1] Standard Errors assume that the covariance matrix of the errors is correctly specified.\n",
       "[2] The condition number is large, 4.83e+03. This might indicate that there are\n",
       "strong multicollinearity or other numerical problems.\n",
       "\"\"\""
      ]
     },
     "execution_count": 27,
     "metadata": {},
     "output_type": "execute_result"
    }
   ],
   "source": [
    "re6 = regre(dados.loc[:, quant6], dados.valence)\n",
    "re6.summary()"
   ]
  },
  {
   "cell_type": "code",
   "execution_count": 28,
   "metadata": {},
   "outputs": [
    {
     "data": {
      "image/png": "[encoded data removed]",
      "text/plain": [
       "<matplotlib.figure.Figure at 0x1d472f78400>"
      ]
     },
     "metadata": {},
     "output_type": "display_data"
    }
   ],
   "source": [
    "probplot(re6.resid, dist='norm', plot=plt);"
   ]
  },
  {
   "cell_type": "markdown",
   "metadata": {},
   "source": [
    "Fazendo uma análise da variável 'valence', podemos observar que as probabilidades de Omnibus e de Jarque-Bera(JB) não são nulas, portanto, podemos confiar nos valores do p value mostrados na tabela. Temos que os valores do p value das variáveis 'liveness' e 'key' estão muito altos, o que indica que talvez não tenha uma forte relação de tais com as outras variáveis, e, assim, são irrelevantes, podendo ser descartadas. Pelo gráfico, observamos que a distibuição se aproxima muito da reta, podendo dizer que é uma normal. Além disso, obtivemos um bom índice do R-squared (90%), então podemos afirmar que a variável 'speechiness' é fortemente relacionada com as demais."
   ]
  },
  {
   "cell_type": "markdown",
   "metadata": {},
   "source": [
    "### Sétima variável a ser analisada: tempo"
   ]
  },
  {
   "cell_type": "code",
   "execution_count": 29,
   "metadata": {},
   "outputs": [],
   "source": [
    "quant7 = [ 'loudness','acousticness', 'energy', 'danceability', 'valence']"
   ]
  },
  {
   "cell_type": "code",
   "execution_count": 30,
   "metadata": {},
   "outputs": [],
   "source": [
    "quant7_x = quant7.copy()"
   ]
  },
  {
   "cell_type": "code",
   "execution_count": 31,
   "metadata": {},
   "outputs": [
    {
     "data": {
      "text/html": [
       "<table class=\"simpletable\">\n",
       "<caption>OLS Regression Results</caption>\n",
       "<tr>\n",
       "  <th>Dep. Variable:</th>          <td>tempo</td>      <th>  R-squared:         </th> <td>   0.952</td>\n",
       "</tr>\n",
       "<tr>\n",
       "  <th>Model:</th>                   <td>OLS</td>       <th>  Adj. R-squared:    </th> <td>   0.950</td>\n",
       "</tr>\n",
       "<tr>\n",
       "  <th>Method:</th>             <td>Least Squares</td>  <th>  F-statistic:       </th> <td>   380.0</td>\n",
       "</tr>\n",
       "<tr>\n",
       "  <th>Date:</th>             <td>Thu, 22 Nov 2018</td> <th>  Prob (F-statistic):</th> <td>3.73e-61</td>\n",
       "</tr>\n",
       "<tr>\n",
       "  <th>Time:</th>                 <td>19:41:19</td>     <th>  Log-Likelihood:    </th> <td> -470.40</td>\n",
       "</tr>\n",
       "<tr>\n",
       "  <th>No. Observations:</th>      <td>   100</td>      <th>  AIC:               </th> <td>   950.8</td>\n",
       "</tr>\n",
       "<tr>\n",
       "  <th>Df Residuals:</th>          <td>    95</td>      <th>  BIC:               </th> <td>   963.8</td>\n",
       "</tr>\n",
       "<tr>\n",
       "  <th>Df Model:</th>              <td>     5</td>      <th>                     </th>     <td> </td>   \n",
       "</tr>\n",
       "<tr>\n",
       "  <th>Covariance Type:</th>      <td>nonrobust</td>    <th>                     </th>     <td> </td>   \n",
       "</tr>\n",
       "</table>\n",
       "<table class=\"simpletable\">\n",
       "<tr>\n",
       "        <td></td>          <th>coef</th>     <th>std err</th>      <th>t</th>      <th>P>|t|</th>  <th>[0.025</th>    <th>0.975]</th>  \n",
       "</tr>\n",
       "<tr>\n",
       "  <th>loudness</th>     <td>  -10.1595</td> <td>    1.456</td> <td>   -6.976</td> <td> 0.000</td> <td>  -13.051</td> <td>   -7.268</td>\n",
       "</tr>\n",
       "<tr>\n",
       "  <th>acousticness</th> <td>  -24.7117</td> <td>   17.291</td> <td>   -1.429</td> <td> 0.156</td> <td>  -59.038</td> <td>    9.615</td>\n",
       "</tr>\n",
       "<tr>\n",
       "  <th>energy</th>       <td>  126.9614</td> <td>   15.567</td> <td>    8.156</td> <td> 0.000</td> <td>   96.056</td> <td>  157.866</td>\n",
       "</tr>\n",
       "<tr>\n",
       "  <th>danceability</th> <td>  -16.8989</td> <td>   21.720</td> <td>   -0.778</td> <td> 0.438</td> <td>  -60.018</td> <td>   26.220</td>\n",
       "</tr>\n",
       "<tr>\n",
       "  <th>valence</th>      <td>  -13.6444</td> <td>   16.125</td> <td>   -0.846</td> <td> 0.400</td> <td>  -45.657</td> <td>   18.369</td>\n",
       "</tr>\n",
       "</table>\n",
       "<table class=\"simpletable\">\n",
       "<tr>\n",
       "  <th>Omnibus:</th>       <td> 1.500</td> <th>  Durbin-Watson:     </th> <td>   2.075</td>\n",
       "</tr>\n",
       "<tr>\n",
       "  <th>Prob(Omnibus):</th> <td> 0.472</td> <th>  Jarque-Bera (JB):  </th> <td>   1.352</td>\n",
       "</tr>\n",
       "<tr>\n",
       "  <th>Skew:</th>          <td> 0.283</td> <th>  Prob(JB):          </th> <td>   0.509</td>\n",
       "</tr>\n",
       "<tr>\n",
       "  <th>Kurtosis:</th>      <td> 2.938</td> <th>  Cond. No.          </th> <td>    54.5</td>\n",
       "</tr>\n",
       "</table>"
      ],
      "text/plain": [
       "<class 'statsmodels.iolib.summary.Summary'>\n",
       "\"\"\"\n",
       "                            OLS Regression Results                            \n",
       "==============================================================================\n",
       "Dep. Variable:                  tempo   R-squared:                       0.952\n",
       "Model:                            OLS   Adj. R-squared:                  0.950\n",
       "Method:                 Least Squares   F-statistic:                     380.0\n",
       "Date:                Thu, 22 Nov 2018   Prob (F-statistic):           3.73e-61\n",
       "Time:                        19:41:19   Log-Likelihood:                -470.40\n",
       "No. Observations:                 100   AIC:                             950.8\n",
       "Df Residuals:                      95   BIC:                             963.8\n",
       "Df Model:                           5                                         \n",
       "Covariance Type:            nonrobust                                         \n",
       "================================================================================\n",
       "                   coef    std err          t      P>|t|      [0.025      0.975]\n",
       "--------------------------------------------------------------------------------\n",
       "loudness       -10.1595      1.456     -6.976      0.000     -13.051      -7.268\n",
       "acousticness   -24.7117     17.291     -1.429      0.156     -59.038       9.615\n",
       "energy         126.9614     15.567      8.156      0.000      96.056     157.866\n",
       "danceability   -16.8989     21.720     -0.778      0.438     -60.018      26.220\n",
       "valence        -13.6444     16.125     -0.846      0.400     -45.657      18.369\n",
       "==============================================================================\n",
       "Omnibus:                        1.500   Durbin-Watson:                   2.075\n",
       "Prob(Omnibus):                  0.472   Jarque-Bera (JB):                1.352\n",
       "Skew:                           0.283   Prob(JB):                        0.509\n",
       "Kurtosis:                       2.938   Cond. No.                         54.5\n",
       "==============================================================================\n",
       "\n",
       "Warnings:\n",
       "[1] Standard Errors assume that the covariance matrix of the errors is correctly specified.\n",
       "\"\"\""
      ]
     },
     "execution_count": 31,
     "metadata": {},
     "output_type": "execute_result"
    }
   ],
   "source": [
    "re7 = regre(dados.loc[:, quant7], dados.tempo)\n",
    "re7.summary()"
   ]
  },
  {
   "cell_type": "code",
   "execution_count": 32,
   "metadata": {},
   "outputs": [
    {
     "data": {
      "image/png": "[encoded data removed]",
      "text/plain": [
       "<matplotlib.figure.Figure at 0x1d472fdb940>"
      ]
     },
     "metadata": {},
     "output_type": "display_data"
    }
   ],
   "source": [
    "probplot(re7.resid, dist='norm', plot=plt);"
   ]
  },
  {
   "cell_type": "markdown",
   "metadata": {},
   "source": [
    "Fazendo uma análise da variável 'tempo', podemos observar que as probabilidades de Omnibus e de Jarque-Bera(JB) não são nulas, portanto, podemos confiar nos valores do p value mostrados na tabela. Temos que os valores do p value das variáveis 'speechiness', 'liveness' e 'key' estão muito altos, o que indica que talvez não tenha uma forte relação de tais com as outras variáveis, e, assim, são irrelevantes, podendo ser descartadas. Pelo gráfico, observamos que a distibuição se aproxima muito da reta, salvo alguns outliers, então podemos dizer que é uma normal. Além disso, obtivemos um bom índice do R-squared (95%), então podemos afirmar que a variável 'tempo' é fortemente relacionada com as demais."
   ]
  },
  {
   "cell_type": "markdown",
   "metadata": {},
   "source": [
    "### Oitava variável a ser analisada: loudness"
   ]
  },
  {
   "cell_type": "code",
   "execution_count": 34,
   "metadata": {},
   "outputs": [],
   "source": [
    "quant8 = [ 'key','acousticness', 'energy', 'danceability', 'speechiness', 'valence', 'tempo']"
   ]
  },
  {
   "cell_type": "code",
   "execution_count": 35,
   "metadata": {},
   "outputs": [],
   "source": [
    "quant8_x = quant8.copy()"
   ]
  },
  {
   "cell_type": "code",
   "execution_count": 36,
   "metadata": {},
   "outputs": [
    {
     "data": {
      "text/html": [
       "<table class=\"simpletable\">\n",
       "<caption>OLS Regression Results</caption>\n",
       "<tr>\n",
       "  <th>Dep. Variable:</th>        <td>loudness</td>     <th>  R-squared:         </th> <td>   0.943</td>\n",
       "</tr>\n",
       "<tr>\n",
       "  <th>Model:</th>                   <td>OLS</td>       <th>  Adj. R-squared:    </th> <td>   0.938</td>\n",
       "</tr>\n",
       "<tr>\n",
       "  <th>Method:</th>             <td>Least Squares</td>  <th>  F-statistic:       </th> <td>   218.2</td>\n",
       "</tr>\n",
       "<tr>\n",
       "  <th>Date:</th>             <td>Thu, 22 Nov 2018</td> <th>  Prob (F-statistic):</th> <td>8.16e-55</td>\n",
       "</tr>\n",
       "<tr>\n",
       "  <th>Time:</th>                 <td>19:42:16</td>     <th>  Log-Likelihood:    </th> <td> -177.01</td>\n",
       "</tr>\n",
       "<tr>\n",
       "  <th>No. Observations:</th>      <td>   100</td>      <th>  AIC:               </th> <td>   368.0</td>\n",
       "</tr>\n",
       "<tr>\n",
       "  <th>Df Residuals:</th>          <td>    93</td>      <th>  BIC:               </th> <td>   386.3</td>\n",
       "</tr>\n",
       "<tr>\n",
       "  <th>Df Model:</th>              <td>     7</td>      <th>                     </th>     <td> </td>   \n",
       "</tr>\n",
       "<tr>\n",
       "  <th>Covariance Type:</th>      <td>nonrobust</td>    <th>                     </th>     <td> </td>   \n",
       "</tr>\n",
       "</table>\n",
       "<table class=\"simpletable\">\n",
       "<tr>\n",
       "        <td></td>          <th>coef</th>     <th>std err</th>      <th>t</th>      <th>P>|t|</th>  <th>[0.025</th>    <th>0.975]</th>  \n",
       "</tr>\n",
       "<tr>\n",
       "  <th>key</th>          <td>   -0.0627</td> <td>    0.040</td> <td>   -1.583</td> <td> 0.117</td> <td>   -0.141</td> <td>    0.016</td>\n",
       "</tr>\n",
       "<tr>\n",
       "  <th>acousticness</th> <td>   -2.9476</td> <td>    0.902</td> <td>   -3.266</td> <td> 0.002</td> <td>   -4.740</td> <td>   -1.156</td>\n",
       "</tr>\n",
       "<tr>\n",
       "  <th>energy</th>       <td>    3.5477</td> <td>    1.060</td> <td>    3.347</td> <td> 0.001</td> <td>    1.443</td> <td>    5.653</td>\n",
       "</tr>\n",
       "<tr>\n",
       "  <th>danceability</th> <td>   -6.0957</td> <td>    0.988</td> <td>   -6.167</td> <td> 0.000</td> <td>   -8.059</td> <td>   -4.133</td>\n",
       "</tr>\n",
       "<tr>\n",
       "  <th>speechiness</th>  <td>   -5.5519</td> <td>    1.661</td> <td>   -3.342</td> <td> 0.001</td> <td>   -8.850</td> <td>   -2.253</td>\n",
       "</tr>\n",
       "<tr>\n",
       "  <th>valence</th>      <td>    2.1631</td> <td>    0.841</td> <td>    2.571</td> <td> 0.012</td> <td>    0.493</td> <td>    3.834</td>\n",
       "</tr>\n",
       "<tr>\n",
       "  <th>tempo</th>        <td>   -0.0283</td> <td>    0.005</td> <td>   -6.039</td> <td> 0.000</td> <td>   -0.038</td> <td>   -0.019</td>\n",
       "</tr>\n",
       "</table>\n",
       "<table class=\"simpletable\">\n",
       "<tr>\n",
       "  <th>Omnibus:</th>       <td> 1.432</td> <th>  Durbin-Watson:     </th> <td>   1.843</td>\n",
       "</tr>\n",
       "<tr>\n",
       "  <th>Prob(Omnibus):</th> <td> 0.489</td> <th>  Jarque-Bera (JB):  </th> <td>   1.184</td>\n",
       "</tr>\n",
       "<tr>\n",
       "  <th>Skew:</th>          <td>-0.266</td> <th>  Prob(JB):          </th> <td>   0.553</td>\n",
       "</tr>\n",
       "<tr>\n",
       "  <th>Kurtosis:</th>      <td> 3.017</td> <th>  Cond. No.          </th> <td>1.44e+03</td>\n",
       "</tr>\n",
       "</table>"
      ],
      "text/plain": [
       "<class 'statsmodels.iolib.summary.Summary'>\n",
       "\"\"\"\n",
       "                            OLS Regression Results                            \n",
       "==============================================================================\n",
       "Dep. Variable:               loudness   R-squared:                       0.943\n",
       "Model:                            OLS   Adj. R-squared:                  0.938\n",
       "Method:                 Least Squares   F-statistic:                     218.2\n",
       "Date:                Thu, 22 Nov 2018   Prob (F-statistic):           8.16e-55\n",
       "Time:                        19:42:16   Log-Likelihood:                -177.01\n",
       "No. Observations:                 100   AIC:                             368.0\n",
       "Df Residuals:                      93   BIC:                             386.3\n",
       "Df Model:                           7                                         \n",
       "Covariance Type:            nonrobust                                         \n",
       "================================================================================\n",
       "                   coef    std err          t      P>|t|      [0.025      0.975]\n",
       "--------------------------------------------------------------------------------\n",
       "key             -0.0627      0.040     -1.583      0.117      -0.141       0.016\n",
       "acousticness    -2.9476      0.902     -3.266      0.002      -4.740      -1.156\n",
       "energy           3.5477      1.060      3.347      0.001       1.443       5.653\n",
       "danceability    -6.0957      0.988     -6.167      0.000      -8.059      -4.133\n",
       "speechiness     -5.5519      1.661     -3.342      0.001      -8.850      -2.253\n",
       "valence          2.1631      0.841      2.571      0.012       0.493       3.834\n",
       "tempo           -0.0283      0.005     -6.039      0.000      -0.038      -0.019\n",
       "==============================================================================\n",
       "Omnibus:                        1.432   Durbin-Watson:                   1.843\n",
       "Prob(Omnibus):                  0.489   Jarque-Bera (JB):                1.184\n",
       "Skew:                          -0.266   Prob(JB):                        0.553\n",
       "Kurtosis:                       3.017   Cond. No.                     1.44e+03\n",
       "==============================================================================\n",
       "\n",
       "Warnings:\n",
       "[1] Standard Errors assume that the covariance matrix of the errors is correctly specified.\n",
       "[2] The condition number is large, 1.44e+03. This might indicate that there are\n",
       "strong multicollinearity or other numerical problems.\n",
       "\"\"\""
      ]
     },
     "execution_count": 36,
     "metadata": {},
     "output_type": "execute_result"
    }
   ],
   "source": [
    "re8 = regre(dados.loc[:, quant8], dados.loudness)\n",
    "re8.summary()"
   ]
  },
  {
   "cell_type": "code",
   "execution_count": 37,
   "metadata": {},
   "outputs": [
    {
     "data": {
      "image/png": "[encoded data removed]",
      "text/plain": [
       "<matplotlib.figure.Figure at 0x1d472fe0748>"
      ]
     },
     "metadata": {},
     "output_type": "display_data"
    }
   ],
   "source": [
    "probplot(re8.resid, dist='norm', plot=plt);"
   ]
  },
  {
   "cell_type": "markdown",
   "metadata": {},
   "source": [
    "Fazendo uma análise da variável 'loudness', podemos observar que as probabilidades de Omnibus e de Jarque-Bera(JB) não são nulas, portanto, podemos confiar nos valores do p value mostrados na tabela. Temos que os valores do p value da variável 'liveness' está um pouco alto, o que indica que talvez não tenha uma forte relação de tais com as outras variáveis, e, assim, pode ser descartada. Pelo gráfico, observamos que a distibuição se aproxima muito da reta, então podemos afirmar que é uma normal. Além disso, obtivemos um bom índice do R-squared (94%), então podemos afirmar que a variável 'loudness' é fortemente relacionada com as demais."
   ]
  },
  {
   "cell_type": "markdown",
   "metadata": {},
   "source": [
    "### Nona variável a ser analisada: key"
   ]
  },
  {
   "cell_type": "code",
   "execution_count": 38,
   "metadata": {},
   "outputs": [],
   "source": [
    "quant9 = [ 'acousticness', 'energy', 'danceability', 'speechiness', 'liveness', 'valence', 'tempo', 'loudness']"
   ]
  },
  {
   "cell_type": "code",
   "execution_count": 39,
   "metadata": {},
   "outputs": [],
   "source": [
    "quant9_x = quant9.copy()"
   ]
  },
  {
   "cell_type": "code",
   "execution_count": 40,
   "metadata": {},
   "outputs": [
    {
     "data": {
      "text/html": [
       "<table class=\"simpletable\">\n",
       "<caption>OLS Regression Results</caption>\n",
       "<tr>\n",
       "  <th>Dep. Variable:</th>           <td>key</td>       <th>  R-squared:         </th> <td>   0.700</td>\n",
       "</tr>\n",
       "<tr>\n",
       "  <th>Model:</th>                   <td>OLS</td>       <th>  Adj. R-squared:    </th> <td>   0.674</td>\n",
       "</tr>\n",
       "<tr>\n",
       "  <th>Method:</th>             <td>Least Squares</td>  <th>  F-statistic:       </th> <td>   26.81</td>\n",
       "</tr>\n",
       "<tr>\n",
       "  <th>Date:</th>             <td>Thu, 22 Nov 2018</td> <th>  Prob (F-statistic):</th> <td>5.92e-21</td>\n",
       "</tr>\n",
       "<tr>\n",
       "  <th>Time:</th>                 <td>19:43:09</td>     <th>  Log-Likelihood:    </th> <td> -271.85</td>\n",
       "</tr>\n",
       "<tr>\n",
       "  <th>No. Observations:</th>      <td>   100</td>      <th>  AIC:               </th> <td>   559.7</td>\n",
       "</tr>\n",
       "<tr>\n",
       "  <th>Df Residuals:</th>          <td>    92</td>      <th>  BIC:               </th> <td>   580.5</td>\n",
       "</tr>\n",
       "<tr>\n",
       "  <th>Df Model:</th>              <td>     8</td>      <th>                     </th>     <td> </td>   \n",
       "</tr>\n",
       "<tr>\n",
       "  <th>Covariance Type:</th>      <td>nonrobust</td>    <th>                     </th>     <td> </td>   \n",
       "</tr>\n",
       "</table>\n",
       "<table class=\"simpletable\">\n",
       "<tr>\n",
       "        <td></td>          <th>coef</th>     <th>std err</th>      <th>t</th>      <th>P>|t|</th>  <th>[0.025</th>    <th>0.975]</th>  \n",
       "</tr>\n",
       "<tr>\n",
       "  <th>acousticness</th> <td>    1.0699</td> <td>    2.479</td> <td>    0.432</td> <td> 0.667</td> <td>   -3.853</td> <td>    5.993</td>\n",
       "</tr>\n",
       "<tr>\n",
       "  <th>energy</th>       <td>    6.2767</td> <td>    2.931</td> <td>    2.141</td> <td> 0.035</td> <td>    0.455</td> <td>   12.098</td>\n",
       "</tr>\n",
       "<tr>\n",
       "  <th>danceability</th> <td>   -1.2287</td> <td>    3.044</td> <td>   -0.404</td> <td> 0.687</td> <td>   -7.274</td> <td>    4.816</td>\n",
       "</tr>\n",
       "<tr>\n",
       "  <th>speechiness</th>  <td>    1.7051</td> <td>    4.564</td> <td>    0.374</td> <td> 0.710</td> <td>   -7.360</td> <td>   10.770</td>\n",
       "</tr>\n",
       "<tr>\n",
       "  <th>liveness</th>     <td>   -1.0150</td> <td>    4.945</td> <td>   -0.205</td> <td> 0.838</td> <td>  -10.837</td> <td>    8.807</td>\n",
       "</tr>\n",
       "<tr>\n",
       "  <th>valence</th>      <td>    0.0570</td> <td>    2.260</td> <td>    0.025</td> <td> 0.980</td> <td>   -4.431</td> <td>    4.545</td>\n",
       "</tr>\n",
       "<tr>\n",
       "  <th>tempo</th>        <td>   -0.0031</td> <td>    0.014</td> <td>   -0.218</td> <td> 0.828</td> <td>   -0.032</td> <td>    0.025</td>\n",
       "</tr>\n",
       "<tr>\n",
       "  <th>loudness</th>     <td>   -0.4257</td> <td>    0.268</td> <td>   -1.588</td> <td> 0.116</td> <td>   -0.958</td> <td>    0.107</td>\n",
       "</tr>\n",
       "</table>\n",
       "<table class=\"simpletable\">\n",
       "<tr>\n",
       "  <th>Omnibus:</th>       <td>35.151</td> <th>  Durbin-Watson:     </th> <td>   2.086</td>\n",
       "</tr>\n",
       "<tr>\n",
       "  <th>Prob(Omnibus):</th> <td> 0.000</td> <th>  Jarque-Bera (JB):  </th> <td>   6.507</td>\n",
       "</tr>\n",
       "<tr>\n",
       "  <th>Skew:</th>          <td>-0.162</td> <th>  Prob(JB):          </th> <td>  0.0386</td>\n",
       "</tr>\n",
       "<tr>\n",
       "  <th>Kurtosis:</th>      <td> 1.793</td> <th>  Cond. No.          </th> <td>1.62e+03</td>\n",
       "</tr>\n",
       "</table>"
      ],
      "text/plain": [
       "<class 'statsmodels.iolib.summary.Summary'>\n",
       "\"\"\"\n",
       "                            OLS Regression Results                            \n",
       "==============================================================================\n",
       "Dep. Variable:                    key   R-squared:                       0.700\n",
       "Model:                            OLS   Adj. R-squared:                  0.674\n",
       "Method:                 Least Squares   F-statistic:                     26.81\n",
       "Date:                Thu, 22 Nov 2018   Prob (F-statistic):           5.92e-21\n",
       "Time:                        19:43:09   Log-Likelihood:                -271.85\n",
       "No. Observations:                 100   AIC:                             559.7\n",
       "Df Residuals:                      92   BIC:                             580.5\n",
       "Df Model:                           8                                         \n",
       "Covariance Type:            nonrobust                                         \n",
       "================================================================================\n",
       "                   coef    std err          t      P>|t|      [0.025      0.975]\n",
       "--------------------------------------------------------------------------------\n",
       "acousticness     1.0699      2.479      0.432      0.667      -3.853       5.993\n",
       "energy           6.2767      2.931      2.141      0.035       0.455      12.098\n",
       "danceability    -1.2287      3.044     -0.404      0.687      -7.274       4.816\n",
       "speechiness      1.7051      4.564      0.374      0.710      -7.360      10.770\n",
       "liveness        -1.0150      4.945     -0.205      0.838     -10.837       8.807\n",
       "valence          0.0570      2.260      0.025      0.980      -4.431       4.545\n",
       "tempo           -0.0031      0.014     -0.218      0.828      -0.032       0.025\n",
       "loudness        -0.4257      0.268     -1.588      0.116      -0.958       0.107\n",
       "==============================================================================\n",
       "Omnibus:                       35.151   Durbin-Watson:                   2.086\n",
       "Prob(Omnibus):                  0.000   Jarque-Bera (JB):                6.507\n",
       "Skew:                          -0.162   Prob(JB):                       0.0386\n",
       "Kurtosis:                       1.793   Cond. No.                     1.62e+03\n",
       "==============================================================================\n",
       "\n",
       "Warnings:\n",
       "[1] Standard Errors assume that the covariance matrix of the errors is correctly specified.\n",
       "[2] The condition number is large, 1.62e+03. This might indicate that there are\n",
       "strong multicollinearity or other numerical problems.\n",
       "\"\"\""
      ]
     },
     "execution_count": 40,
     "metadata": {},
     "output_type": "execute_result"
    }
   ],
   "source": [
    "re9 = regre(dados.loc[:, quant9], dados.key)\n",
    "re9.summary()"
   ]
  },
  {
   "cell_type": "markdown",
   "metadata": {},
   "source": [
    "Fazendo uma análise da variável 'key', podemos observar que as probabilidades de Omnibus e de Jarque-Bera(JB) são praticamente nulas, portanto, não podemos confiar nos altos valores do p value mostrados na tabela. Ainda, obtivemos um alto índice do R-squared (70%), porém, não podemos afirmar com certeza que a variável 'key' é fortemente relacionada com as demais."
   ]
  },
  {
   "cell_type": "markdown",
   "metadata": {},
   "source": [
    "### Décima variável a ser analisada: acousticness"
   ]
  },
  {
   "cell_type": "code",
   "execution_count": 41,
   "metadata": {},
   "outputs": [],
   "source": [
    "quant10 = [ 'energy', 'danceability', 'speechiness', 'liveness', 'valence', 'tempo', 'loudness', 'key']"
   ]
  },
  {
   "cell_type": "code",
   "execution_count": 42,
   "metadata": {},
   "outputs": [],
   "source": [
    "quant10_x = quant10.copy()"
   ]
  },
  {
   "cell_type": "code",
   "execution_count": 43,
   "metadata": {},
   "outputs": [
    {
     "data": {
      "text/html": [
       "<table class=\"simpletable\">\n",
       "<caption>OLS Regression Results</caption>\n",
       "<tr>\n",
       "  <th>Dep. Variable:</th>      <td>acousticness</td>   <th>  R-squared:         </th> <td>   0.570</td>\n",
       "</tr>\n",
       "<tr>\n",
       "  <th>Model:</th>                   <td>OLS</td>       <th>  Adj. R-squared:    </th> <td>   0.532</td>\n",
       "</tr>\n",
       "<tr>\n",
       "  <th>Method:</th>             <td>Least Squares</td>  <th>  F-statistic:       </th> <td>   15.22</td>\n",
       "</tr>\n",
       "<tr>\n",
       "  <th>Date:</th>             <td>Thu, 22 Nov 2018</td> <th>  Prob (F-statistic):</th> <td>5.14e-14</td>\n",
       "</tr>\n",
       "<tr>\n",
       "  <th>Time:</th>                 <td>19:43:54</td>     <th>  Log-Likelihood:    </th> <td>  45.117</td>\n",
       "</tr>\n",
       "<tr>\n",
       "  <th>No. Observations:</th>      <td>   100</td>      <th>  AIC:               </th> <td>  -74.23</td>\n",
       "</tr>\n",
       "<tr>\n",
       "  <th>Df Residuals:</th>          <td>    92</td>      <th>  BIC:               </th> <td>  -53.39</td>\n",
       "</tr>\n",
       "<tr>\n",
       "  <th>Df Model:</th>              <td>     8</td>      <th>                     </th>     <td> </td>   \n",
       "</tr>\n",
       "<tr>\n",
       "  <th>Covariance Type:</th>      <td>nonrobust</td>    <th>                     </th>     <td> </td>   \n",
       "</tr>\n",
       "</table>\n",
       "<table class=\"simpletable\">\n",
       "<tr>\n",
       "        <td></td>          <th>coef</th>     <th>std err</th>      <th>t</th>      <th>P>|t|</th>  <th>[0.025</th>    <th>0.975]</th>  \n",
       "</tr>\n",
       "<tr>\n",
       "  <th>energy</th>       <td>   -0.0174</td> <td>    0.126</td> <td>   -0.138</td> <td> 0.890</td> <td>   -0.268</td> <td>    0.233</td>\n",
       "</tr>\n",
       "<tr>\n",
       "  <th>danceability</th> <td>    0.0022</td> <td>    0.128</td> <td>    0.017</td> <td> 0.986</td> <td>   -0.252</td> <td>    0.256</td>\n",
       "</tr>\n",
       "<tr>\n",
       "  <th>speechiness</th>  <td>   -0.3031</td> <td>    0.189</td> <td>   -1.601</td> <td> 0.113</td> <td>   -0.679</td> <td>    0.073</td>\n",
       "</tr>\n",
       "<tr>\n",
       "  <th>liveness</th>     <td>   -0.1630</td> <td>    0.207</td> <td>   -0.787</td> <td> 0.433</td> <td>   -0.574</td> <td>    0.248</td>\n",
       "</tr>\n",
       "<tr>\n",
       "  <th>valence</th>      <td>    0.2080</td> <td>    0.092</td> <td>    2.250</td> <td> 0.027</td> <td>    0.024</td> <td>    0.392</td>\n",
       "</tr>\n",
       "<tr>\n",
       "  <th>tempo</th>        <td>   -0.0008</td> <td>    0.001</td> <td>   -1.282</td> <td> 0.203</td> <td>   -0.002</td> <td>    0.000</td>\n",
       "</tr>\n",
       "<tr>\n",
       "  <th>loudness</th>     <td>   -0.0359</td> <td>    0.011</td> <td>   -3.330</td> <td> 0.001</td> <td>   -0.057</td> <td>   -0.014</td>\n",
       "</tr>\n",
       "<tr>\n",
       "  <th>key</th>          <td>    0.0019</td> <td>    0.004</td> <td>    0.432</td> <td> 0.667</td> <td>   -0.007</td> <td>    0.011</td>\n",
       "</tr>\n",
       "</table>\n",
       "<table class=\"simpletable\">\n",
       "<tr>\n",
       "  <th>Omnibus:</th>       <td>12.136</td> <th>  Durbin-Watson:     </th> <td>   1.901</td>\n",
       "</tr>\n",
       "<tr>\n",
       "  <th>Prob(Omnibus):</th> <td> 0.002</td> <th>  Jarque-Bera (JB):  </th> <td>  13.092</td>\n",
       "</tr>\n",
       "<tr>\n",
       "  <th>Skew:</th>          <td> 0.876</td> <th>  Prob(JB):          </th> <td> 0.00144</td>\n",
       "</tr>\n",
       "<tr>\n",
       "  <th>Kurtosis:</th>      <td> 3.265</td> <th>  Cond. No.          </th> <td>1.61e+03</td>\n",
       "</tr>\n",
       "</table>"
      ],
      "text/plain": [
       "<class 'statsmodels.iolib.summary.Summary'>\n",
       "\"\"\"\n",
       "                            OLS Regression Results                            \n",
       "==============================================================================\n",
       "Dep. Variable:           acousticness   R-squared:                       0.570\n",
       "Model:                            OLS   Adj. R-squared:                  0.532\n",
       "Method:                 Least Squares   F-statistic:                     15.22\n",
       "Date:                Thu, 22 Nov 2018   Prob (F-statistic):           5.14e-14\n",
       "Time:                        19:43:54   Log-Likelihood:                 45.117\n",
       "No. Observations:                 100   AIC:                            -74.23\n",
       "Df Residuals:                      92   BIC:                            -53.39\n",
       "Df Model:                           8                                         \n",
       "Covariance Type:            nonrobust                                         \n",
       "================================================================================\n",
       "                   coef    std err          t      P>|t|      [0.025      0.975]\n",
       "--------------------------------------------------------------------------------\n",
       "energy          -0.0174      0.126     -0.138      0.890      -0.268       0.233\n",
       "danceability     0.0022      0.128      0.017      0.986      -0.252       0.256\n",
       "speechiness     -0.3031      0.189     -1.601      0.113      -0.679       0.073\n",
       "liveness        -0.1630      0.207     -0.787      0.433      -0.574       0.248\n",
       "valence          0.2080      0.092      2.250      0.027       0.024       0.392\n",
       "tempo           -0.0008      0.001     -1.282      0.203      -0.002       0.000\n",
       "loudness        -0.0359      0.011     -3.330      0.001      -0.057      -0.014\n",
       "key              0.0019      0.004      0.432      0.667      -0.007       0.011\n",
       "==============================================================================\n",
       "Omnibus:                       12.136   Durbin-Watson:                   1.901\n",
       "Prob(Omnibus):                  0.002   Jarque-Bera (JB):               13.092\n",
       "Skew:                           0.876   Prob(JB):                      0.00144\n",
       "Kurtosis:                       3.265   Cond. No.                     1.61e+03\n",
       "==============================================================================\n",
       "\n",
       "Warnings:\n",
       "[1] Standard Errors assume that the covariance matrix of the errors is correctly specified.\n",
       "[2] The condition number is large, 1.61e+03. This might indicate that there are\n",
       "strong multicollinearity or other numerical problems.\n",
       "\"\"\""
      ]
     },
     "execution_count": 43,
     "metadata": {},
     "output_type": "execute_result"
    }
   ],
   "source": [
    "re10 = regre(dados.loc[:, quant10], dados.acousticness)\n",
    "re10.summary()"
   ]
  },
  {
   "cell_type": "markdown",
   "metadata": {},
   "source": [
    "Fazendo uma análise da variável 'acousticness', podemos observar que as probabilidades de Omnibus e de Jarque-Bera(JB) são praticamente nulas, portanto, não podemos confiar nos altos valores do p value mostrados na tabela. Ainda, obtivemos um alto índice do R-squared (57%), porém, não podemos afirmar com certeza que a variável 'acousticness' é fortemente relacionada com as demais."
   ]
  },
  {
   "cell_type": "markdown",
   "metadata": {},
   "source": [
    "### Regressão"
   ]
  },
  {
   "cell_type": "markdown",
   "metadata": {},
   "source": [
    "Como primeira iteração, nós tinhamos como proposta comparar as musicas que estavam no top 50 do spotify no ano de 2017, com as musicas que estavam no top 50 de 2016, para assim prever se as musicas de 2016 teriam possibilidade de estar no top 50 de 2017. Com o andamento do projeto, fomos para uma outra solução, pegar as 10 musicas mais tocadas do top 50, e assim fazer uma regressão linear com as variaveis disponibilizadas pelo spotify, podendo prever dada uma musica qualquer qual a probabilidade dela estar dentro do top 10 do spotify.\n"
   ]
  },
  {
   "cell_type": "markdown",
   "metadata": {},
   "source": [
    "Lendo o arquivo csv:"
   ]
  },
  {
   "cell_type": "code",
   "execution_count": 44,
   "metadata": {},
   "outputs": [],
   "source": [
    "df = pd.read_csv('dataset.csv')"
   ]
  },
  {
   "cell_type": "markdown",
   "metadata": {},
   "source": [
    "_For_ para selecionar as 10 primeiras musicas mais tocadas no spotify no ano de 2017:"
   ]
  },
  {
   "cell_type": "code",
   "execution_count": 45,
   "metadata": {},
   "outputs": [],
   "source": [
    "top10 = []\n",
    "for i in range(50):\n",
    "    if i < 10:\n",
    "        top10.append(1)\n",
    "    else:\n",
    "        top10.append(0)\n"
   ]
  },
  {
   "cell_type": "markdown",
   "metadata": {},
   "source": [
    "Variáveis:"
   ]
  },
  {
   "cell_type": "code",
   "execution_count": 46,
   "metadata": {},
   "outputs": [],
   "source": [
    "quantitativas = [ 'energy', 'danceability', 'speechiness', 'liveness', 'valence', 'tempo', 'loudness', 'key', 'instrumentalness']"
   ]
  },
  {
   "cell_type": "markdown",
   "metadata": {},
   "source": [
    "Regressão:"
   ]
  },
  {
   "cell_type": "code",
   "execution_count": 47,
   "metadata": {},
   "outputs": [
    {
     "data": {
      "text/html": [
       "<table class=\"simpletable\">\n",
       "<caption>OLS Regression Results</caption>\n",
       "<tr>\n",
       "  <th>Dep. Variable:</th>            <td>y</td>        <th>  R-squared:         </th> <td>   0.311</td>\n",
       "</tr>\n",
       "<tr>\n",
       "  <th>Model:</th>                   <td>OLS</td>       <th>  Adj. R-squared:    </th> <td>   0.160</td>\n",
       "</tr>\n",
       "<tr>\n",
       "  <th>Method:</th>             <td>Least Squares</td>  <th>  F-statistic:       </th> <td>   2.055</td>\n",
       "</tr>\n",
       "<tr>\n",
       "  <th>Date:</th>             <td>Thu, 22 Nov 2018</td> <th>  Prob (F-statistic):</th>  <td>0.0571</td> \n",
       "</tr>\n",
       "<tr>\n",
       "  <th>Time:</th>                 <td>19:45:56</td>     <th>  Log-Likelihood:    </th> <td> -21.403</td>\n",
       "</tr>\n",
       "<tr>\n",
       "  <th>No. Observations:</th>      <td>    50</td>      <th>  AIC:               </th> <td>   60.81</td>\n",
       "</tr>\n",
       "<tr>\n",
       "  <th>Df Residuals:</th>          <td>    41</td>      <th>  BIC:               </th> <td>   78.01</td>\n",
       "</tr>\n",
       "<tr>\n",
       "  <th>Df Model:</th>              <td>     9</td>      <th>                     </th>     <td> </td>   \n",
       "</tr>\n",
       "<tr>\n",
       "  <th>Covariance Type:</th>      <td>nonrobust</td>    <th>                     </th>     <td> </td>   \n",
       "</tr>\n",
       "</table>\n",
       "<table class=\"simpletable\">\n",
       "<tr>\n",
       "          <td></td>            <th>coef</th>     <th>std err</th>      <th>t</th>      <th>P>|t|</th>  <th>[0.025</th>    <th>0.975]</th>  \n",
       "</tr>\n",
       "<tr>\n",
       "  <th>energy</th>           <td>    0.1609</td> <td>    0.470</td> <td>    0.343</td> <td> 0.734</td> <td>   -0.788</td> <td>    1.109</td>\n",
       "</tr>\n",
       "<tr>\n",
       "  <th>danceability</th>     <td>   -0.5124</td> <td>    0.506</td> <td>   -1.013</td> <td> 0.317</td> <td>   -1.534</td> <td>    0.509</td>\n",
       "</tr>\n",
       "<tr>\n",
       "  <th>speechiness</th>      <td>   -1.3058</td> <td>    1.042</td> <td>   -1.254</td> <td> 0.217</td> <td>   -3.409</td> <td>    0.798</td>\n",
       "</tr>\n",
       "<tr>\n",
       "  <th>liveness</th>         <td>   -0.1899</td> <td>    0.377</td> <td>   -0.504</td> <td> 0.617</td> <td>   -0.952</td> <td>    0.572</td>\n",
       "</tr>\n",
       "<tr>\n",
       "  <th>valence</th>          <td>    0.4361</td> <td>    0.356</td> <td>    1.226</td> <td> 0.227</td> <td>   -0.282</td> <td>    1.155</td>\n",
       "</tr>\n",
       "<tr>\n",
       "  <th>tempo</th>            <td>    0.0007</td> <td>    0.002</td> <td>    0.309</td> <td> 0.759</td> <td>   -0.004</td> <td>    0.005</td>\n",
       "</tr>\n",
       "<tr>\n",
       "  <th>loudness</th>         <td>   -0.0518</td> <td>    0.032</td> <td>   -1.604</td> <td> 0.116</td> <td>   -0.117</td> <td>    0.013</td>\n",
       "</tr>\n",
       "<tr>\n",
       "  <th>key</th>              <td>    0.0042</td> <td>    0.018</td> <td>    0.232</td> <td> 0.818</td> <td>   -0.033</td> <td>    0.041</td>\n",
       "</tr>\n",
       "<tr>\n",
       "  <th>instrumentalness</th> <td>   -0.9620</td> <td>    1.225</td> <td>   -0.785</td> <td> 0.437</td> <td>   -3.436</td> <td>    1.512</td>\n",
       "</tr>\n",
       "</table>\n",
       "<table class=\"simpletable\">\n",
       "<tr>\n",
       "  <th>Omnibus:</th>       <td>10.452</td> <th>  Durbin-Watson:     </th> <td>   0.303</td>\n",
       "</tr>\n",
       "<tr>\n",
       "  <th>Prob(Omnibus):</th> <td> 0.005</td> <th>  Jarque-Bera (JB):  </th> <td>  11.570</td>\n",
       "</tr>\n",
       "<tr>\n",
       "  <th>Skew:</th>          <td> 1.178</td> <th>  Prob(JB):          </th> <td> 0.00307</td>\n",
       "</tr>\n",
       "<tr>\n",
       "  <th>Kurtosis:</th>      <td> 2.917</td> <th>  Cond. No.          </th> <td>2.72e+03</td>\n",
       "</tr>\n",
       "</table>"
      ],
      "text/plain": [
       "<class 'statsmodels.iolib.summary.Summary'>\n",
       "\"\"\"\n",
       "                            OLS Regression Results                            \n",
       "==============================================================================\n",
       "Dep. Variable:                      y   R-squared:                       0.311\n",
       "Model:                            OLS   Adj. R-squared:                  0.160\n",
       "Method:                 Least Squares   F-statistic:                     2.055\n",
       "Date:                Thu, 22 Nov 2018   Prob (F-statistic):             0.0571\n",
       "Time:                        19:45:56   Log-Likelihood:                -21.403\n",
       "No. Observations:                  50   AIC:                             60.81\n",
       "Df Residuals:                      41   BIC:                             78.01\n",
       "Df Model:                           9                                         \n",
       "Covariance Type:            nonrobust                                         \n",
       "====================================================================================\n",
       "                       coef    std err          t      P>|t|      [0.025      0.975]\n",
       "------------------------------------------------------------------------------------\n",
       "energy               0.1609      0.470      0.343      0.734      -0.788       1.109\n",
       "danceability        -0.5124      0.506     -1.013      0.317      -1.534       0.509\n",
       "speechiness         -1.3058      1.042     -1.254      0.217      -3.409       0.798\n",
       "liveness            -0.1899      0.377     -0.504      0.617      -0.952       0.572\n",
       "valence              0.4361      0.356      1.226      0.227      -0.282       1.155\n",
       "tempo                0.0007      0.002      0.309      0.759      -0.004       0.005\n",
       "loudness            -0.0518      0.032     -1.604      0.116      -0.117       0.013\n",
       "key                  0.0042      0.018      0.232      0.818      -0.033       0.041\n",
       "instrumentalness    -0.9620      1.225     -0.785      0.437      -3.436       1.512\n",
       "==============================================================================\n",
       "Omnibus:                       10.452   Durbin-Watson:                   0.303\n",
       "Prob(Omnibus):                  0.005   Jarque-Bera (JB):               11.570\n",
       "Skew:                           1.178   Prob(JB):                      0.00307\n",
       "Kurtosis:                       2.917   Cond. No.                     2.72e+03\n",
       "==============================================================================\n",
       "\n",
       "Warnings:\n",
       "[1] Standard Errors assume that the covariance matrix of the errors is correctly specified.\n",
       "[2] The condition number is large, 2.72e+03. This might indicate that there are\n",
       "strong multicollinearity or other numerical problems.\n",
       "\"\"\""
      ]
     },
     "execution_count": 47,
     "metadata": {},
     "output_type": "execute_result"
    }
   ],
   "source": [
    "resultado = regre(df.loc[:, quantitativas], top10)\n",
    "resultado.summary()"
   ]
  },
  {
   "cell_type": "code",
   "execution_count": 48,
   "metadata": {},
   "outputs": [
    {
     "data": {
      "image/png": "[encoded data removed]",
      "text/plain": [
       "<matplotlib.figure.Figure at 0x1d472e4e358>"
      ]
     },
     "metadata": {},
     "output_type": "display_data"
    }
   ],
   "source": [
    "probplot(resultado.resid, dist='norm', plot=plt);"
   ]
  },
  {
   "cell_type": "markdown",
   "metadata": {},
   "source": [
    "Foi possível observar, que a regressão acima não segue uma normal, além de que o _R-squared_ e o _Prob(Omnibus)_ deram valores muito baixos, indicando que a regressão não pe confiavél.\n",
    "Após está tentativas, optamos por mudar a perguntas e fazer a análise de todas as variáveis uma a uma."
   ]
  },
  {
   "cell_type": "markdown",
   "metadata": {},
   "source": [
    "### Divisão de tarefas do projeto 3:"
   ]
  },
  {
   "cell_type": "markdown",
   "metadata": {},
   "source": [
    "Nós nos responsabilizamos em dividir igualmente o trabalho, para nao sobrecarregar nenhuma das duas integrantes do grupo,\n",
    "escolhemos o tema do projeto e juntas, a responsável para pegar o dadaset do spotify foi a Beatriz Mie, a análise exploratória foi feita pela Vitória de Almeida, e por fim, a regressão junto com as análises foi feita pelas duas juntas no horário de aula e nos intervalos."
   ]
  },
  {
   "cell_type": "markdown",
   "metadata": {},
   "source": [
    "### Conclusão:"
   ]
  },
  {
   "cell_type": "markdown",
   "metadata": {},
   "source": [
    "Foi possivel concluir com a nossa regressão que as variaveis que menos se adequam são: speechiness, instrumentalness, acousticness, pois possuem um _R-squared_ mais baixo em relação as outras variáveis, o que significa que "
   ]
  },
  {
   "cell_type": "code",
   "execution_count": null,
   "metadata": {},
   "outputs": [],
   "source": []
  }
 ],
 "metadata": {
  "kernelspec": {
   "display_name": "Python 3",
   "language": "python",
   "name": "python3"
  },
  "language_info": {
   "codemirror_mode": {
    "name": "ipython",
    "version": 3
   },
   "file_extension": ".py",
   "mimetype": "text/x-python",
   "name": "python",
   "nbconvert_exporter": "python",
   "pygments_lexer": "ipython3",
   "version": "3.6.4"
  }
 },
 "nbformat": 4,
 "nbformat_minor": 2
}
