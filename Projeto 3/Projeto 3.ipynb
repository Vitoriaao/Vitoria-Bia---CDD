{
 "cells": [
  {
   "cell_type": "markdown",
   "metadata": {},
   "source": [
    "## Regressão Linear"
   ]
  },
  {
   "cell_type": "code",
   "execution_count": 1,
   "metadata": {},
   "outputs": [
    {
     "name": "stderr",
     "output_type": "stream",
     "text": [
      "C:\\Users\\vitor\\Anaconda3\\lib\\site-packages\\statsmodels\\compat\\pandas.py:56: FutureWarning: The pandas.core.datetools module is deprecated and will be removed in a future version. Please use the pandas.tseries module instead.\n",
      "  from pandas.core import datetools\n"
     ]
    }
   ],
   "source": [
    "import pandas as pd\n",
    "import statsmodels.api as sm\n",
    "from scipy.stats import probplot, norm\n",
    "import matplotlib.pyplot as plt"
   ]
  },
  {
   "cell_type": "code",
   "execution_count": 2,
   "metadata": {},
   "outputs": [],
   "source": [
    "def regre(x, y):\n",
    "    X = sm.add_constant(x)\n",
    "    model = sm.OLS(y, X)\n",
    "    result = model.fit()\n",
    "    return result"
   ]
  },
  {
   "cell_type": "code",
   "execution_count": 3,
   "metadata": {},
   "outputs": [],
   "source": [
    "dados = pd.read_csv('featuresdf1.csv')"
   ]
  },
  {
   "cell_type": "code",
   "execution_count": 4,
   "metadata": {},
   "outputs": [
    {
     "data": {
      "text/html": [
       "<div>\n",
       "<style scoped>\n",
       "    .dataframe tbody tr th:only-of-type {\n",
       "        vertical-align: middle;\n",
       "    }\n",
       "\n",
       "    .dataframe tbody tr th {\n",
       "        vertical-align: top;\n",
       "    }\n",
       "\n",
       "    .dataframe thead th {\n",
       "        text-align: right;\n",
       "    }\n",
       "</style>\n",
       "<table border=\"1\" class=\"dataframe\">\n",
       "  <thead>\n",
       "    <tr style=\"text-align: right;\">\n",
       "      <th></th>\n",
       "      <th>Unnamed: 0</th>\n",
       "      <th>id</th>\n",
       "      <th>name</th>\n",
       "      <th>artists</th>\n",
       "      <th>danceability</th>\n",
       "      <th>energy</th>\n",
       "      <th>key</th>\n",
       "      <th>loudness</th>\n",
       "      <th>speechiness</th>\n",
       "      <th>acousticness</th>\n",
       "      <th>instrumentalness</th>\n",
       "      <th>liveness</th>\n",
       "      <th>valence</th>\n",
       "      <th>tempo</th>\n",
       "    </tr>\n",
       "  </thead>\n",
       "  <tbody>\n",
       "    <tr>\n",
       "      <th>0</th>\n",
       "      <td>0</td>\n",
       "      <td>7qiZfU4dY1lWllzX7mPBI</td>\n",
       "      <td>Shape of You</td>\n",
       "      <td>Ed Sheeran</td>\n",
       "      <td>0.825</td>\n",
       "      <td>0.652</td>\n",
       "      <td>1.0</td>\n",
       "      <td>-3.183</td>\n",
       "      <td>0.0802</td>\n",
       "      <td>0.5810</td>\n",
       "      <td>0.000000</td>\n",
       "      <td>0.0931</td>\n",
       "      <td>0.931</td>\n",
       "      <td>95.977</td>\n",
       "    </tr>\n",
       "    <tr>\n",
       "      <th>1</th>\n",
       "      <td>1</td>\n",
       "      <td>5CtI0qwDJkDQGwXD1H1cL</td>\n",
       "      <td>Despacito - Remix</td>\n",
       "      <td>Luis Fonsi</td>\n",
       "      <td>0.694</td>\n",
       "      <td>0.815</td>\n",
       "      <td>2.0</td>\n",
       "      <td>-4.328</td>\n",
       "      <td>0.1200</td>\n",
       "      <td>0.2290</td>\n",
       "      <td>0.000000</td>\n",
       "      <td>0.0924</td>\n",
       "      <td>0.813</td>\n",
       "      <td>88.931</td>\n",
       "    </tr>\n",
       "    <tr>\n",
       "      <th>2</th>\n",
       "      <td>2</td>\n",
       "      <td>4aWmUDTfIPGksMNLV2rQP</td>\n",
       "      <td>Despacito (Featuring Daddy Yankee)</td>\n",
       "      <td>Luis Fonsi</td>\n",
       "      <td>0.660</td>\n",
       "      <td>0.786</td>\n",
       "      <td>2.0</td>\n",
       "      <td>-4.757</td>\n",
       "      <td>0.1700</td>\n",
       "      <td>0.2090</td>\n",
       "      <td>0.000000</td>\n",
       "      <td>0.1120</td>\n",
       "      <td>0.846</td>\n",
       "      <td>177.833</td>\n",
       "    </tr>\n",
       "    <tr>\n",
       "      <th>3</th>\n",
       "      <td>3</td>\n",
       "      <td>6RUKPb4LETWmmr3iAEQkt</td>\n",
       "      <td>Something Just Like This</td>\n",
       "      <td>The Chainsmokers</td>\n",
       "      <td>0.617</td>\n",
       "      <td>0.635</td>\n",
       "      <td>11.0</td>\n",
       "      <td>-6.769</td>\n",
       "      <td>0.0317</td>\n",
       "      <td>0.0498</td>\n",
       "      <td>0.000014</td>\n",
       "      <td>0.1640</td>\n",
       "      <td>0.446</td>\n",
       "      <td>103.019</td>\n",
       "    </tr>\n",
       "    <tr>\n",
       "      <th>4</th>\n",
       "      <td>4</td>\n",
       "      <td>3DXncPQOG4VBw3QHh3S81</td>\n",
       "      <td>I'm the One</td>\n",
       "      <td>DJ Khaled</td>\n",
       "      <td>0.609</td>\n",
       "      <td>0.668</td>\n",
       "      <td>7.0</td>\n",
       "      <td>-4.284</td>\n",
       "      <td>0.0367</td>\n",
       "      <td>0.0552</td>\n",
       "      <td>0.000000</td>\n",
       "      <td>0.1670</td>\n",
       "      <td>0.811</td>\n",
       "      <td>80.924</td>\n",
       "    </tr>\n",
       "  </tbody>\n",
       "</table>\n",
       "</div>"
      ],
      "text/plain": [
       "   Unnamed: 0                     id                                name  \\\n",
       "0           0  7qiZfU4dY1lWllzX7mPBI                        Shape of You   \n",
       "1           1  5CtI0qwDJkDQGwXD1H1cL                   Despacito - Remix   \n",
       "2           2  4aWmUDTfIPGksMNLV2rQP  Despacito (Featuring Daddy Yankee)   \n",
       "3           3  6RUKPb4LETWmmr3iAEQkt            Something Just Like This   \n",
       "4           4  3DXncPQOG4VBw3QHh3S81                         I'm the One   \n",
       "\n",
       "            artists  danceability  energy   key  loudness  speechiness  \\\n",
       "0        Ed Sheeran         0.825   0.652   1.0    -3.183       0.0802   \n",
       "1        Luis Fonsi         0.694   0.815   2.0    -4.328       0.1200   \n",
       "2        Luis Fonsi         0.660   0.786   2.0    -4.757       0.1700   \n",
       "3  The Chainsmokers         0.617   0.635  11.0    -6.769       0.0317   \n",
       "4         DJ Khaled         0.609   0.668   7.0    -4.284       0.0367   \n",
       "\n",
       "   acousticness  instrumentalness  liveness  valence    tempo  \n",
       "0        0.5810          0.000000    0.0931    0.931   95.977  \n",
       "1        0.2290          0.000000    0.0924    0.813   88.931  \n",
       "2        0.2090          0.000000    0.1120    0.846  177.833  \n",
       "3        0.0498          0.000014    0.1640    0.446  103.019  \n",
       "4        0.0552          0.000000    0.1670    0.811   80.924  "
      ]
     },
     "execution_count": 4,
     "metadata": {},
     "output_type": "execute_result"
    }
   ],
   "source": [
    "dados.head()"
   ]
  },
  {
   "cell_type": "markdown",
   "metadata": {},
   "source": [
    "## Analise das variáveis"
   ]
  },
  {
   "cell_type": "markdown",
   "metadata": {},
   "source": [
    "Primeira variavel a ser analisada: ENERGY"
   ]
  },
  {
   "cell_type": "code",
   "execution_count": 5,
   "metadata": {},
   "outputs": [],
   "source": [
    "quant1 = ['danceability','speechiness', 'instrumentalness', 'liveness', 'valence', 'tempo', 'loudness','key','acousticness']"
   ]
  },
  {
   "cell_type": "code",
   "execution_count": 6,
   "metadata": {},
   "outputs": [],
   "source": [
    "quant1_x = quant1.copy()"
   ]
  },
  {
   "cell_type": "code",
   "execution_count": 8,
   "metadata": {},
   "outputs": [
    {
     "data": {
      "text/html": [
       "<table class=\"simpletable\">\n",
       "<caption>OLS Regression Results</caption>\n",
       "<tr>\n",
       "  <th>Dep. Variable:</th>         <td>energy</td>      <th>  R-squared:         </th> <td>   0.596</td>\n",
       "</tr>\n",
       "<tr>\n",
       "  <th>Model:</th>                   <td>OLS</td>       <th>  Adj. R-squared:    </th> <td>   0.556</td>\n",
       "</tr>\n",
       "<tr>\n",
       "  <th>Method:</th>             <td>Least Squares</td>  <th>  F-statistic:       </th> <td>   14.75</td>\n",
       "</tr>\n",
       "<tr>\n",
       "  <th>Date:</th>             <td>Thu, 22 Nov 2018</td> <th>  Prob (F-statistic):</th> <td>2.07e-14</td>\n",
       "</tr>\n",
       "<tr>\n",
       "  <th>Time:</th>                 <td>08:33:53</td>     <th>  Log-Likelihood:    </th> <td>  101.11</td>\n",
       "</tr>\n",
       "<tr>\n",
       "  <th>No. Observations:</th>      <td>   100</td>      <th>  AIC:               </th> <td>  -182.2</td>\n",
       "</tr>\n",
       "<tr>\n",
       "  <th>Df Residuals:</th>          <td>    90</td>      <th>  BIC:               </th> <td>  -156.2</td>\n",
       "</tr>\n",
       "<tr>\n",
       "  <th>Df Model:</th>              <td>     9</td>      <th>                     </th>     <td> </td>   \n",
       "</tr>\n",
       "<tr>\n",
       "  <th>Covariance Type:</th>      <td>nonrobust</td>    <th>                     </th>     <td> </td>   \n",
       "</tr>\n",
       "</table>\n",
       "<table class=\"simpletable\">\n",
       "<tr>\n",
       "          <td></td>            <th>coef</th>     <th>std err</th>      <th>t</th>      <th>P>|t|</th>  <th>[0.025</th>    <th>0.975]</th>  \n",
       "</tr>\n",
       "<tr>\n",
       "  <th>const</th>            <td>    0.9572</td> <td>    0.098</td> <td>    9.813</td> <td> 0.000</td> <td>    0.763</td> <td>    1.151</td>\n",
       "</tr>\n",
       "<tr>\n",
       "  <th>danceability</th>     <td>   -0.1536</td> <td>    0.089</td> <td>   -1.722</td> <td> 0.089</td> <td>   -0.331</td> <td>    0.024</td>\n",
       "</tr>\n",
       "<tr>\n",
       "  <th>speechiness</th>      <td>    0.1980</td> <td>    0.115</td> <td>    1.716</td> <td> 0.090</td> <td>   -0.031</td> <td>    0.427</td>\n",
       "</tr>\n",
       "<tr>\n",
       "  <th>instrumentalness</th> <td>    0.8204</td> <td>    0.369</td> <td>    2.225</td> <td> 0.029</td> <td>    0.088</td> <td>    1.553</td>\n",
       "</tr>\n",
       "<tr>\n",
       "  <th>liveness</th>         <td>    0.1613</td> <td>    0.120</td> <td>    1.349</td> <td> 0.181</td> <td>   -0.076</td> <td>    0.399</td>\n",
       "</tr>\n",
       "<tr>\n",
       "  <th>valence</th>          <td>    0.0915</td> <td>    0.054</td> <td>    1.694</td> <td> 0.094</td> <td>   -0.016</td> <td>    0.199</td>\n",
       "</tr>\n",
       "<tr>\n",
       "  <th>tempo</th>            <td>    0.0002</td> <td>    0.000</td> <td>    0.531</td> <td> 0.596</td> <td>   -0.001</td> <td>    0.001</td>\n",
       "</tr>\n",
       "<tr>\n",
       "  <th>loudness</th>         <td>    0.0552</td> <td>    0.007</td> <td>    8.326</td> <td> 0.000</td> <td>    0.042</td> <td>    0.068</td>\n",
       "</tr>\n",
       "<tr>\n",
       "  <th>key</th>              <td>    0.0032</td> <td>    0.003</td> <td>    1.261</td> <td> 0.210</td> <td>   -0.002</td> <td>    0.008</td>\n",
       "</tr>\n",
       "<tr>\n",
       "  <th>acousticness</th>     <td>   -0.0964</td> <td>    0.061</td> <td>   -1.577</td> <td> 0.118</td> <td>   -0.218</td> <td>    0.025</td>\n",
       "</tr>\n",
       "</table>\n",
       "<table class=\"simpletable\">\n",
       "<tr>\n",
       "  <th>Omnibus:</th>       <td> 0.008</td> <th>  Durbin-Watson:     </th> <td>   2.026</td>\n",
       "</tr>\n",
       "<tr>\n",
       "  <th>Prob(Omnibus):</th> <td> 0.996</td> <th>  Jarque-Bera (JB):  </th> <td>   0.119</td>\n",
       "</tr>\n",
       "<tr>\n",
       "  <th>Skew:</th>          <td> 0.011</td> <th>  Prob(JB):          </th> <td>   0.942</td>\n",
       "</tr>\n",
       "<tr>\n",
       "  <th>Kurtosis:</th>      <td> 2.832</td> <th>  Cond. No.          </th> <td>4.88e+03</td>\n",
       "</tr>\n",
       "</table>"
      ],
      "text/plain": [
       "<class 'statsmodels.iolib.summary.Summary'>\n",
       "\"\"\"\n",
       "                            OLS Regression Results                            \n",
       "==============================================================================\n",
       "Dep. Variable:                 energy   R-squared:                       0.596\n",
       "Model:                            OLS   Adj. R-squared:                  0.556\n",
       "Method:                 Least Squares   F-statistic:                     14.75\n",
       "Date:                Thu, 22 Nov 2018   Prob (F-statistic):           2.07e-14\n",
       "Time:                        08:33:53   Log-Likelihood:                 101.11\n",
       "No. Observations:                 100   AIC:                            -182.2\n",
       "Df Residuals:                      90   BIC:                            -156.2\n",
       "Df Model:                           9                                         \n",
       "Covariance Type:            nonrobust                                         \n",
       "====================================================================================\n",
       "                       coef    std err          t      P>|t|      [0.025      0.975]\n",
       "------------------------------------------------------------------------------------\n",
       "const                0.9572      0.098      9.813      0.000       0.763       1.151\n",
       "danceability        -0.1536      0.089     -1.722      0.089      -0.331       0.024\n",
       "speechiness          0.1980      0.115      1.716      0.090      -0.031       0.427\n",
       "instrumentalness     0.8204      0.369      2.225      0.029       0.088       1.553\n",
       "liveness             0.1613      0.120      1.349      0.181      -0.076       0.399\n",
       "valence              0.0915      0.054      1.694      0.094      -0.016       0.199\n",
       "tempo                0.0002      0.000      0.531      0.596      -0.001       0.001\n",
       "loudness             0.0552      0.007      8.326      0.000       0.042       0.068\n",
       "key                  0.0032      0.003      1.261      0.210      -0.002       0.008\n",
       "acousticness        -0.0964      0.061     -1.577      0.118      -0.218       0.025\n",
       "==============================================================================\n",
       "Omnibus:                        0.008   Durbin-Watson:                   2.026\n",
       "Prob(Omnibus):                  0.996   Jarque-Bera (JB):                0.119\n",
       "Skew:                           0.011   Prob(JB):                        0.942\n",
       "Kurtosis:                       2.832   Cond. No.                     4.88e+03\n",
       "==============================================================================\n",
       "\n",
       "Warnings:\n",
       "[1] Standard Errors assume that the covariance matrix of the errors is correctly specified.\n",
       "[2] The condition number is large, 4.88e+03. This might indicate that there are\n",
       "strong multicollinearity or other numerical problems.\n",
       "\"\"\""
      ]
     },
     "execution_count": 8,
     "metadata": {},
     "output_type": "execute_result"
    }
   ],
   "source": [
    "re = regre(dados.loc[:, quant1], dados.energy)\n",
    "re.summary()"
   ]
  },
  {
   "cell_type": "code",
   "execution_count": 13,
   "metadata": {},
   "outputs": [
    {
     "data": {
      "image/png": "[encoded data removed]",
      "text/plain": [
       "<matplotlib.figure.Figure at 0x1fcca4e0470>"
      ]
     },
     "metadata": {},
     "output_type": "display_data"
    }
   ],
   "source": [
    "probplot(dados.energy, dist='norm', plot=plt);"
   ]
  },
  {
   "cell_type": "markdown",
   "metadata": {},
   "source": [
    "Segunda variavel a ser analisada: danceability"
   ]
  },
  {
   "cell_type": "code",
   "execution_count": 10,
   "metadata": {},
   "outputs": [],
   "source": [
    "quant2 = ['speechiness', 'instrumentalness', 'liveness', 'valence', 'tempo', 'loudness','key','acousticness', 'energy']"
   ]
  },
  {
   "cell_type": "code",
   "execution_count": 11,
   "metadata": {},
   "outputs": [],
   "source": [
    "quant2_x = quant2.copy()"
   ]
  },
  {
   "cell_type": "code",
   "execution_count": 12,
   "metadata": {},
   "outputs": [
    {
     "data": {
      "text/html": [
       "<table class=\"simpletable\">\n",
       "<caption>OLS Regression Results</caption>\n",
       "<tr>\n",
       "  <th>Dep. Variable:</th>      <td>danceability</td>   <th>  R-squared:         </th> <td>   0.324</td>\n",
       "</tr>\n",
       "<tr>\n",
       "  <th>Model:</th>                   <td>OLS</td>       <th>  Adj. R-squared:    </th> <td>   0.256</td>\n",
       "</tr>\n",
       "<tr>\n",
       "  <th>Method:</th>             <td>Least Squares</td>  <th>  F-statistic:       </th> <td>   4.791</td>\n",
       "</tr>\n",
       "<tr>\n",
       "  <th>Date:</th>             <td>Thu, 22 Nov 2018</td> <th>  Prob (F-statistic):</th> <td>3.18e-05</td>\n",
       "</tr>\n",
       "<tr>\n",
       "  <th>Time:</th>                 <td>08:37:26</td>     <th>  Log-Likelihood:    </th> <td>  86.059</td>\n",
       "</tr>\n",
       "<tr>\n",
       "  <th>No. Observations:</th>      <td>   100</td>      <th>  AIC:               </th> <td>  -152.1</td>\n",
       "</tr>\n",
       "<tr>\n",
       "  <th>Df Residuals:</th>          <td>    90</td>      <th>  BIC:               </th> <td>  -126.1</td>\n",
       "</tr>\n",
       "<tr>\n",
       "  <th>Df Model:</th>              <td>     9</td>      <th>                     </th>     <td> </td>   \n",
       "</tr>\n",
       "<tr>\n",
       "  <th>Covariance Type:</th>      <td>nonrobust</td>    <th>                     </th>     <td> </td>   \n",
       "</tr>\n",
       "</table>\n",
       "<table class=\"simpletable\">\n",
       "<tr>\n",
       "          <td></td>            <th>coef</th>     <th>std err</th>      <th>t</th>      <th>P>|t|</th>  <th>[0.025</th>    <th>0.975]</th>  \n",
       "</tr>\n",
       "<tr>\n",
       "  <th>const</th>            <td>    0.8946</td> <td>    0.133</td> <td>    6.720</td> <td> 0.000</td> <td>    0.630</td> <td>    1.159</td>\n",
       "</tr>\n",
       "<tr>\n",
       "  <th>speechiness</th>      <td>    0.2621</td> <td>    0.133</td> <td>    1.964</td> <td> 0.053</td> <td>   -0.003</td> <td>    0.527</td>\n",
       "</tr>\n",
       "<tr>\n",
       "  <th>instrumentalness</th> <td>    0.3958</td> <td>    0.438</td> <td>    0.903</td> <td> 0.369</td> <td>   -0.475</td> <td>    1.266</td>\n",
       "</tr>\n",
       "<tr>\n",
       "  <th>liveness</th>         <td>   -0.0107</td> <td>    0.140</td> <td>   -0.076</td> <td> 0.939</td> <td>   -0.290</td> <td>    0.268</td>\n",
       "</tr>\n",
       "<tr>\n",
       "  <th>valence</th>          <td>    0.2428</td> <td>    0.058</td> <td>    4.152</td> <td> 0.000</td> <td>    0.127</td> <td>    0.359</td>\n",
       "</tr>\n",
       "<tr>\n",
       "  <th>tempo</th>            <td>   -0.0013</td> <td>    0.000</td> <td>   -3.132</td> <td> 0.002</td> <td>   -0.002</td> <td>   -0.000</td>\n",
       "</tr>\n",
       "<tr>\n",
       "  <th>loudness</th>         <td>    0.0054</td> <td>    0.010</td> <td>    0.524</td> <td> 0.602</td> <td>   -0.015</td> <td>    0.026</td>\n",
       "</tr>\n",
       "<tr>\n",
       "  <th>key</th>              <td>   -0.0016</td> <td>    0.003</td> <td>   -0.542</td> <td> 0.589</td> <td>   -0.007</td> <td>    0.004</td>\n",
       "</tr>\n",
       "<tr>\n",
       "  <th>acousticness</th>     <td>   -0.0885</td> <td>    0.071</td> <td>   -1.240</td> <td> 0.218</td> <td>   -0.230</td> <td>    0.053</td>\n",
       "</tr>\n",
       "<tr>\n",
       "  <th>energy</th>           <td>   -0.2076</td> <td>    0.121</td> <td>   -1.722</td> <td> 0.089</td> <td>   -0.447</td> <td>    0.032</td>\n",
       "</tr>\n",
       "</table>\n",
       "<table class=\"simpletable\">\n",
       "<tr>\n",
       "  <th>Omnibus:</th>       <td> 6.179</td> <th>  Durbin-Watson:     </th> <td>   1.870</td>\n",
       "</tr>\n",
       "<tr>\n",
       "  <th>Prob(Omnibus):</th> <td> 0.046</td> <th>  Jarque-Bera (JB):  </th> <td>   6.958</td>\n",
       "</tr>\n",
       "<tr>\n",
       "  <th>Skew:</th>          <td>-0.341</td> <th>  Prob(JB):          </th> <td>  0.0308</td>\n",
       "</tr>\n",
       "<tr>\n",
       "  <th>Kurtosis:</th>      <td> 4.097</td> <th>  Cond. No.          </th> <td>5.01e+03</td>\n",
       "</tr>\n",
       "</table>"
      ],
      "text/plain": [
       "<class 'statsmodels.iolib.summary.Summary'>\n",
       "\"\"\"\n",
       "                            OLS Regression Results                            \n",
       "==============================================================================\n",
       "Dep. Variable:           danceability   R-squared:                       0.324\n",
       "Model:                            OLS   Adj. R-squared:                  0.256\n",
       "Method:                 Least Squares   F-statistic:                     4.791\n",
       "Date:                Thu, 22 Nov 2018   Prob (F-statistic):           3.18e-05\n",
       "Time:                        08:37:26   Log-Likelihood:                 86.059\n",
       "No. Observations:                 100   AIC:                            -152.1\n",
       "Df Residuals:                      90   BIC:                            -126.1\n",
       "Df Model:                           9                                         \n",
       "Covariance Type:            nonrobust                                         \n",
       "====================================================================================\n",
       "                       coef    std err          t      P>|t|      [0.025      0.975]\n",
       "------------------------------------------------------------------------------------\n",
       "const                0.8946      0.133      6.720      0.000       0.630       1.159\n",
       "speechiness          0.2621      0.133      1.964      0.053      -0.003       0.527\n",
       "instrumentalness     0.3958      0.438      0.903      0.369      -0.475       1.266\n",
       "liveness            -0.0107      0.140     -0.076      0.939      -0.290       0.268\n",
       "valence              0.2428      0.058      4.152      0.000       0.127       0.359\n",
       "tempo               -0.0013      0.000     -3.132      0.002      -0.002      -0.000\n",
       "loudness             0.0054      0.010      0.524      0.602      -0.015       0.026\n",
       "key                 -0.0016      0.003     -0.542      0.589      -0.007       0.004\n",
       "acousticness        -0.0885      0.071     -1.240      0.218      -0.230       0.053\n",
       "energy              -0.2076      0.121     -1.722      0.089      -0.447       0.032\n",
       "==============================================================================\n",
       "Omnibus:                        6.179   Durbin-Watson:                   1.870\n",
       "Prob(Omnibus):                  0.046   Jarque-Bera (JB):                6.958\n",
       "Skew:                          -0.341   Prob(JB):                       0.0308\n",
       "Kurtosis:                       4.097   Cond. No.                     5.01e+03\n",
       "==============================================================================\n",
       "\n",
       "Warnings:\n",
       "[1] Standard Errors assume that the covariance matrix of the errors is correctly specified.\n",
       "[2] The condition number is large, 5.01e+03. This might indicate that there are\n",
       "strong multicollinearity or other numerical problems.\n",
       "\"\"\""
      ]
     },
     "execution_count": 12,
     "metadata": {},
     "output_type": "execute_result"
    }
   ],
   "source": [
    "re = regre(dados.loc[:, quant2], dados.danceability)\n",
    "re.summary()"
   ]
  },
  {
   "cell_type": "code",
   "execution_count": 14,
   "metadata": {},
   "outputs": [
    {
     "data": {
      "image/png": "[encoded data removed]",
      "text/plain": [
       "<matplotlib.figure.Figure at 0x1fcca5ad2e8>"
      ]
     },
     "metadata": {},
     "output_type": "display_data"
    }
   ],
   "source": [
    "probplot(dados.danceability, dist='norm', plot=plt);"
   ]
  },
  {
   "cell_type": "markdown",
   "metadata": {},
   "source": [
    "Terceira variavel a ser analisada: speechiness"
   ]
  },
  {
   "cell_type": "code",
   "execution_count": 15,
   "metadata": {},
   "outputs": [],
   "source": [
    "quant3 = [ 'instrumentalness', 'liveness', 'valence', 'tempo', 'loudness','key','acousticness', 'energy', 'danceability']"
   ]
  },
  {
   "cell_type": "code",
   "execution_count": 16,
   "metadata": {},
   "outputs": [],
   "source": [
    "quant3_x = quant3.copy()"
   ]
  },
  {
   "cell_type": "code",
   "execution_count": 18,
   "metadata": {},
   "outputs": [
    {
     "data": {
      "text/html": [
       "<table class=\"simpletable\">\n",
       "<caption>OLS Regression Results</caption>\n",
       "<tr>\n",
       "  <th>Dep. Variable:</th>       <td>speechiness</td>   <th>  R-squared:         </th> <td>   0.301</td>\n",
       "</tr>\n",
       "<tr>\n",
       "  <th>Model:</th>                   <td>OLS</td>       <th>  Adj. R-squared:    </th> <td>   0.231</td>\n",
       "</tr>\n",
       "<tr>\n",
       "  <th>Method:</th>             <td>Least Squares</td>  <th>  F-statistic:       </th> <td>   4.300</td>\n",
       "</tr>\n",
       "<tr>\n",
       "  <th>Date:</th>             <td>Thu, 22 Nov 2018</td> <th>  Prob (F-statistic):</th> <td>0.000114</td>\n",
       "</tr>\n",
       "<tr>\n",
       "  <th>Time:</th>                 <td>08:40:10</td>     <th>  Log-Likelihood:    </th> <td>  111.76</td>\n",
       "</tr>\n",
       "<tr>\n",
       "  <th>No. Observations:</th>      <td>   100</td>      <th>  AIC:               </th> <td>  -203.5</td>\n",
       "</tr>\n",
       "<tr>\n",
       "  <th>Df Residuals:</th>          <td>    90</td>      <th>  BIC:               </th> <td>  -177.5</td>\n",
       "</tr>\n",
       "<tr>\n",
       "  <th>Df Model:</th>              <td>     9</td>      <th>                     </th>     <td> </td>   \n",
       "</tr>\n",
       "<tr>\n",
       "  <th>Covariance Type:</th>      <td>nonrobust</td>    <th>                     </th>     <td> </td>   \n",
       "</tr>\n",
       "</table>\n",
       "<table class=\"simpletable\">\n",
       "<tr>\n",
       "          <td></td>            <th>coef</th>     <th>std err</th>      <th>t</th>      <th>P>|t|</th>  <th>[0.025</th>    <th>0.975]</th>  \n",
       "</tr>\n",
       "<tr>\n",
       "  <th>const</th>            <td>   -0.3612</td> <td>    0.120</td> <td>   -3.003</td> <td> 0.003</td> <td>   -0.600</td> <td>   -0.122</td>\n",
       "</tr>\n",
       "<tr>\n",
       "  <th>instrumentalness</th> <td>   -0.6052</td> <td>    0.334</td> <td>   -1.810</td> <td> 0.074</td> <td>   -1.269</td> <td>    0.059</td>\n",
       "</tr>\n",
       "<tr>\n",
       "  <th>liveness</th>         <td>   -0.0413</td> <td>    0.108</td> <td>   -0.380</td> <td> 0.704</td> <td>   -0.257</td> <td>    0.174</td>\n",
       "</tr>\n",
       "<tr>\n",
       "  <th>valence</th>          <td>    0.0145</td> <td>    0.049</td> <td>    0.294</td> <td> 0.769</td> <td>   -0.084</td> <td>    0.113</td>\n",
       "</tr>\n",
       "<tr>\n",
       "  <th>tempo</th>            <td>    0.0006</td> <td>    0.000</td> <td>    1.656</td> <td> 0.101</td> <td>   -0.000</td> <td>    0.001</td>\n",
       "</tr>\n",
       "<tr>\n",
       "  <th>loudness</th>         <td>   -0.0333</td> <td>    0.007</td> <td>   -4.678</td> <td> 0.000</td> <td>   -0.047</td> <td>   -0.019</td>\n",
       "</tr>\n",
       "<tr>\n",
       "  <th>key</th>              <td>    0.0008</td> <td>    0.002</td> <td>    0.338</td> <td> 0.736</td> <td>   -0.004</td> <td>    0.005</td>\n",
       "</tr>\n",
       "<tr>\n",
       "  <th>acousticness</th>     <td>   -0.0495</td> <td>    0.055</td> <td>   -0.893</td> <td> 0.374</td> <td>   -0.160</td> <td>    0.061</td>\n",
       "</tr>\n",
       "<tr>\n",
       "  <th>energy</th>           <td>    0.1600</td> <td>    0.093</td> <td>    1.716</td> <td> 0.090</td> <td>   -0.025</td> <td>    0.345</td>\n",
       "</tr>\n",
       "<tr>\n",
       "  <th>danceability</th>     <td>    0.1567</td> <td>    0.080</td> <td>    1.964</td> <td> 0.053</td> <td>   -0.002</td> <td>    0.315</td>\n",
       "</tr>\n",
       "</table>\n",
       "<table class=\"simpletable\">\n",
       "<tr>\n",
       "  <th>Omnibus:</th>       <td>12.748</td> <th>  Durbin-Watson:     </th> <td>   1.910</td>\n",
       "</tr>\n",
       "<tr>\n",
       "  <th>Prob(Omnibus):</th> <td> 0.002</td> <th>  Jarque-Bera (JB):  </th> <td>  13.616</td>\n",
       "</tr>\n",
       "<tr>\n",
       "  <th>Skew:</th>          <td> 0.794</td> <th>  Prob(JB):          </th> <td> 0.00110</td>\n",
       "</tr>\n",
       "<tr>\n",
       "  <th>Kurtosis:</th>      <td> 3.864</td> <th>  Cond. No.          </th> <td>4.94e+03</td>\n",
       "</tr>\n",
       "</table>"
      ],
      "text/plain": [
       "<class 'statsmodels.iolib.summary.Summary'>\n",
       "\"\"\"\n",
       "                            OLS Regression Results                            \n",
       "==============================================================================\n",
       "Dep. Variable:            speechiness   R-squared:                       0.301\n",
       "Model:                            OLS   Adj. R-squared:                  0.231\n",
       "Method:                 Least Squares   F-statistic:                     4.300\n",
       "Date:                Thu, 22 Nov 2018   Prob (F-statistic):           0.000114\n",
       "Time:                        08:40:10   Log-Likelihood:                 111.76\n",
       "No. Observations:                 100   AIC:                            -203.5\n",
       "Df Residuals:                      90   BIC:                            -177.5\n",
       "Df Model:                           9                                         \n",
       "Covariance Type:            nonrobust                                         \n",
       "====================================================================================\n",
       "                       coef    std err          t      P>|t|      [0.025      0.975]\n",
       "------------------------------------------------------------------------------------\n",
       "const               -0.3612      0.120     -3.003      0.003      -0.600      -0.122\n",
       "instrumentalness    -0.6052      0.334     -1.810      0.074      -1.269       0.059\n",
       "liveness            -0.0413      0.108     -0.380      0.704      -0.257       0.174\n",
       "valence              0.0145      0.049      0.294      0.769      -0.084       0.113\n",
       "tempo                0.0006      0.000      1.656      0.101      -0.000       0.001\n",
       "loudness            -0.0333      0.007     -4.678      0.000      -0.047      -0.019\n",
       "key                  0.0008      0.002      0.338      0.736      -0.004       0.005\n",
       "acousticness        -0.0495      0.055     -0.893      0.374      -0.160       0.061\n",
       "energy               0.1600      0.093      1.716      0.090      -0.025       0.345\n",
       "danceability         0.1567      0.080      1.964      0.053      -0.002       0.315\n",
       "==============================================================================\n",
       "Omnibus:                       12.748   Durbin-Watson:                   1.910\n",
       "Prob(Omnibus):                  0.002   Jarque-Bera (JB):               13.616\n",
       "Skew:                           0.794   Prob(JB):                      0.00110\n",
       "Kurtosis:                       3.864   Cond. No.                     4.94e+03\n",
       "==============================================================================\n",
       "\n",
       "Warnings:\n",
       "[1] Standard Errors assume that the covariance matrix of the errors is correctly specified.\n",
       "[2] The condition number is large, 4.94e+03. This might indicate that there are\n",
       "strong multicollinearity or other numerical problems.\n",
       "\"\"\""
      ]
     },
     "execution_count": 18,
     "metadata": {},
     "output_type": "execute_result"
    }
   ],
   "source": [
    "re = regre(dados.loc[:, quant3], dados.speechiness)\n",
    "re.summary()"
   ]
  },
  {
   "cell_type": "code",
   "execution_count": 19,
   "metadata": {},
   "outputs": [
    {
     "data": {
      "image/png": "[encoded data removed]",
      "text/plain": [
       "<matplotlib.figure.Figure at 0x1fcca54c908>"
      ]
     },
     "metadata": {},
     "output_type": "display_data"
    }
   ],
   "source": [
    "probplot(dados.speechiness, dist='norm', plot=plt);"
   ]
  },
  {
   "cell_type": "markdown",
   "metadata": {},
   "source": [
    "Quarta variavel a ser analisada: instrumentalness"
   ]
  },
  {
   "cell_type": "code",
   "execution_count": 20,
   "metadata": {},
   "outputs": [],
   "source": [
    "quant4 = [ 'liveness', 'valence', 'tempo', 'loudness','key','acousticness', 'energy', 'danceability', 'speechiness']"
   ]
  },
  {
   "cell_type": "code",
   "execution_count": 21,
   "metadata": {},
   "outputs": [],
   "source": [
    "quant4_x = quant4.copy()"
   ]
  },
  {
   "cell_type": "code",
   "execution_count": 22,
   "metadata": {},
   "outputs": [
    {
     "data": {
      "text/html": [
       "<table class=\"simpletable\">\n",
       "<caption>OLS Regression Results</caption>\n",
       "<tr>\n",
       "  <th>Dep. Variable:</th>    <td>instrumentalness</td> <th>  R-squared:         </th> <td>   0.105</td>\n",
       "</tr>\n",
       "<tr>\n",
       "  <th>Model:</th>                   <td>OLS</td>       <th>  Adj. R-squared:    </th> <td>   0.016</td>\n",
       "</tr>\n",
       "<tr>\n",
       "  <th>Method:</th>             <td>Least Squares</td>  <th>  F-statistic:       </th> <td>   1.175</td>\n",
       "</tr>\n",
       "<tr>\n",
       "  <th>Date:</th>             <td>Thu, 22 Nov 2018</td> <th>  Prob (F-statistic):</th>  <td> 0.321</td> \n",
       "</tr>\n",
       "<tr>\n",
       "  <th>Time:</th>                 <td>08:43:08</td>     <th>  Log-Likelihood:    </th> <td>  228.98</td>\n",
       "</tr>\n",
       "<tr>\n",
       "  <th>No. Observations:</th>      <td>   100</td>      <th>  AIC:               </th> <td>  -438.0</td>\n",
       "</tr>\n",
       "<tr>\n",
       "  <th>Df Residuals:</th>          <td>    90</td>      <th>  BIC:               </th> <td>  -411.9</td>\n",
       "</tr>\n",
       "<tr>\n",
       "  <th>Df Model:</th>              <td>     9</td>      <th>                     </th>     <td> </td>   \n",
       "</tr>\n",
       "<tr>\n",
       "  <th>Covariance Type:</th>      <td>nonrobust</td>    <th>                     </th>     <td> </td>   \n",
       "</tr>\n",
       "</table>\n",
       "<table class=\"simpletable\">\n",
       "<tr>\n",
       "        <td></td>          <th>coef</th>     <th>std err</th>      <th>t</th>      <th>P>|t|</th>  <th>[0.025</th>    <th>0.975]</th>  \n",
       "</tr>\n",
       "<tr>\n",
       "  <th>const</th>        <td>   -0.0821</td> <td>    0.038</td> <td>   -2.155</td> <td> 0.034</td> <td>   -0.158</td> <td>   -0.006</td>\n",
       "</tr>\n",
       "<tr>\n",
       "  <th>liveness</th>     <td>   -0.0266</td> <td>    0.033</td> <td>   -0.795</td> <td> 0.429</td> <td>   -0.093</td> <td>    0.040</td>\n",
       "</tr>\n",
       "<tr>\n",
       "  <th>valence</th>      <td>   -0.0059</td> <td>    0.015</td> <td>   -0.384</td> <td> 0.702</td> <td>   -0.036</td> <td>    0.024</td>\n",
       "</tr>\n",
       "<tr>\n",
       "  <th>tempo</th>        <td>    0.0001</td> <td>    0.000</td> <td>    1.282</td> <td> 0.203</td> <td>-7.54e-05</td> <td>    0.000</td>\n",
       "</tr>\n",
       "<tr>\n",
       "  <th>loudness</th>     <td>   -0.0052</td> <td>    0.002</td> <td>   -2.185</td> <td> 0.032</td> <td>   -0.010</td> <td>   -0.000</td>\n",
       "</tr>\n",
       "<tr>\n",
       "  <th>key</th>          <td>   -0.0005</td> <td>    0.001</td> <td>   -0.775</td> <td> 0.440</td> <td>   -0.002</td> <td>    0.001</td>\n",
       "</tr>\n",
       "<tr>\n",
       "  <th>acousticness</th> <td>   -0.0042</td> <td>    0.017</td> <td>   -0.243</td> <td> 0.808</td> <td>   -0.038</td> <td>    0.030</td>\n",
       "</tr>\n",
       "<tr>\n",
       "  <th>energy</th>       <td>    0.0636</td> <td>    0.029</td> <td>    2.225</td> <td> 0.029</td> <td>    0.007</td> <td>    0.120</td>\n",
       "</tr>\n",
       "<tr>\n",
       "  <th>danceability</th> <td>    0.0227</td> <td>    0.025</td> <td>    0.903</td> <td> 0.369</td> <td>   -0.027</td> <td>    0.073</td>\n",
       "</tr>\n",
       "<tr>\n",
       "  <th>speechiness</th>  <td>   -0.0580</td> <td>    0.032</td> <td>   -1.810</td> <td> 0.074</td> <td>   -0.122</td> <td>    0.006</td>\n",
       "</tr>\n",
       "</table>\n",
       "<table class=\"simpletable\">\n",
       "<tr>\n",
       "  <th>Omnibus:</th>       <td>152.231</td> <th>  Durbin-Watson:     </th> <td>   1.910</td>\n",
       "</tr>\n",
       "<tr>\n",
       "  <th>Prob(Omnibus):</th> <td> 0.000</td>  <th>  Jarque-Bera (JB):  </th> <td>6161.021</td>\n",
       "</tr>\n",
       "<tr>\n",
       "  <th>Skew:</th>          <td> 5.623</td>  <th>  Prob(JB):          </th> <td>    0.00</td>\n",
       "</tr>\n",
       "<tr>\n",
       "  <th>Kurtosis:</th>      <td>39.772</td>  <th>  Cond. No.          </th> <td>2.27e+03</td>\n",
       "</tr>\n",
       "</table>"
      ],
      "text/plain": [
       "<class 'statsmodels.iolib.summary.Summary'>\n",
       "\"\"\"\n",
       "                            OLS Regression Results                            \n",
       "==============================================================================\n",
       "Dep. Variable:       instrumentalness   R-squared:                       0.105\n",
       "Model:                            OLS   Adj. R-squared:                  0.016\n",
       "Method:                 Least Squares   F-statistic:                     1.175\n",
       "Date:                Thu, 22 Nov 2018   Prob (F-statistic):              0.321\n",
       "Time:                        08:43:08   Log-Likelihood:                 228.98\n",
       "No. Observations:                 100   AIC:                            -438.0\n",
       "Df Residuals:                      90   BIC:                            -411.9\n",
       "Df Model:                           9                                         \n",
       "Covariance Type:            nonrobust                                         \n",
       "================================================================================\n",
       "                   coef    std err          t      P>|t|      [0.025      0.975]\n",
       "--------------------------------------------------------------------------------\n",
       "const           -0.0821      0.038     -2.155      0.034      -0.158      -0.006\n",
       "liveness        -0.0266      0.033     -0.795      0.429      -0.093       0.040\n",
       "valence         -0.0059      0.015     -0.384      0.702      -0.036       0.024\n",
       "tempo            0.0001      0.000      1.282      0.203   -7.54e-05       0.000\n",
       "loudness        -0.0052      0.002     -2.185      0.032      -0.010      -0.000\n",
       "key             -0.0005      0.001     -0.775      0.440      -0.002       0.001\n",
       "acousticness    -0.0042      0.017     -0.243      0.808      -0.038       0.030\n",
       "energy           0.0636      0.029      2.225      0.029       0.007       0.120\n",
       "danceability     0.0227      0.025      0.903      0.369      -0.027       0.073\n",
       "speechiness     -0.0580      0.032     -1.810      0.074      -0.122       0.006\n",
       "==============================================================================\n",
       "Omnibus:                      152.231   Durbin-Watson:                   1.910\n",
       "Prob(Omnibus):                  0.000   Jarque-Bera (JB):             6161.021\n",
       "Skew:                           5.623   Prob(JB):                         0.00\n",
       "Kurtosis:                      39.772   Cond. No.                     2.27e+03\n",
       "==============================================================================\n",
       "\n",
       "Warnings:\n",
       "[1] Standard Errors assume that the covariance matrix of the errors is correctly specified.\n",
       "[2] The condition number is large, 2.27e+03. This might indicate that there are\n",
       "strong multicollinearity or other numerical problems.\n",
       "\"\"\""
      ]
     },
     "execution_count": 22,
     "metadata": {},
     "output_type": "execute_result"
    }
   ],
   "source": [
    "re = regre(dados.loc[:, quant4], dados.instrumentalness)\n",
    "re.summary()"
   ]
  },
  {
   "cell_type": "code",
   "execution_count": 23,
   "metadata": {},
   "outputs": [
    {
     "data": {
      "image/png": "[encoded data removed]",
      "text/plain": [
       "<matplotlib.figure.Figure at 0x1fccb0aff60>"
      ]
     },
     "metadata": {},
     "output_type": "display_data"
    }
   ],
   "source": [
    "probplot(dados.instrumentalness, dist='norm', plot=plt);"
   ]
  },
  {
   "cell_type": "markdown",
   "metadata": {},
   "source": [
    "Quinta variavel a ser analisada: liveness"
   ]
  },
  {
   "cell_type": "code",
   "execution_count": 24,
   "metadata": {},
   "outputs": [],
   "source": [
    "quant5 = [ 'valence', 'tempo', 'loudness','key','acousticness', 'energy', 'danceability', 'speechiness', 'instrumentalness']"
   ]
  },
  {
   "cell_type": "code",
   "execution_count": 25,
   "metadata": {},
   "outputs": [],
   "source": [
    "quant5_x = quant5.copy()"
   ]
  },
  {
   "cell_type": "code",
   "execution_count": 26,
   "metadata": {},
   "outputs": [
    {
     "data": {
      "text/html": [
       "<table class=\"simpletable\">\n",
       "<caption>OLS Regression Results</caption>\n",
       "<tr>\n",
       "  <th>Dep. Variable:</th>        <td>liveness</td>     <th>  R-squared:         </th> <td>   0.044</td>\n",
       "</tr>\n",
       "<tr>\n",
       "  <th>Model:</th>                   <td>OLS</td>       <th>  Adj. R-squared:    </th> <td>  -0.051</td>\n",
       "</tr>\n",
       "<tr>\n",
       "  <th>Method:</th>             <td>Least Squares</td>  <th>  F-statistic:       </th> <td>  0.4623</td>\n",
       "</tr>\n",
       "<tr>\n",
       "  <th>Date:</th>             <td>Thu, 22 Nov 2018</td> <th>  Prob (F-statistic):</th>  <td> 0.896</td> \n",
       "</tr>\n",
       "<tr>\n",
       "  <th>Time:</th>                 <td>08:54:42</td>     <th>  Log-Likelihood:    </th> <td>  114.69</td>\n",
       "</tr>\n",
       "<tr>\n",
       "  <th>No. Observations:</th>      <td>   100</td>      <th>  AIC:               </th> <td>  -209.4</td>\n",
       "</tr>\n",
       "<tr>\n",
       "  <th>Df Residuals:</th>          <td>    90</td>      <th>  BIC:               </th> <td>  -183.3</td>\n",
       "</tr>\n",
       "<tr>\n",
       "  <th>Df Model:</th>              <td>     9</td>      <th>                     </th>     <td> </td>   \n",
       "</tr>\n",
       "<tr>\n",
       "  <th>Covariance Type:</th>      <td>nonrobust</td>    <th>                     </th>     <td> </td>   \n",
       "</tr>\n",
       "</table>\n",
       "<table class=\"simpletable\">\n",
       "<tr>\n",
       "          <td></td>            <th>coef</th>     <th>std err</th>      <th>t</th>      <th>P>|t|</th>  <th>[0.025</th>    <th>0.975]</th>  \n",
       "</tr>\n",
       "<tr>\n",
       "  <th>const</th>            <td>    0.0549</td> <td>    0.122</td> <td>    0.448</td> <td> 0.655</td> <td>   -0.188</td> <td>    0.298</td>\n",
       "</tr>\n",
       "<tr>\n",
       "  <th>valence</th>          <td>   -0.0024</td> <td>    0.048</td> <td>   -0.049</td> <td> 0.961</td> <td>   -0.098</td> <td>    0.093</td>\n",
       "</tr>\n",
       "<tr>\n",
       "  <th>tempo</th>            <td> 3.755e-05</td> <td>    0.000</td> <td>    0.111</td> <td> 0.912</td> <td>   -0.001</td> <td>    0.001</td>\n",
       "</tr>\n",
       "<tr>\n",
       "  <th>loudness</th>         <td>   -0.0058</td> <td>    0.008</td> <td>   -0.755</td> <td> 0.452</td> <td>   -0.021</td> <td>    0.009</td>\n",
       "</tr>\n",
       "<tr>\n",
       "  <th>key</th>              <td>   -0.0007</td> <td>    0.002</td> <td>   -0.300</td> <td> 0.765</td> <td>   -0.005</td> <td>    0.004</td>\n",
       "</tr>\n",
       "<tr>\n",
       "  <th>acousticness</th>     <td>   -0.0497</td> <td>    0.054</td> <td>   -0.924</td> <td> 0.358</td> <td>   -0.157</td> <td>    0.057</td>\n",
       "</tr>\n",
       "<tr>\n",
       "  <th>energy</th>           <td>    0.1229</td> <td>    0.091</td> <td>    1.349</td> <td> 0.181</td> <td>   -0.058</td> <td>    0.304</td>\n",
       "</tr>\n",
       "<tr>\n",
       "  <th>danceability</th>     <td>   -0.0060</td> <td>    0.079</td> <td>   -0.076</td> <td> 0.939</td> <td>   -0.163</td> <td>    0.151</td>\n",
       "</tr>\n",
       "<tr>\n",
       "  <th>speechiness</th>      <td>   -0.0389</td> <td>    0.102</td> <td>   -0.380</td> <td> 0.704</td> <td>   -0.242</td> <td>    0.164</td>\n",
       "</tr>\n",
       "<tr>\n",
       "  <th>instrumentalness</th> <td>   -0.2619</td> <td>    0.329</td> <td>   -0.795</td> <td> 0.429</td> <td>   -0.916</td> <td>    0.392</td>\n",
       "</tr>\n",
       "</table>\n",
       "<table class=\"simpletable\">\n",
       "<tr>\n",
       "  <th>Omnibus:</th>       <td>23.797</td> <th>  Durbin-Watson:     </th> <td>   1.853</td>\n",
       "</tr>\n",
       "<tr>\n",
       "  <th>Prob(Omnibus):</th> <td> 0.000</td> <th>  Jarque-Bera (JB):  </th> <td>  31.667</td>\n",
       "</tr>\n",
       "<tr>\n",
       "  <th>Skew:</th>          <td> 1.204</td> <th>  Prob(JB):          </th> <td>1.33e-07</td>\n",
       "</tr>\n",
       "<tr>\n",
       "  <th>Kurtosis:</th>      <td> 4.343</td> <th>  Cond. No.          </th> <td>5.03e+03</td>\n",
       "</tr>\n",
       "</table>"
      ],
      "text/plain": [
       "<class 'statsmodels.iolib.summary.Summary'>\n",
       "\"\"\"\n",
       "                            OLS Regression Results                            \n",
       "==============================================================================\n",
       "Dep. Variable:               liveness   R-squared:                       0.044\n",
       "Model:                            OLS   Adj. R-squared:                 -0.051\n",
       "Method:                 Least Squares   F-statistic:                    0.4623\n",
       "Date:                Thu, 22 Nov 2018   Prob (F-statistic):              0.896\n",
       "Time:                        08:54:42   Log-Likelihood:                 114.69\n",
       "No. Observations:                 100   AIC:                            -209.4\n",
       "Df Residuals:                      90   BIC:                            -183.3\n",
       "Df Model:                           9                                         \n",
       "Covariance Type:            nonrobust                                         \n",
       "====================================================================================\n",
       "                       coef    std err          t      P>|t|      [0.025      0.975]\n",
       "------------------------------------------------------------------------------------\n",
       "const                0.0549      0.122      0.448      0.655      -0.188       0.298\n",
       "valence             -0.0024      0.048     -0.049      0.961      -0.098       0.093\n",
       "tempo             3.755e-05      0.000      0.111      0.912      -0.001       0.001\n",
       "loudness            -0.0058      0.008     -0.755      0.452      -0.021       0.009\n",
       "key                 -0.0007      0.002     -0.300      0.765      -0.005       0.004\n",
       "acousticness        -0.0497      0.054     -0.924      0.358      -0.157       0.057\n",
       "energy               0.1229      0.091      1.349      0.181      -0.058       0.304\n",
       "danceability        -0.0060      0.079     -0.076      0.939      -0.163       0.151\n",
       "speechiness         -0.0389      0.102     -0.380      0.704      -0.242       0.164\n",
       "instrumentalness    -0.2619      0.329     -0.795      0.429      -0.916       0.392\n",
       "==============================================================================\n",
       "Omnibus:                       23.797   Durbin-Watson:                   1.853\n",
       "Prob(Omnibus):                  0.000   Jarque-Bera (JB):               31.667\n",
       "Skew:                           1.204   Prob(JB):                     1.33e-07\n",
       "Kurtosis:                       4.343   Cond. No.                     5.03e+03\n",
       "==============================================================================\n",
       "\n",
       "Warnings:\n",
       "[1] Standard Errors assume that the covariance matrix of the errors is correctly specified.\n",
       "[2] The condition number is large, 5.03e+03. This might indicate that there are\n",
       "strong multicollinearity or other numerical problems.\n",
       "\"\"\""
      ]
     },
     "execution_count": 26,
     "metadata": {},
     "output_type": "execute_result"
    }
   ],
   "source": [
    "re = regre(dados.loc[:, quant5], dados.liveness)\n",
    "re.summary()"
   ]
  },
  {
   "cell_type": "code",
   "execution_count": 27,
   "metadata": {},
   "outputs": [
    {
     "data": {
      "image/png": "[encoded data removed]",
      "text/plain": [
       "<matplotlib.figure.Figure at 0x1fccb12ce48>"
      ]
     },
     "metadata": {},
     "output_type": "display_data"
    }
   ],
   "source": [
    "probplot(dados.liveness, dist='norm', plot=plt);"
   ]
  },
  {
   "cell_type": "markdown",
   "metadata": {},
   "source": [
    "Sexta variavel a ser analisada: valence"
   ]
  },
  {
   "cell_type": "code",
   "execution_count": 28,
   "metadata": {},
   "outputs": [],
   "source": [
    "quant6 = [ 'tempo', 'loudness','key','acousticness', 'energy', 'danceability', 'speechiness', 'liveness']"
   ]
  },
  {
   "cell_type": "code",
   "execution_count": 29,
   "metadata": {},
   "outputs": [],
   "source": [
    "quant6_x = quant6.copy()"
   ]
  },
  {
   "cell_type": "code",
   "execution_count": 30,
   "metadata": {},
   "outputs": [
    {
     "data": {
      "text/html": [
       "<table class=\"simpletable\">\n",
       "<caption>OLS Regression Results</caption>\n",
       "<tr>\n",
       "  <th>Dep. Variable:</th>         <td>valence</td>     <th>  R-squared:         </th> <td>   0.383</td>\n",
       "</tr>\n",
       "<tr>\n",
       "  <th>Model:</th>                   <td>OLS</td>       <th>  Adj. R-squared:    </th> <td>   0.329</td>\n",
       "</tr>\n",
       "<tr>\n",
       "  <th>Method:</th>             <td>Least Squares</td>  <th>  F-statistic:       </th> <td>   7.060</td>\n",
       "</tr>\n",
       "<tr>\n",
       "  <th>Date:</th>             <td>Thu, 22 Nov 2018</td> <th>  Prob (F-statistic):</th> <td>3.21e-07</td>\n",
       "</tr>\n",
       "<tr>\n",
       "  <th>Time:</th>                 <td>08:57:37</td>     <th>  Log-Likelihood:    </th> <td>  35.796</td>\n",
       "</tr>\n",
       "<tr>\n",
       "  <th>No. Observations:</th>      <td>   100</td>      <th>  AIC:               </th> <td>  -53.59</td>\n",
       "</tr>\n",
       "<tr>\n",
       "  <th>Df Residuals:</th>          <td>    91</td>      <th>  BIC:               </th> <td>  -30.14</td>\n",
       "</tr>\n",
       "<tr>\n",
       "  <th>Df Model:</th>              <td>     8</td>      <th>                     </th>     <td> </td>   \n",
       "</tr>\n",
       "<tr>\n",
       "  <th>Covariance Type:</th>      <td>nonrobust</td>    <th>                     </th>     <td> </td>   \n",
       "</tr>\n",
       "</table>\n",
       "<table class=\"simpletable\">\n",
       "<tr>\n",
       "        <td></td>          <th>coef</th>     <th>std err</th>      <th>t</th>      <th>P>|t|</th>  <th>[0.025</th>    <th>0.975]</th>  \n",
       "</tr>\n",
       "<tr>\n",
       "  <th>const</th>        <td>    0.0606</td> <td>    0.261</td> <td>    0.232</td> <td> 0.817</td> <td>   -0.459</td> <td>    0.580</td>\n",
       "</tr>\n",
       "<tr>\n",
       "  <th>tempo</th>        <td>   -0.0006</td> <td>    0.001</td> <td>   -0.858</td> <td> 0.393</td> <td>   -0.002</td> <td>    0.001</td>\n",
       "</tr>\n",
       "<tr>\n",
       "  <th>loudness</th>     <td>    0.0331</td> <td>    0.016</td> <td>    2.063</td> <td> 0.042</td> <td>    0.001</td> <td>    0.065</td>\n",
       "</tr>\n",
       "<tr>\n",
       "  <th>key</th>          <td>  6.09e-05</td> <td>    0.005</td> <td>    0.013</td> <td> 0.990</td> <td>   -0.010</td> <td>    0.010</td>\n",
       "</tr>\n",
       "<tr>\n",
       "  <th>acousticness</th> <td>    0.2442</td> <td>    0.116</td> <td>    2.114</td> <td> 0.037</td> <td>    0.015</td> <td>    0.474</td>\n",
       "</tr>\n",
       "<tr>\n",
       "  <th>energy</th>       <td>    0.3202</td> <td>    0.193</td> <td>    1.657</td> <td> 0.101</td> <td>   -0.064</td> <td>    0.704</td>\n",
       "</tr>\n",
       "<tr>\n",
       "  <th>danceability</th> <td>    0.6570</td> <td>    0.158</td> <td>    4.154</td> <td> 0.000</td> <td>    0.343</td> <td>    0.971</td>\n",
       "</tr>\n",
       "<tr>\n",
       "  <th>speechiness</th>  <td>    0.0825</td> <td>    0.220</td> <td>    0.375</td> <td> 0.709</td> <td>   -0.354</td> <td>    0.519</td>\n",
       "</tr>\n",
       "<tr>\n",
       "  <th>liveness</th>     <td>   -0.0040</td> <td>    0.230</td> <td>   -0.017</td> <td> 0.986</td> <td>   -0.461</td> <td>    0.453</td>\n",
       "</tr>\n",
       "</table>\n",
       "<table class=\"simpletable\">\n",
       "<tr>\n",
       "  <th>Omnibus:</th>       <td> 0.492</td> <th>  Durbin-Watson:     </th> <td>   1.810</td>\n",
       "</tr>\n",
       "<tr>\n",
       "  <th>Prob(Omnibus):</th> <td> 0.782</td> <th>  Jarque-Bera (JB):  </th> <td>   0.227</td>\n",
       "</tr>\n",
       "<tr>\n",
       "  <th>Skew:</th>          <td> 0.106</td> <th>  Prob(JB):          </th> <td>   0.893</td>\n",
       "</tr>\n",
       "<tr>\n",
       "  <th>Kurtosis:</th>      <td> 3.099</td> <th>  Cond. No.          </th> <td>2.26e+03</td>\n",
       "</tr>\n",
       "</table>"
      ],
      "text/plain": [
       "<class 'statsmodels.iolib.summary.Summary'>\n",
       "\"\"\"\n",
       "                            OLS Regression Results                            \n",
       "==============================================================================\n",
       "Dep. Variable:                valence   R-squared:                       0.383\n",
       "Model:                            OLS   Adj. R-squared:                  0.329\n",
       "Method:                 Least Squares   F-statistic:                     7.060\n",
       "Date:                Thu, 22 Nov 2018   Prob (F-statistic):           3.21e-07\n",
       "Time:                        08:57:37   Log-Likelihood:                 35.796\n",
       "No. Observations:                 100   AIC:                            -53.59\n",
       "Df Residuals:                      91   BIC:                            -30.14\n",
       "Df Model:                           8                                         \n",
       "Covariance Type:            nonrobust                                         \n",
       "================================================================================\n",
       "                   coef    std err          t      P>|t|      [0.025      0.975]\n",
       "--------------------------------------------------------------------------------\n",
       "const            0.0606      0.261      0.232      0.817      -0.459       0.580\n",
       "tempo           -0.0006      0.001     -0.858      0.393      -0.002       0.001\n",
       "loudness         0.0331      0.016      2.063      0.042       0.001       0.065\n",
       "key            6.09e-05      0.005      0.013      0.990      -0.010       0.010\n",
       "acousticness     0.2442      0.116      2.114      0.037       0.015       0.474\n",
       "energy           0.3202      0.193      1.657      0.101      -0.064       0.704\n",
       "danceability     0.6570      0.158      4.154      0.000       0.343       0.971\n",
       "speechiness      0.0825      0.220      0.375      0.709      -0.354       0.519\n",
       "liveness        -0.0040      0.230     -0.017      0.986      -0.461       0.453\n",
       "==============================================================================\n",
       "Omnibus:                        0.492   Durbin-Watson:                   1.810\n",
       "Prob(Omnibus):                  0.782   Jarque-Bera (JB):                0.227\n",
       "Skew:                           0.106   Prob(JB):                        0.893\n",
       "Kurtosis:                       3.099   Cond. No.                     2.26e+03\n",
       "==============================================================================\n",
       "\n",
       "Warnings:\n",
       "[1] Standard Errors assume that the covariance matrix of the errors is correctly specified.\n",
       "[2] The condition number is large, 2.26e+03. This might indicate that there are\n",
       "strong multicollinearity or other numerical problems.\n",
       "\"\"\""
      ]
     },
     "execution_count": 30,
     "metadata": {},
     "output_type": "execute_result"
    }
   ],
   "source": [
    "re = regre(dados.loc[:, quant6], dados.valence)\n",
    "re.summary()"
   ]
  },
  {
   "cell_type": "code",
   "execution_count": 32,
   "metadata": {},
   "outputs": [
    {
     "data": {
      "image/png": "[encoded data removed]",
      "text/plain": [
       "<matplotlib.figure.Figure at 0x1fcca565f60>"
      ]
     },
     "metadata": {},
     "output_type": "display_data"
    }
   ],
   "source": [
    "probplot(dados.valence, dist='norm', plot=plt);"
   ]
  },
  {
   "cell_type": "markdown",
   "metadata": {},
   "source": [
    "Setima variavel a ser analisada: tempo "
   ]
  },
  {
   "cell_type": "code",
   "execution_count": 33,
   "metadata": {},
   "outputs": [],
   "source": [
    "quant7 = [ 'loudness','key','acousticness', 'energy', 'danceability', 'speechiness', 'liveness', 'valence']"
   ]
  },
  {
   "cell_type": "code",
   "execution_count": 34,
   "metadata": {},
   "outputs": [],
   "source": [
    "quant7_x = quant7.copy()"
   ]
  },
  {
   "cell_type": "code",
   "execution_count": 35,
   "metadata": {},
   "outputs": [
    {
     "data": {
      "text/html": [
       "<table class=\"simpletable\">\n",
       "<caption>OLS Regression Results</caption>\n",
       "<tr>\n",
       "  <th>Dep. Variable:</th>          <td>tempo</td>      <th>  R-squared:         </th> <td>   0.246</td>\n",
       "</tr>\n",
       "<tr>\n",
       "  <th>Model:</th>                   <td>OLS</td>       <th>  Adj. R-squared:    </th> <td>   0.180</td>\n",
       "</tr>\n",
       "<tr>\n",
       "  <th>Method:</th>             <td>Least Squares</td>  <th>  F-statistic:       </th> <td>   3.715</td>\n",
       "</tr>\n",
       "<tr>\n",
       "  <th>Date:</th>             <td>Thu, 22 Nov 2018</td> <th>  Prob (F-statistic):</th> <td>0.000848</td>\n",
       "</tr>\n",
       "<tr>\n",
       "  <th>Time:</th>                 <td>09:00:46</td>     <th>  Log-Likelihood:    </th> <td> -460.31</td>\n",
       "</tr>\n",
       "<tr>\n",
       "  <th>No. Observations:</th>      <td>   100</td>      <th>  AIC:               </th> <td>   938.6</td>\n",
       "</tr>\n",
       "<tr>\n",
       "  <th>Df Residuals:</th>          <td>    91</td>      <th>  BIC:               </th> <td>   962.1</td>\n",
       "</tr>\n",
       "<tr>\n",
       "  <th>Df Model:</th>              <td>     8</td>      <th>                     </th>     <td> </td>   \n",
       "</tr>\n",
       "<tr>\n",
       "  <th>Covariance Type:</th>      <td>nonrobust</td>    <th>                     </th>     <td> </td>   \n",
       "</tr>\n",
       "</table>\n",
       "<table class=\"simpletable\">\n",
       "<tr>\n",
       "        <td></td>          <th>coef</th>     <th>std err</th>      <th>t</th>      <th>P>|t|</th>  <th>[0.025</th>    <th>0.975]</th>  \n",
       "</tr>\n",
       "<tr>\n",
       "  <th>const</th>        <td>  151.1895</td> <td>   33.801</td> <td>    4.473</td> <td> 0.000</td> <td>   84.047</td> <td>  218.332</td>\n",
       "</tr>\n",
       "<tr>\n",
       "  <th>loudness</th>     <td>   -2.0110</td> <td>    2.334</td> <td>   -0.862</td> <td> 0.391</td> <td>   -6.647</td> <td>    2.625</td>\n",
       "</tr>\n",
       "<tr>\n",
       "  <th>key</th>          <td>   -0.2859</td> <td>    0.691</td> <td>   -0.414</td> <td> 0.680</td> <td>   -1.658</td> <td>    1.086</td>\n",
       "</tr>\n",
       "<tr>\n",
       "  <th>acousticness</th> <td>  -34.7836</td> <td>   16.495</td> <td>   -2.109</td> <td> 0.038</td> <td>  -67.550</td> <td>   -2.018</td>\n",
       "</tr>\n",
       "<tr>\n",
       "  <th>energy</th>       <td>   23.9445</td> <td>   27.881</td> <td>    0.859</td> <td> 0.393</td> <td>  -31.438</td> <td>   79.327</td>\n",
       "</tr>\n",
       "<tr>\n",
       "  <th>danceability</th> <td>  -71.6295</td> <td>   23.452</td> <td>   -3.054</td> <td> 0.003</td> <td> -118.215</td> <td>  -25.045</td>\n",
       "</tr>\n",
       "<tr>\n",
       "  <th>speechiness</th>  <td>   45.2254</td> <td>   31.059</td> <td>    1.456</td> <td> 0.149</td> <td>  -16.470</td> <td>  106.921</td>\n",
       "</tr>\n",
       "<tr>\n",
       "  <th>liveness</th>     <td>    0.1601</td> <td>   32.820</td> <td>    0.005</td> <td> 0.996</td> <td>  -65.033</td> <td>   65.353</td>\n",
       "</tr>\n",
       "<tr>\n",
       "  <th>valence</th>      <td>  -12.7842</td> <td>   14.904</td> <td>   -0.858</td> <td> 0.393</td> <td>  -42.389</td> <td>   16.820</td>\n",
       "</tr>\n",
       "</table>\n",
       "<table class=\"simpletable\">\n",
       "<tr>\n",
       "  <th>Omnibus:</th>       <td> 2.600</td> <th>  Durbin-Watson:     </th> <td>   2.099</td>\n",
       "</tr>\n",
       "<tr>\n",
       "  <th>Prob(Omnibus):</th> <td> 0.273</td> <th>  Jarque-Bera (JB):  </th> <td>   2.257</td>\n",
       "</tr>\n",
       "<tr>\n",
       "  <th>Skew:</th>          <td> 0.367</td> <th>  Prob(JB):          </th> <td>   0.324</td>\n",
       "</tr>\n",
       "<tr>\n",
       "  <th>Kurtosis:</th>      <td> 3.049</td> <th>  Cond. No.          </th> <td>    151.</td>\n",
       "</tr>\n",
       "</table>"
      ],
      "text/plain": [
       "<class 'statsmodels.iolib.summary.Summary'>\n",
       "\"\"\"\n",
       "                            OLS Regression Results                            \n",
       "==============================================================================\n",
       "Dep. Variable:                  tempo   R-squared:                       0.246\n",
       "Model:                            OLS   Adj. R-squared:                  0.180\n",
       "Method:                 Least Squares   F-statistic:                     3.715\n",
       "Date:                Thu, 22 Nov 2018   Prob (F-statistic):           0.000848\n",
       "Time:                        09:00:46   Log-Likelihood:                -460.31\n",
       "No. Observations:                 100   AIC:                             938.6\n",
       "Df Residuals:                      91   BIC:                             962.1\n",
       "Df Model:                           8                                         \n",
       "Covariance Type:            nonrobust                                         \n",
       "================================================================================\n",
       "                   coef    std err          t      P>|t|      [0.025      0.975]\n",
       "--------------------------------------------------------------------------------\n",
       "const          151.1895     33.801      4.473      0.000      84.047     218.332\n",
       "loudness        -2.0110      2.334     -0.862      0.391      -6.647       2.625\n",
       "key             -0.2859      0.691     -0.414      0.680      -1.658       1.086\n",
       "acousticness   -34.7836     16.495     -2.109      0.038     -67.550      -2.018\n",
       "energy          23.9445     27.881      0.859      0.393     -31.438      79.327\n",
       "danceability   -71.6295     23.452     -3.054      0.003    -118.215     -25.045\n",
       "speechiness     45.2254     31.059      1.456      0.149     -16.470     106.921\n",
       "liveness         0.1601     32.820      0.005      0.996     -65.033      65.353\n",
       "valence        -12.7842     14.904     -0.858      0.393     -42.389      16.820\n",
       "==============================================================================\n",
       "Omnibus:                        2.600   Durbin-Watson:                   2.099\n",
       "Prob(Omnibus):                  0.273   Jarque-Bera (JB):                2.257\n",
       "Skew:                           0.367   Prob(JB):                        0.324\n",
       "Kurtosis:                       3.049   Cond. No.                         151.\n",
       "==============================================================================\n",
       "\n",
       "Warnings:\n",
       "[1] Standard Errors assume that the covariance matrix of the errors is correctly specified.\n",
       "\"\"\""
      ]
     },
     "execution_count": 35,
     "metadata": {},
     "output_type": "execute_result"
    }
   ],
   "source": [
    "re = regre(dados.loc[:, quant7], dados.tempo)\n",
    "re.summary()"
   ]
  },
  {
   "cell_type": "code",
   "execution_count": 36,
   "metadata": {},
   "outputs": [
    {
     "data": {
      "image/png": "[encoded data removed]",
      "text/plain": [
       "<matplotlib.figure.Figure at 0x1fccb148e48>"
      ]
     },
     "metadata": {},
     "output_type": "display_data"
    }
   ],
   "source": [
    "probplot(dados.tempo, dist='norm', plot=plt);"
   ]
  },
  {
   "cell_type": "markdown",
   "metadata": {},
   "source": [
    "Oitava variavel a ser analisada: loudness"
   ]
  },
  {
   "cell_type": "code",
   "execution_count": 37,
   "metadata": {},
   "outputs": [],
   "source": [
    "quant8 = [ 'key','acousticness', 'energy', 'danceability', 'speechiness', 'liveness', 'valence', 'tempo']"
   ]
  },
  {
   "cell_type": "code",
   "execution_count": 38,
   "metadata": {},
   "outputs": [],
   "source": [
    "quant8_x = quant8.copy()"
   ]
  },
  {
   "cell_type": "code",
   "execution_count": 39,
   "metadata": {},
   "outputs": [
    {
     "data": {
      "text/html": [
       "<table class=\"simpletable\">\n",
       "<caption>OLS Regression Results</caption>\n",
       "<tr>\n",
       "  <th>Dep. Variable:</th>        <td>loudness</td>     <th>  R-squared:         </th> <td>   0.637</td>\n",
       "</tr>\n",
       "<tr>\n",
       "  <th>Model:</th>                   <td>OLS</td>       <th>  Adj. R-squared:    </th> <td>   0.605</td>\n",
       "</tr>\n",
       "<tr>\n",
       "  <th>Method:</th>             <td>Least Squares</td>  <th>  F-statistic:       </th> <td>   19.97</td>\n",
       "</tr>\n",
       "<tr>\n",
       "  <th>Date:</th>             <td>Thu, 22 Nov 2018</td> <th>  Prob (F-statistic):</th> <td>4.46e-17</td>\n",
       "</tr>\n",
       "<tr>\n",
       "  <th>Time:</th>                 <td>09:02:57</td>     <th>  Log-Likelihood:    </th> <td> -149.60</td>\n",
       "</tr>\n",
       "<tr>\n",
       "  <th>No. Observations:</th>      <td>   100</td>      <th>  AIC:               </th> <td>   317.2</td>\n",
       "</tr>\n",
       "<tr>\n",
       "  <th>Df Residuals:</th>          <td>    91</td>      <th>  BIC:               </th> <td>   340.6</td>\n",
       "</tr>\n",
       "<tr>\n",
       "  <th>Df Model:</th>              <td>     8</td>      <th>                     </th>     <td> </td>   \n",
       "</tr>\n",
       "<tr>\n",
       "  <th>Covariance Type:</th>      <td>nonrobust</td>    <th>                     </th>     <td> </td>   \n",
       "</tr>\n",
       "</table>\n",
       "<table class=\"simpletable\">\n",
       "<tr>\n",
       "        <td></td>          <th>coef</th>     <th>std err</th>      <th>t</th>      <th>P>|t|</th>  <th>[0.025</th>    <th>0.975]</th>  \n",
       "</tr>\n",
       "<tr>\n",
       "  <th>const</th>        <td>  -10.2096</td> <td>    1.282</td> <td>   -7.965</td> <td> 0.000</td> <td>  -12.756</td> <td>   -7.663</td>\n",
       "</tr>\n",
       "<tr>\n",
       "  <th>key</th>          <td>   -0.0268</td> <td>    0.031</td> <td>   -0.869</td> <td> 0.387</td> <td>   -0.088</td> <td>    0.034</td>\n",
       "</tr>\n",
       "<tr>\n",
       "  <th>acousticness</th> <td>   -0.6848</td> <td>    0.752</td> <td>   -0.910</td> <td> 0.365</td> <td>   -2.179</td> <td>    0.809</td>\n",
       "</tr>\n",
       "<tr>\n",
       "  <th>energy</th>       <td>    7.6598</td> <td>    0.961</td> <td>    7.972</td> <td> 0.000</td> <td>    5.751</td> <td>    9.568</td>\n",
       "</tr>\n",
       "<tr>\n",
       "  <th>danceability</th> <td>    0.3664</td> <td>    1.101</td> <td>    0.333</td> <td> 0.740</td> <td>   -1.820</td> <td>    2.553</td>\n",
       "</tr>\n",
       "<tr>\n",
       "  <th>speechiness</th>  <td>   -5.6053</td> <td>    1.277</td> <td>   -4.391</td> <td> 0.000</td> <td>   -8.141</td> <td>   -3.069</td>\n",
       "</tr>\n",
       "<tr>\n",
       "  <th>liveness</th>     <td>   -0.8734</td> <td>    1.465</td> <td>   -0.596</td> <td> 0.553</td> <td>   -3.784</td> <td>    2.037</td>\n",
       "</tr>\n",
       "<tr>\n",
       "  <th>valence</th>      <td>    1.3496</td> <td>    0.654</td> <td>    2.063</td> <td> 0.042</td> <td>    0.050</td> <td>    2.649</td>\n",
       "</tr>\n",
       "<tr>\n",
       "  <th>tempo</th>        <td>   -0.0040</td> <td>    0.005</td> <td>   -0.862</td> <td> 0.391</td> <td>   -0.013</td> <td>    0.005</td>\n",
       "</tr>\n",
       "</table>\n",
       "<table class=\"simpletable\">\n",
       "<tr>\n",
       "  <th>Omnibus:</th>       <td>11.447</td> <th>  Durbin-Watson:     </th> <td>   1.744</td>\n",
       "</tr>\n",
       "<tr>\n",
       "  <th>Prob(Omnibus):</th> <td> 0.003</td> <th>  Jarque-Bera (JB):  </th> <td>  14.264</td>\n",
       "</tr>\n",
       "<tr>\n",
       "  <th>Skew:</th>          <td>-0.599</td> <th>  Prob(JB):          </th> <td>0.000799</td>\n",
       "</tr>\n",
       "<tr>\n",
       "  <th>Kurtosis:</th>      <td> 4.410</td> <th>  Cond. No.          </th> <td>1.83e+03</td>\n",
       "</tr>\n",
       "</table>"
      ],
      "text/plain": [
       "<class 'statsmodels.iolib.summary.Summary'>\n",
       "\"\"\"\n",
       "                            OLS Regression Results                            \n",
       "==============================================================================\n",
       "Dep. Variable:               loudness   R-squared:                       0.637\n",
       "Model:                            OLS   Adj. R-squared:                  0.605\n",
       "Method:                 Least Squares   F-statistic:                     19.97\n",
       "Date:                Thu, 22 Nov 2018   Prob (F-statistic):           4.46e-17\n",
       "Time:                        09:02:57   Log-Likelihood:                -149.60\n",
       "No. Observations:                 100   AIC:                             317.2\n",
       "Df Residuals:                      91   BIC:                             340.6\n",
       "Df Model:                           8                                         \n",
       "Covariance Type:            nonrobust                                         \n",
       "================================================================================\n",
       "                   coef    std err          t      P>|t|      [0.025      0.975]\n",
       "--------------------------------------------------------------------------------\n",
       "const          -10.2096      1.282     -7.965      0.000     -12.756      -7.663\n",
       "key             -0.0268      0.031     -0.869      0.387      -0.088       0.034\n",
       "acousticness    -0.6848      0.752     -0.910      0.365      -2.179       0.809\n",
       "energy           7.6598      0.961      7.972      0.000       5.751       9.568\n",
       "danceability     0.3664      1.101      0.333      0.740      -1.820       2.553\n",
       "speechiness     -5.6053      1.277     -4.391      0.000      -8.141      -3.069\n",
       "liveness        -0.8734      1.465     -0.596      0.553      -3.784       2.037\n",
       "valence          1.3496      0.654      2.063      0.042       0.050       2.649\n",
       "tempo           -0.0040      0.005     -0.862      0.391      -0.013       0.005\n",
       "==============================================================================\n",
       "Omnibus:                       11.447   Durbin-Watson:                   1.744\n",
       "Prob(Omnibus):                  0.003   Jarque-Bera (JB):               14.264\n",
       "Skew:                          -0.599   Prob(JB):                     0.000799\n",
       "Kurtosis:                       4.410   Cond. No.                     1.83e+03\n",
       "==============================================================================\n",
       "\n",
       "Warnings:\n",
       "[1] Standard Errors assume that the covariance matrix of the errors is correctly specified.\n",
       "[2] The condition number is large, 1.83e+03. This might indicate that there are\n",
       "strong multicollinearity or other numerical problems.\n",
       "\"\"\""
      ]
     },
     "execution_count": 39,
     "metadata": {},
     "output_type": "execute_result"
    }
   ],
   "source": [
    "re = regre(dados.loc[:, quant8], dados.loudness)\n",
    "re.summary()"
   ]
  },
  {
   "cell_type": "code",
   "execution_count": 40,
   "metadata": {},
   "outputs": [
    {
     "data": {
      "image/png": "[encoded data removed]",
      "text/plain": [
       "<matplotlib.figure.Figure at 0x1fccb1541d0>"
      ]
     },
     "metadata": {},
     "output_type": "display_data"
    }
   ],
   "source": [
    "probplot(dados.loudness, dist='norm', plot=plt);"
   ]
  },
  {
   "cell_type": "markdown",
   "metadata": {},
   "source": [
    "Nona variavel a ser analisada: key"
   ]
  },
  {
   "cell_type": "code",
   "execution_count": 41,
   "metadata": {},
   "outputs": [],
   "source": [
    "quant9 = [ 'acousticness', 'energy', 'danceability', 'speechiness', 'liveness', 'valence', 'tempo', 'loudness']"
   ]
  },
  {
   "cell_type": "code",
   "execution_count": 42,
   "metadata": {},
   "outputs": [],
   "source": [
    "quant9_x = quant9.copy()"
   ]
  },
  {
   "cell_type": "code",
   "execution_count": 43,
   "metadata": {},
   "outputs": [
    {
     "data": {
      "text/html": [
       "<table class=\"simpletable\">\n",
       "<caption>OLS Regression Results</caption>\n",
       "<tr>\n",
       "  <th>Dep. Variable:</th>           <td>key</td>       <th>  R-squared:         </th> <td>   0.027</td>\n",
       "</tr>\n",
       "<tr>\n",
       "  <th>Model:</th>                   <td>OLS</td>       <th>  Adj. R-squared:    </th> <td>  -0.059</td>\n",
       "</tr>\n",
       "<tr>\n",
       "  <th>Method:</th>             <td>Least Squares</td>  <th>  F-statistic:       </th> <td>  0.3160</td>\n",
       "</tr>\n",
       "<tr>\n",
       "  <th>Date:</th>             <td>Thu, 22 Nov 2018</td> <th>  Prob (F-statistic):</th>  <td> 0.958</td> \n",
       "</tr>\n",
       "<tr>\n",
       "  <th>Time:</th>                 <td>09:04:45</td>     <th>  Log-Likelihood:    </th> <td> -271.70</td>\n",
       "</tr>\n",
       "<tr>\n",
       "  <th>No. Observations:</th>      <td>   100</td>      <th>  AIC:               </th> <td>   561.4</td>\n",
       "</tr>\n",
       "<tr>\n",
       "  <th>Df Residuals:</th>          <td>    91</td>      <th>  BIC:               </th> <td>   584.9</td>\n",
       "</tr>\n",
       "<tr>\n",
       "  <th>Df Model:</th>              <td>     8</td>      <th>                     </th>     <td> </td>   \n",
       "</tr>\n",
       "<tr>\n",
       "  <th>Covariance Type:</th>      <td>nonrobust</td>    <th>                     </th>     <td> </td>   \n",
       "</tr>\n",
       "</table>\n",
       "<table class=\"simpletable\">\n",
       "<tr>\n",
       "        <td></td>          <th>coef</th>     <th>std err</th>      <th>t</th>      <th>P>|t|</th>  <th>[0.025</th>    <th>0.975]</th>  \n",
       "</tr>\n",
       "<tr>\n",
       "  <th>const</th>        <td>    2.9045</td> <td>    5.654</td> <td>    0.514</td> <td> 0.609</td> <td>   -8.326</td> <td>   14.135</td>\n",
       "</tr>\n",
       "<tr>\n",
       "  <th>acousticness</th> <td>    0.7596</td> <td>    2.561</td> <td>    0.297</td> <td> 0.767</td> <td>   -4.327</td> <td>    5.847</td>\n",
       "</tr>\n",
       "<tr>\n",
       "  <th>energy</th>       <td>    4.7252</td> <td>    4.217</td> <td>    1.121</td> <td> 0.265</td> <td>   -3.651</td> <td>   13.101</td>\n",
       "</tr>\n",
       "<tr>\n",
       "  <th>danceability</th> <td>   -2.3245</td> <td>    3.727</td> <td>   -0.624</td> <td> 0.534</td> <td>   -9.727</td> <td>    5.078</td>\n",
       "</tr>\n",
       "<tr>\n",
       "  <th>speechiness</th>  <td>    2.3643</td> <td>    4.759</td> <td>    0.497</td> <td> 0.621</td> <td>   -7.088</td> <td>   11.817</td>\n",
       "</tr>\n",
       "<tr>\n",
       "  <th>liveness</th>     <td>   -1.1847</td> <td>    4.976</td> <td>   -0.238</td> <td> 0.812</td> <td>  -11.069</td> <td>    8.700</td>\n",
       "</tr>\n",
       "<tr>\n",
       "  <th>valence</th>      <td>    0.0285</td> <td>    2.269</td> <td>    0.013</td> <td> 0.990</td> <td>   -4.480</td> <td>    4.537</td>\n",
       "</tr>\n",
       "<tr>\n",
       "  <th>tempo</th>        <td>   -0.0066</td> <td>    0.016</td> <td>   -0.414</td> <td> 0.680</td> <td>   -0.038</td> <td>    0.025</td>\n",
       "</tr>\n",
       "<tr>\n",
       "  <th>loudness</th>     <td>   -0.3076</td> <td>    0.354</td> <td>   -0.869</td> <td> 0.387</td> <td>   -1.011</td> <td>    0.396</td>\n",
       "</tr>\n",
       "</table>\n",
       "<table class=\"simpletable\">\n",
       "<tr>\n",
       "  <th>Omnibus:</th>       <td>39.211</td> <th>  Durbin-Watson:     </th> <td>   2.081</td>\n",
       "</tr>\n",
       "<tr>\n",
       "  <th>Prob(Omnibus):</th> <td> 0.000</td> <th>  Jarque-Bera (JB):  </th> <td>   6.628</td>\n",
       "</tr>\n",
       "<tr>\n",
       "  <th>Skew:</th>          <td>-0.138</td> <th>  Prob(JB):          </th> <td>  0.0364</td>\n",
       "</tr>\n",
       "<tr>\n",
       "  <th>Kurtosis:</th>      <td> 1.769</td> <th>  Cond. No.          </th> <td>2.27e+03</td>\n",
       "</tr>\n",
       "</table>"
      ],
      "text/plain": [
       "<class 'statsmodels.iolib.summary.Summary'>\n",
       "\"\"\"\n",
       "                            OLS Regression Results                            \n",
       "==============================================================================\n",
       "Dep. Variable:                    key   R-squared:                       0.027\n",
       "Model:                            OLS   Adj. R-squared:                 -0.059\n",
       "Method:                 Least Squares   F-statistic:                    0.3160\n",
       "Date:                Thu, 22 Nov 2018   Prob (F-statistic):              0.958\n",
       "Time:                        09:04:45   Log-Likelihood:                -271.70\n",
       "No. Observations:                 100   AIC:                             561.4\n",
       "Df Residuals:                      91   BIC:                             584.9\n",
       "Df Model:                           8                                         \n",
       "Covariance Type:            nonrobust                                         \n",
       "================================================================================\n",
       "                   coef    std err          t      P>|t|      [0.025      0.975]\n",
       "--------------------------------------------------------------------------------\n",
       "const            2.9045      5.654      0.514      0.609      -8.326      14.135\n",
       "acousticness     0.7596      2.561      0.297      0.767      -4.327       5.847\n",
       "energy           4.7252      4.217      1.121      0.265      -3.651      13.101\n",
       "danceability    -2.3245      3.727     -0.624      0.534      -9.727       5.078\n",
       "speechiness      2.3643      4.759      0.497      0.621      -7.088      11.817\n",
       "liveness        -1.1847      4.976     -0.238      0.812     -11.069       8.700\n",
       "valence          0.0285      2.269      0.013      0.990      -4.480       4.537\n",
       "tempo           -0.0066      0.016     -0.414      0.680      -0.038       0.025\n",
       "loudness        -0.3076      0.354     -0.869      0.387      -1.011       0.396\n",
       "==============================================================================\n",
       "Omnibus:                       39.211   Durbin-Watson:                   2.081\n",
       "Prob(Omnibus):                  0.000   Jarque-Bera (JB):                6.628\n",
       "Skew:                          -0.138   Prob(JB):                       0.0364\n",
       "Kurtosis:                       1.769   Cond. No.                     2.27e+03\n",
       "==============================================================================\n",
       "\n",
       "Warnings:\n",
       "[1] Standard Errors assume that the covariance matrix of the errors is correctly specified.\n",
       "[2] The condition number is large, 2.27e+03. This might indicate that there are\n",
       "strong multicollinearity or other numerical problems.\n",
       "\"\"\""
      ]
     },
     "execution_count": 43,
     "metadata": {},
     "output_type": "execute_result"
    }
   ],
   "source": [
    "re = regre(dados.loc[:, quant9], dados.key)\n",
    "re.summary()"
   ]
  },
  {
   "cell_type": "code",
   "execution_count": 44,
   "metadata": {},
   "outputs": [
    {
     "data": {
      "image/png": "[encoded data removed]",
      "text/plain": [
       "<matplotlib.figure.Figure at 0x1fccb141550>"
      ]
     },
     "metadata": {},
     "output_type": "display_data"
    }
   ],
   "source": [
    "probplot(dados.key, dist='norm', plot=plt);"
   ]
  },
  {
   "cell_type": "markdown",
   "metadata": {},
   "source": [
    "Decima variavel a ser analisada: acousticness"
   ]
  },
  {
   "cell_type": "code",
   "execution_count": 45,
   "metadata": {},
   "outputs": [],
   "source": [
    "quant = [ 'energy', 'danceability', 'speechiness', 'liveness', 'valence', 'tempo', 'loudness', 'key']"
   ]
  },
  {
   "cell_type": "code",
   "execution_count": 46,
   "metadata": {},
   "outputs": [],
   "source": [
    "quant_x = quant.copy()"
   ]
  },
  {
   "cell_type": "code",
   "execution_count": 47,
   "metadata": {},
   "outputs": [
    {
     "data": {
      "text/html": [
       "<table class=\"simpletable\">\n",
       "<caption>OLS Regression Results</caption>\n",
       "<tr>\n",
       "  <th>Dep. Variable:</th>      <td>acousticness</td>   <th>  R-squared:         </th> <td>   0.184</td>\n",
       "</tr>\n",
       "<tr>\n",
       "  <th>Model:</th>                   <td>OLS</td>       <th>  Adj. R-squared:    </th> <td>   0.112</td>\n",
       "</tr>\n",
       "<tr>\n",
       "  <th>Method:</th>             <td>Least Squares</td>  <th>  F-statistic:       </th> <td>   2.568</td>\n",
       "</tr>\n",
       "<tr>\n",
       "  <th>Date:</th>             <td>Thu, 22 Nov 2018</td> <th>  Prob (F-statistic):</th>  <td>0.0142</td> \n",
       "</tr>\n",
       "<tr>\n",
       "  <th>Time:</th>                 <td>09:07:07</td>     <th>  Log-Likelihood:    </th> <td>  47.925</td>\n",
       "</tr>\n",
       "<tr>\n",
       "  <th>No. Observations:</th>      <td>   100</td>      <th>  AIC:               </th> <td>  -77.85</td>\n",
       "</tr>\n",
       "<tr>\n",
       "  <th>Df Residuals:</th>          <td>    91</td>      <th>  BIC:               </th> <td>  -54.40</td>\n",
       "</tr>\n",
       "<tr>\n",
       "  <th>Df Model:</th>              <td>     8</td>      <th>                     </th>     <td> </td>   \n",
       "</tr>\n",
       "<tr>\n",
       "  <th>Covariance Type:</th>      <td>nonrobust</td>    <th>                     </th>     <td> </td>   \n",
       "</tr>\n",
       "</table>\n",
       "<table class=\"simpletable\">\n",
       "<tr>\n",
       "        <td></td>          <th>coef</th>     <th>std err</th>      <th>t</th>      <th>P>|t|</th>  <th>[0.025</th>    <th>0.975]</th>  \n",
       "</tr>\n",
       "<tr>\n",
       "  <th>const</th>        <td>    0.5164</td> <td>    0.225</td> <td>    2.293</td> <td> 0.024</td> <td>    0.069</td> <td>    0.964</td>\n",
       "</tr>\n",
       "<tr>\n",
       "  <th>energy</th>       <td>   -0.2891</td> <td>    0.171</td> <td>   -1.690</td> <td> 0.094</td> <td>   -0.629</td> <td>    0.051</td>\n",
       "</tr>\n",
       "<tr>\n",
       "  <th>danceability</th> <td>   -0.1934</td> <td>    0.151</td> <td>   -1.277</td> <td> 0.205</td> <td>   -0.494</td> <td>    0.107</td>\n",
       "</tr>\n",
       "<tr>\n",
       "  <th>speechiness</th>  <td>   -0.1685</td> <td>    0.194</td> <td>   -0.868</td> <td> 0.388</td> <td>   -0.554</td> <td>    0.217</td>\n",
       "</tr>\n",
       "<tr>\n",
       "  <th>liveness</th>     <td>   -0.1848</td> <td>    0.203</td> <td>   -0.912</td> <td> 0.364</td> <td>   -0.588</td> <td>    0.218</td>\n",
       "</tr>\n",
       "<tr>\n",
       "  <th>valence</th>      <td>    0.1916</td> <td>    0.091</td> <td>    2.114</td> <td> 0.037</td> <td>    0.012</td> <td>    0.372</td>\n",
       "</tr>\n",
       "<tr>\n",
       "  <th>tempo</th>        <td>   -0.0013</td> <td>    0.001</td> <td>   -2.109</td> <td> 0.038</td> <td>   -0.003</td> <td>-7.77e-05</td>\n",
       "</tr>\n",
       "<tr>\n",
       "  <th>loudness</th>     <td>   -0.0132</td> <td>    0.014</td> <td>   -0.910</td> <td> 0.365</td> <td>   -0.042</td> <td>    0.016</td>\n",
       "</tr>\n",
       "<tr>\n",
       "  <th>key</th>          <td>    0.0013</td> <td>    0.004</td> <td>    0.297</td> <td> 0.767</td> <td>   -0.007</td> <td>    0.010</td>\n",
       "</tr>\n",
       "</table>\n",
       "<table class=\"simpletable\">\n",
       "<tr>\n",
       "  <th>Omnibus:</th>       <td> 8.394</td> <th>  Durbin-Watson:     </th> <td>   1.880</td>\n",
       "</tr>\n",
       "<tr>\n",
       "  <th>Prob(Omnibus):</th> <td> 0.015</td> <th>  Jarque-Bera (JB):  </th> <td>   8.461</td>\n",
       "</tr>\n",
       "<tr>\n",
       "  <th>Skew:</th>          <td> 0.709</td> <th>  Prob(JB):          </th> <td>  0.0145</td>\n",
       "</tr>\n",
       "<tr>\n",
       "  <th>Kurtosis:</th>      <td> 3.141</td> <th>  Cond. No.          </th> <td>2.22e+03</td>\n",
       "</tr>\n",
       "</table>"
      ],
      "text/plain": [
       "<class 'statsmodels.iolib.summary.Summary'>\n",
       "\"\"\"\n",
       "                            OLS Regression Results                            \n",
       "==============================================================================\n",
       "Dep. Variable:           acousticness   R-squared:                       0.184\n",
       "Model:                            OLS   Adj. R-squared:                  0.112\n",
       "Method:                 Least Squares   F-statistic:                     2.568\n",
       "Date:                Thu, 22 Nov 2018   Prob (F-statistic):             0.0142\n",
       "Time:                        09:07:07   Log-Likelihood:                 47.925\n",
       "No. Observations:                 100   AIC:                            -77.85\n",
       "Df Residuals:                      91   BIC:                            -54.40\n",
       "Df Model:                           8                                         \n",
       "Covariance Type:            nonrobust                                         \n",
       "================================================================================\n",
       "                   coef    std err          t      P>|t|      [0.025      0.975]\n",
       "--------------------------------------------------------------------------------\n",
       "const            0.5164      0.225      2.293      0.024       0.069       0.964\n",
       "energy          -0.2891      0.171     -1.690      0.094      -0.629       0.051\n",
       "danceability    -0.1934      0.151     -1.277      0.205      -0.494       0.107\n",
       "speechiness     -0.1685      0.194     -0.868      0.388      -0.554       0.217\n",
       "liveness        -0.1848      0.203     -0.912      0.364      -0.588       0.218\n",
       "valence          0.1916      0.091      2.114      0.037       0.012       0.372\n",
       "tempo           -0.0013      0.001     -2.109      0.038      -0.003   -7.77e-05\n",
       "loudness        -0.0132      0.014     -0.910      0.365      -0.042       0.016\n",
       "key              0.0013      0.004      0.297      0.767      -0.007       0.010\n",
       "==============================================================================\n",
       "Omnibus:                        8.394   Durbin-Watson:                   1.880\n",
       "Prob(Omnibus):                  0.015   Jarque-Bera (JB):                8.461\n",
       "Skew:                           0.709   Prob(JB):                       0.0145\n",
       "Kurtosis:                       3.141   Cond. No.                     2.22e+03\n",
       "==============================================================================\n",
       "\n",
       "Warnings:\n",
       "[1] Standard Errors assume that the covariance matrix of the errors is correctly specified.\n",
       "[2] The condition number is large, 2.22e+03. This might indicate that there are\n",
       "strong multicollinearity or other numerical problems.\n",
       "\"\"\""
      ]
     },
     "execution_count": 47,
     "metadata": {},
     "output_type": "execute_result"
    }
   ],
   "source": [
    "re = regre(dados.loc[:, quant], dados.acousticness)\n",
    "re.summary()"
   ]
  },
  {
   "cell_type": "code",
   "execution_count": 48,
   "metadata": {},
   "outputs": [
    {
     "data": {
      "image/png": "[encoded data removed]",
      "text/plain": [
       "<matplotlib.figure.Figure at 0x1fcca5771d0>"
      ]
     },
     "metadata": {},
     "output_type": "display_data"
    }
   ],
   "source": [
    "probplot(dados.acousticness, dist='norm', plot=plt);"
   ]
  }
 ],
 "metadata": {
  "kernelspec": {
   "display_name": "Python 3",
   "language": "python",
   "name": "python3"
  },
  "language_info": {
   "codemirror_mode": {
    "name": "ipython",
    "version": 3
   },
   "file_extension": ".py",
   "mimetype": "text/x-python",
   "name": "python",
   "nbconvert_exporter": "python",
   "pygments_lexer": "ipython3",
   "version": "3.6.4"
  }
 },
 "nbformat": 4,
 "nbformat_minor": 2
}
